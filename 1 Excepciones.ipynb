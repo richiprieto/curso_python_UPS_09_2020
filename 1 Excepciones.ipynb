{
 "cells": [
  {
   "cell_type": "markdown",
   "metadata": {},
   "source": [
    "# Gestión de excepciones.\n",
    "\n",
    "Una de las características más poderosas del lenguaje es la gestión de excepciones. Debido a lo dinámico que puede ser Python es muy común que el intérprete se tope con múltiples fuentes de error.\n",
    "\n",
    "Con Python no sólo es posible identificar y rastrear los errores, sino tomar acciones correctivas y preventivas.\n",
    "\n",
    "## Errores de sintaxis.\n",
    "\n",
    "Los errores sintácticos son los más comunes cuando se  escribe código.\n",
    "\n",
    "Los errores sintácticos ocurren cuando el intérprete encuentra una expresión que no está bien formada (rompe las reglas de sintaxis).\n",
    "\n",
    "**Ejemplo:**"
   ]
  },
  {
   "cell_type": "code",
   "execution_count": 37,
   "metadata": {},
   "outputs": [
    {
     "ename": "SyntaxError",
     "evalue": "Missing parentheses in call to 'print'. Did you mean print(hola)? (<ipython-input-37-2b800cc90c67>, line 1)",
     "output_type": "error",
     "traceback": [
      "\u001b[0;36m  File \u001b[0;32m\"<ipython-input-37-2b800cc90c67>\"\u001b[0;36m, line \u001b[0;32m1\u001b[0m\n\u001b[0;31m    print hola\u001b[0m\n\u001b[0m          ^\u001b[0m\n\u001b[0;31mSyntaxError\u001b[0m\u001b[0;31m:\u001b[0m Missing parentheses in call to 'print'. Did you mean print(hola)?\n"
     ]
    }
   ],
   "source": [
    "print hola"
   ]
  },
  {
   "cell_type": "markdown",
   "metadata": {},
   "source": [
    "## Excepciones.\n",
    "\n",
    "Las excepciones son errores lógicos que detienen la ejecución del programa aún cuando la sintaxis del código sea correcta.\n",
    "\n",
    "**Ejemplo:**"
   ]
  },
  {
   "cell_type": "code",
   "execution_count": 40,
   "metadata": {},
   "outputs": [
    {
     "ename": "NameError",
     "evalue": "name 'Hola' is not defined",
     "output_type": "error",
     "traceback": [
      "\u001b[0;31m---------------------------------------------------------------------------\u001b[0m",
      "\u001b[0;31mNameError\u001b[0m                                 Traceback (most recent call last)",
      "\u001b[0;32m<ipython-input-40-30de09973e79>\u001b[0m in \u001b[0;36m<module>\u001b[0;34m\u001b[0m\n\u001b[0;32m----> 1\u001b[0;31m \u001b[0mprint\u001b[0m\u001b[0;34m(\u001b[0m\u001b[0mHola\u001b[0m\u001b[0;34m)\u001b[0m\u001b[0;34m\u001b[0m\u001b[0;34m\u001b[0m\u001b[0m\n\u001b[0m",
      "\u001b[0;31mNameError\u001b[0m: name 'Hola' is not defined"
     ]
    }
   ],
   "source": [
    "print(Hola)"
   ]
  },
  {
   "cell_type": "markdown",
   "metadata": {},
   "source": [
    "## Análisis de excepciones.\n",
    "\n",
    "A continuación se analizarán algunos tipos de excepciones a partir de un código susceptible de incurrir en varias de ellas.\n",
    "\n",
    "### La función *excepcion_probable()*.\n",
    "\n",
    "Aún cuando la función es muy simple y contiene código sintácticamente correcto, puede generar diversos errores, los cuales serán analizados.\n",
    "\n",
    "**El código:**"
   ]
  },
  {
   "cell_type": "code",
   "execution_count": 44,
   "metadata": {},
   "outputs": [],
   "source": [
    "def excepcion_probable(numero):\n",
    "    \"\"\" Ejemplo de control de excepciones.\n",
    "        Este código es muy fácil de descarrilar.\"\"\"\n",
    "    numero = float(numero)\n",
    "    print(\"La raíz cuadrada del número %f es %f\" % (numero, numero ** 0.5))\n",
    "    print(\"Buen día.\")"
   ]
  },
  {
   "cell_type": "markdown",
   "metadata": {},
   "source": [
    "En caso de ingresar un número real positivo, la función se ejecutará sin problemas."
   ]
  },
  {
   "cell_type": "code",
   "execution_count": 46,
   "metadata": {},
   "outputs": [
    {
     "name": "stdout",
     "output_type": "stream",
     "text": [
      "La raíz cuadrada del número 832.100000 es 28.846144\n",
      "Buen día.\n"
     ]
    }
   ],
   "source": [
    "excepcion_probable(832.1)"
   ]
  },
  {
   "cell_type": "markdown",
   "metadata": {},
   "source": [
    "Lo único que hay que hacer para que ocurra una excepción es ingresar un dato incorrecto:"
   ]
  },
  {
   "cell_type": "code",
   "execution_count": 47,
   "metadata": {
    "scrolled": true
   },
   "outputs": [
    {
     "ename": "NameError",
     "evalue": "name 'Hola' is not defined",
     "output_type": "error",
     "traceback": [
      "\u001b[0;31m---------------------------------------------------------------------------\u001b[0m",
      "\u001b[0;31mNameError\u001b[0m                                 Traceback (most recent call last)",
      "\u001b[0;32m<ipython-input-47-0a9b74a0b538>\u001b[0m in \u001b[0;36m<module>\u001b[0;34m\u001b[0m\n\u001b[0;32m----> 1\u001b[0;31m \u001b[0mexcepcion_probable\u001b[0m\u001b[0;34m(\u001b[0m\u001b[0mHola\u001b[0m\u001b[0;34m)\u001b[0m\u001b[0;34m\u001b[0m\u001b[0;34m\u001b[0m\u001b[0m\n\u001b[0m",
      "\u001b[0;31mNameError\u001b[0m: name 'Hola' is not defined"
     ]
    }
   ],
   "source": [
    "excepcion_probable(Hola)"
   ]
  },
  {
   "cell_type": "markdown",
   "metadata": {},
   "source": [
    "Debido a que se utiliza la función _float()_, el intérprete tratará de convertir en un objeto de tipo _str_ al objeto con el nombre _numero_. El error ocurre debido a que el intérprete identifica un nombre el cual no está definido en el espacio de nombres, por lo que se detiene la ejecución del script y se despliega un mensaje, el cual se analizará a continuación.\n",
    "\n",
    "### Anatomía de un mensaje de error.\n",
    "\n",
    "El mensaje de error de Python se divide en dos partes.\n",
    "\n",
    "#### La ruta del error.\n",
    "``` python\n",
    "Traceback (most recent call last)\n",
    "<ipython-input-10-6b1e64cee778> in <module>()\n",
    "----> 1 excepcion_probable(Hola)\n",
    "```  \n",
    "#### La descripción del error.\n",
    "\n",
    "``` python\n",
    "NameError: name 'Hola' is not defined\n",
    "```\n",
    "### Rastreo del error.\n",
    "\n",
    "Debido a que Python es altamente modular, un error puede desencadenarse en cierto punto, pero ocurrir en otro.\n",
    "Cuando ocurre un error, Python despliega la ruta (traceback) y esta ruta puede implicar a varios módulos.\n",
    "\n",
    "La ruta va en orden descendente desde el punto en el que el error se desencadenó, pasando por varios puntos intermedios -en caso de que los haya- hasta el punto en el que el error ocurrió.\n",
    "\n",
    "En el ejemplo previo, el error se desencadenó en la línea 1 de la ventana que llamaba a la función. El intérprete incluso despliega el contenido de la línea:\n",
    "\n",
    "``` python\n",
    " <ipython-input-10-6b1e64cee778> in <module>()\n",
    "----> 1 excepcion_probable(Hola)\n",
    "```  \n",
    "### Descripción del error.\n",
    "\n",
    "La descripción del error consiste en una sola línea.\n",
    "\n",
    "``` python \n",
    "NameError: name 'Hola' is not defined\n",
    "```\n",
    "\n",
    "La línea a su vez se compone de dos partes:\n",
    "\n",
    "* El tipo de error del que se trata.\n",
    "``` python\n",
    "NameError:\n",
    "```\n",
    "\n",
    "* Una beve explicación de lo que ocurrió:\n",
    "``` python\n",
    "name 'Hola' is not defined\n",
    "```\n",
    "\n",
    "## Tipos de excepciones.\n",
    "\n",
    "Python es capaz de identificar muy diversos tipos de errores a los que corresponden sendas excepciones.\n",
    "\n",
    "Se pueden consultar los diversos tipos de excepciones en la siguiente liga:\n",
    "\n",
    "[https://docs.python.org/3/library/exceptions.html#exception-hierarchy](https://docs.python.org/3/library/exceptions.html#exception-hierarchy)\n",
    "\n",
    "\n",
    "### Posibles tipos de excepciones en la función *excepcion_probable()*.\n",
    "\n",
    "A continuación se ejemplificaran algunas de las excepciones que podrían originarse al correr el script en cuestión.\n",
    "\n",
    "#### _NameError_."
   ]
  },
  {
   "cell_type": "code",
   "execution_count": 48,
   "metadata": {},
   "outputs": [
    {
     "ename": "NameError",
     "evalue": "name 'Hola' is not defined",
     "output_type": "error",
     "traceback": [
      "\u001b[0;31m---------------------------------------------------------------------------\u001b[0m",
      "\u001b[0;31mNameError\u001b[0m                                 Traceback (most recent call last)",
      "\u001b[0;32m<ipython-input-48-0a9b74a0b538>\u001b[0m in \u001b[0;36m<module>\u001b[0;34m\u001b[0m\n\u001b[0;32m----> 1\u001b[0;31m \u001b[0mexcepcion_probable\u001b[0m\u001b[0;34m(\u001b[0m\u001b[0mHola\u001b[0m\u001b[0;34m)\u001b[0m\u001b[0;34m\u001b[0m\u001b[0;34m\u001b[0m\u001b[0m\n\u001b[0m",
      "\u001b[0;31mNameError\u001b[0m: name 'Hola' is not defined"
     ]
    }
   ],
   "source": [
    "excepcion_probable(Hola)"
   ]
  },
  {
   "cell_type": "markdown",
   "metadata": {},
   "source": [
    "En este caso el intérprete no encontró una coincidencia en el espacio de nombres que corresponda con _Hola_ y la excepción se genera antes de invocar a la función."
   ]
  },
  {
   "cell_type": "markdown",
   "metadata": {},
   "source": [
    "#### _TypeError_."
   ]
  },
  {
   "cell_type": "code",
   "execution_count": 49,
   "metadata": {
    "scrolled": true
   },
   "outputs": [
    {
     "ename": "TypeError",
     "evalue": "can't convert complex to float",
     "output_type": "error",
     "traceback": [
      "\u001b[0;31m---------------------------------------------------------------------------\u001b[0m",
      "\u001b[0;31mTypeError\u001b[0m                                 Traceback (most recent call last)",
      "\u001b[0;32m<ipython-input-49-4be649f6e895>\u001b[0m in \u001b[0;36m<module>\u001b[0;34m\u001b[0m\n\u001b[0;32m----> 1\u001b[0;31m \u001b[0mexcepcion_probable\u001b[0m\u001b[0;34m(\u001b[0m\u001b[0;36m13\u001b[0m \u001b[0;34m+\u001b[0m \u001b[0;36m1j\u001b[0m\u001b[0;34m)\u001b[0m\u001b[0;34m\u001b[0m\u001b[0;34m\u001b[0m\u001b[0m\n\u001b[0m",
      "\u001b[0;32m<ipython-input-44-1f7f33ab2359>\u001b[0m in \u001b[0;36mexcepcion_probable\u001b[0;34m(numero)\u001b[0m\n\u001b[1;32m      2\u001b[0m     \"\"\" Ejemplo de control de excepciones.\n\u001b[1;32m      3\u001b[0m         Este código es muy fácil de descarrilar.\"\"\"\n\u001b[0;32m----> 4\u001b[0;31m     \u001b[0mnumero\u001b[0m \u001b[0;34m=\u001b[0m \u001b[0mfloat\u001b[0m\u001b[0;34m(\u001b[0m\u001b[0mnumero\u001b[0m\u001b[0;34m)\u001b[0m\u001b[0;34m\u001b[0m\u001b[0;34m\u001b[0m\u001b[0m\n\u001b[0m\u001b[1;32m      5\u001b[0m     \u001b[0mprint\u001b[0m\u001b[0;34m(\u001b[0m\u001b[0;34m\"La raíz cuadrada del número %f es %f\"\u001b[0m \u001b[0;34m%\u001b[0m \u001b[0;34m(\u001b[0m\u001b[0mnumero\u001b[0m\u001b[0;34m,\u001b[0m \u001b[0mnumero\u001b[0m \u001b[0;34m**\u001b[0m \u001b[0;36m0.5\u001b[0m\u001b[0;34m)\u001b[0m\u001b[0;34m)\u001b[0m\u001b[0;34m\u001b[0m\u001b[0;34m\u001b[0m\u001b[0m\n\u001b[1;32m      6\u001b[0m     \u001b[0mprint\u001b[0m\u001b[0;34m(\u001b[0m\u001b[0;34m\"Buen día.\"\u001b[0m\u001b[0;34m)\u001b[0m\u001b[0;34m\u001b[0m\u001b[0;34m\u001b[0m\u001b[0m\n",
      "\u001b[0;31mTypeError\u001b[0m: can't convert complex to float"
     ]
    }
   ],
   "source": [
    "excepcion_probable(13 + 1j)"
   ]
  },
  {
   "cell_type": "markdown",
   "metadata": {},
   "source": [
    "En este caso el intérprete invoca a _excepcion\\_probable()_ y el error se genera en la línea 4 de la función, en vista de que un número de tipo _complex_ no puede ser convertido en uno de tipo _float_."
   ]
  },
  {
   "cell_type": "code",
   "execution_count": 50,
   "metadata": {},
   "outputs": [
    {
     "ename": "TypeError",
     "evalue": "can't convert complex to float",
     "output_type": "error",
     "traceback": [
      "\u001b[0;31m---------------------------------------------------------------------------\u001b[0m",
      "\u001b[0;31mTypeError\u001b[0m                                 Traceback (most recent call last)",
      "\u001b[0;32m<ipython-input-50-ec2bf9df10fa>\u001b[0m in \u001b[0;36m<module>\u001b[0;34m\u001b[0m\n\u001b[0;32m----> 1\u001b[0;31m \u001b[0mexcepcion_probable\u001b[0m\u001b[0;34m(\u001b[0m\u001b[0;34m-\u001b[0m\u001b[0;36m1\u001b[0m\u001b[0;34m)\u001b[0m\u001b[0;34m\u001b[0m\u001b[0;34m\u001b[0m\u001b[0m\n\u001b[0m",
      "\u001b[0;32m<ipython-input-44-1f7f33ab2359>\u001b[0m in \u001b[0;36mexcepcion_probable\u001b[0;34m(numero)\u001b[0m\n\u001b[1;32m      3\u001b[0m         Este código es muy fácil de descarrilar.\"\"\"\n\u001b[1;32m      4\u001b[0m     \u001b[0mnumero\u001b[0m \u001b[0;34m=\u001b[0m \u001b[0mfloat\u001b[0m\u001b[0;34m(\u001b[0m\u001b[0mnumero\u001b[0m\u001b[0;34m)\u001b[0m\u001b[0;34m\u001b[0m\u001b[0;34m\u001b[0m\u001b[0m\n\u001b[0;32m----> 5\u001b[0;31m     \u001b[0mprint\u001b[0m\u001b[0;34m(\u001b[0m\u001b[0;34m\"La raíz cuadrada del número %f es %f\"\u001b[0m \u001b[0;34m%\u001b[0m \u001b[0;34m(\u001b[0m\u001b[0mnumero\u001b[0m\u001b[0;34m,\u001b[0m \u001b[0mnumero\u001b[0m \u001b[0;34m**\u001b[0m \u001b[0;36m0.5\u001b[0m\u001b[0;34m)\u001b[0m\u001b[0;34m)\u001b[0m\u001b[0;34m\u001b[0m\u001b[0;34m\u001b[0m\u001b[0m\n\u001b[0m\u001b[1;32m      6\u001b[0m     \u001b[0mprint\u001b[0m\u001b[0;34m(\u001b[0m\u001b[0;34m\"Buen día.\"\u001b[0m\u001b[0;34m)\u001b[0m\u001b[0;34m\u001b[0m\u001b[0;34m\u001b[0m\u001b[0m\n",
      "\u001b[0;31mTypeError\u001b[0m: can't convert complex to float"
     ]
    }
   ],
   "source": [
    "excepcion_probable(-1)"
   ]
  },
  {
   "cell_type": "markdown",
   "metadata": {},
   "source": [
    "En este caso, el error se desencadena en *excepcion_probable()*, pero ahora en la línea 5, debido a que la raíz cuadrada de -1 da por resultado un objeto de tipo _complex_ y la función *print()* tiene la instrucción de desplegarlo como un objeto de tipo _float_."
   ]
  },
  {
   "cell_type": "code",
   "execution_count": 51,
   "metadata": {},
   "outputs": [
    {
     "ename": "TypeError",
     "evalue": "float() argument must be a string or a number, not 'builtin_function_or_method'",
     "output_type": "error",
     "traceback": [
      "\u001b[0;31m---------------------------------------------------------------------------\u001b[0m",
      "\u001b[0;31mTypeError\u001b[0m                                 Traceback (most recent call last)",
      "\u001b[0;32m<ipython-input-51-8a66c6ff2ce5>\u001b[0m in \u001b[0;36m<module>\u001b[0;34m\u001b[0m\n\u001b[0;32m----> 1\u001b[0;31m \u001b[0mexcepcion_probable\u001b[0m\u001b[0;34m(\u001b[0m\u001b[0mprint\u001b[0m\u001b[0;34m)\u001b[0m\u001b[0;34m\u001b[0m\u001b[0;34m\u001b[0m\u001b[0m\n\u001b[0m",
      "\u001b[0;32m<ipython-input-44-1f7f33ab2359>\u001b[0m in \u001b[0;36mexcepcion_probable\u001b[0;34m(numero)\u001b[0m\n\u001b[1;32m      2\u001b[0m     \"\"\" Ejemplo de control de excepciones.\n\u001b[1;32m      3\u001b[0m         Este código es muy fácil de descarrilar.\"\"\"\n\u001b[0;32m----> 4\u001b[0;31m     \u001b[0mnumero\u001b[0m \u001b[0;34m=\u001b[0m \u001b[0mfloat\u001b[0m\u001b[0;34m(\u001b[0m\u001b[0mnumero\u001b[0m\u001b[0;34m)\u001b[0m\u001b[0;34m\u001b[0m\u001b[0;34m\u001b[0m\u001b[0m\n\u001b[0m\u001b[1;32m      5\u001b[0m     \u001b[0mprint\u001b[0m\u001b[0;34m(\u001b[0m\u001b[0;34m\"La raíz cuadrada del número %f es %f\"\u001b[0m \u001b[0;34m%\u001b[0m \u001b[0;34m(\u001b[0m\u001b[0mnumero\u001b[0m\u001b[0;34m,\u001b[0m \u001b[0mnumero\u001b[0m \u001b[0;34m**\u001b[0m \u001b[0;36m0.5\u001b[0m\u001b[0;34m)\u001b[0m\u001b[0;34m)\u001b[0m\u001b[0;34m\u001b[0m\u001b[0;34m\u001b[0m\u001b[0m\n\u001b[1;32m      6\u001b[0m     \u001b[0mprint\u001b[0m\u001b[0;34m(\u001b[0m\u001b[0;34m\"Buen día.\"\u001b[0m\u001b[0;34m)\u001b[0m\u001b[0;34m\u001b[0m\u001b[0;34m\u001b[0m\u001b[0m\n",
      "\u001b[0;31mTypeError\u001b[0m: float() argument must be a string or a number, not 'builtin_function_or_method'"
     ]
    }
   ],
   "source": [
    "excepcion_probable(print)"
   ]
  },
  {
   "cell_type": "markdown",
   "metadata": {},
   "source": [
    "En este caso, el error ocurre en la línea 4 en vista de que _print_ corresponde al nombre de una función."
   ]
  },
  {
   "cell_type": "markdown",
   "metadata": {},
   "source": [
    "#### _ValueError_."
   ]
  },
  {
   "cell_type": "code",
   "execution_count": 52,
   "metadata": {
    "scrolled": true
   },
   "outputs": [
    {
     "ename": "ValueError",
     "evalue": "could not convert string to float: 'Hola'",
     "output_type": "error",
     "traceback": [
      "\u001b[0;31m---------------------------------------------------------------------------\u001b[0m",
      "\u001b[0;31mValueError\u001b[0m                                Traceback (most recent call last)",
      "\u001b[0;32m<ipython-input-52-31b4018a57b8>\u001b[0m in \u001b[0;36m<module>\u001b[0;34m\u001b[0m\n\u001b[0;32m----> 1\u001b[0;31m \u001b[0mexcepcion_probable\u001b[0m\u001b[0;34m(\u001b[0m\u001b[0;34m\"Hola\"\u001b[0m\u001b[0;34m)\u001b[0m\u001b[0;34m\u001b[0m\u001b[0;34m\u001b[0m\u001b[0m\n\u001b[0m",
      "\u001b[0;32m<ipython-input-44-1f7f33ab2359>\u001b[0m in \u001b[0;36mexcepcion_probable\u001b[0;34m(numero)\u001b[0m\n\u001b[1;32m      2\u001b[0m     \"\"\" Ejemplo de control de excepciones.\n\u001b[1;32m      3\u001b[0m         Este código es muy fácil de descarrilar.\"\"\"\n\u001b[0;32m----> 4\u001b[0;31m     \u001b[0mnumero\u001b[0m \u001b[0;34m=\u001b[0m \u001b[0mfloat\u001b[0m\u001b[0;34m(\u001b[0m\u001b[0mnumero\u001b[0m\u001b[0;34m)\u001b[0m\u001b[0;34m\u001b[0m\u001b[0;34m\u001b[0m\u001b[0m\n\u001b[0m\u001b[1;32m      5\u001b[0m     \u001b[0mprint\u001b[0m\u001b[0;34m(\u001b[0m\u001b[0;34m\"La raíz cuadrada del número %f es %f\"\u001b[0m \u001b[0;34m%\u001b[0m \u001b[0;34m(\u001b[0m\u001b[0mnumero\u001b[0m\u001b[0;34m,\u001b[0m \u001b[0mnumero\u001b[0m \u001b[0;34m**\u001b[0m \u001b[0;36m0.5\u001b[0m\u001b[0;34m)\u001b[0m\u001b[0;34m)\u001b[0m\u001b[0;34m\u001b[0m\u001b[0;34m\u001b[0m\u001b[0m\n\u001b[1;32m      6\u001b[0m     \u001b[0mprint\u001b[0m\u001b[0;34m(\u001b[0m\u001b[0;34m\"Buen día.\"\u001b[0m\u001b[0;34m)\u001b[0m\u001b[0;34m\u001b[0m\u001b[0;34m\u001b[0m\u001b[0m\n",
      "\u001b[0;31mValueError\u001b[0m: could not convert string to float: 'Hola'"
     ]
    }
   ],
   "source": [
    "excepcion_probable(\"Hola\")"
   ]
  },
  {
   "cell_type": "markdown",
   "metadata": {},
   "source": [
    "En este caso, el error ocurren en la línea 4 de *excepcion_probable()*, en vista de que el contenido del objeto de tipo _str_  no corresponde a un número."
   ]
  },
  {
   "cell_type": "markdown",
   "metadata": {},
   "source": [
    "#### *SyntaxError*."
   ]
  },
  {
   "cell_type": "code",
   "execution_count": 53,
   "metadata": {},
   "outputs": [
    {
     "ename": "SyntaxError",
     "evalue": "invalid syntax (<ipython-input-53-0271ee00f248>, line 1)",
     "output_type": "error",
     "traceback": [
      "\u001b[0;36m  File \u001b[0;32m\"<ipython-input-53-0271ee00f248>\"\u001b[0;36m, line \u001b[0;32m1\u001b[0m\n\u001b[0;31m    excepcion_probable(yield)\u001b[0m\n\u001b[0m                       ^\u001b[0m\n\u001b[0;31mSyntaxError\u001b[0m\u001b[0;31m:\u001b[0m invalid syntax\n"
     ]
    }
   ],
   "source": [
    "excepcion_probable(yield)"
   ]
  },
  {
   "cell_type": "markdown",
   "metadata": {},
   "source": [
    "En este caso, la excepción se desencadena antes de invocar a la función, debido a que _yield_ es una palabra reservada de Python."
   ]
  },
  {
   "cell_type": "markdown",
   "metadata": {},
   "source": [
    "## Identificación de los puntos de fallo.\n",
    "\n",
    "Pueden existir aún más errores de los identificados. Sin embargo, a partir de los encontrados es posible determinar las secciones de código problemáticas.\n",
    "En este caso, los puntos de falla ocurren al invocar a la función y también dentro de la función. Los errores que se generan al invocar la función sólo se pueden resolver volviendo a ingresar los argumentos de forma correcta. Sin embargo, los errores que ocurren dentro de la función pueden ser gestionados.\n",
    "\n",
    "## Recursos para captura y gestión de excepciones.\n",
    "\n",
    "Python cuenta con una serie de recursos que permiten la captura y gestión de excepciones. \n",
    "\n",
    "Si la excepción no es capturada, ésta correrá hasta sus últimas consecuencias: Enviar un mensaje de error y cerrar el intérprete.\n",
    "\n",
    "Los recursos de gestión y captura de excepciones son:\n",
    "\n",
    "* *try*\n",
    "* *except*\n",
    "* *else*\n",
    "* *finally*\n",
    "\n",
    "### Delimitación del código mediante *try*.\n",
    "\n",
    "Cuando se identifica una sección de código susceptible de errores, ésta puede ser delimitada con la expresión *try*. Cualquier excepción que ocurra dentro de esta sección de código podrá ser capturada y gestionada.\n",
    "\n",
    "En el caso de la función *excepcion_probable()* se puede observar por los mensajes de error, que el segmento comprendido en las líneas 4 y 5 de la función es el que se debe delimitar.\n",
    "\n",
    "### Captura y gestión de las excepciones con *except*.\n",
    "\n",
    "La expresión _except_ es la encargada de gestionar las excepciones que se capturan.\n",
    "\n",
    "Si se utiliza *except* sin mayores datos, ésta ejecutará el código que contiene para todas las excepciones que ocurran.\n",
    "\n",
    "```\n",
    "<flujo principal>\n",
    "...\n",
    "...\n",
    "try:\n",
    "    <bloque de código en riesgo>\n",
    "except:\n",
    "    <bloque inscrito a except>\n",
    "<flujo principal>\n",
    "```\n",
    "\n",
    "#### La función *excepción_basica()*.\n",
    "\n",
    "Esta nueva función está basada en *excepcion_probable()* y delimita al bloque de código susceptible de errores.\n",
    "En esta ocasión se capturará todas las excepciones que se generen sin tomar algún tipo de acción.\n",
    "\n",
    "**El código:**\n"
   ]
  },
  {
   "cell_type": "code",
   "execution_count": 55,
   "metadata": {},
   "outputs": [],
   "source": [
    "def excepcion_basica(numero):\n",
    "    \"\"\"Ejemplo de control de excepciones básico.\n",
    "       Cualquier error desencadendo en las líneas delimitadas será capturado sin hacer nada. \"\"\"\n",
    "    try:\n",
    "        numero = float(numero)\n",
    "        print(\"La raíz cuadrada del número %f es %f\" % (numero, numero ** 0.5))\n",
    "    except:\n",
    "        pass\n",
    "    print(\"Buen día.\")"
   ]
  },
  {
   "cell_type": "code",
   "execution_count": 57,
   "metadata": {},
   "outputs": [
    {
     "name": "stdout",
     "output_type": "stream",
     "text": [
      "Buen día.\n"
     ]
    }
   ],
   "source": [
    "excepcion_basica(-1)"
   ]
  },
  {
   "cell_type": "code",
   "execution_count": 59,
   "metadata": {},
   "outputs": [
    {
     "name": "stdout",
     "output_type": "stream",
     "text": [
      "Buen día.\n"
     ]
    }
   ],
   "source": [
    "excepcion_basica(13j)"
   ]
  },
  {
   "cell_type": "code",
   "execution_count": 60,
   "metadata": {},
   "outputs": [
    {
     "name": "stdout",
     "output_type": "stream",
     "text": [
      "Buen día.\n"
     ]
    }
   ],
   "source": [
    "excepcion_basica(\"Hola\")"
   ]
  },
  {
   "cell_type": "code",
   "execution_count": 61,
   "metadata": {},
   "outputs": [
    {
     "name": "stdout",
     "output_type": "stream",
     "text": [
      "La raíz cuadrada del número 15.000000 es 3.872983\n",
      "Buen día.\n"
     ]
    }
   ],
   "source": [
    "excepcion_basica(\"15\")"
   ]
  },
  {
   "cell_type": "markdown",
   "metadata": {},
   "source": [
    "#### La función *excepcion_simple()*.\n",
    "\n",
    "Capturar las excepciones sin dejar evidencia de que ocurrieron no es una buena idea. Realmente no se gestionan los errores sino que simplemente se esconden, arrojando muy probablemente resultados inesperados y aún más errores posteriormente.\n",
    "\n",
    "Una técnica muy común para la gestión de errores es el uso de \"banderas\". que por lo general son objetos de tipo _bool_ que cambian de valor en caso de que un evento ocurra.\n",
    "\n",
    "**El código:**"
   ]
  },
  {
   "cell_type": "code",
   "execution_count": 62,
   "metadata": {},
   "outputs": [],
   "source": [
    "def excepcion_simple(numero):\n",
    "    \"\"\" Ejemplo de control de excepciones básico. Cualquier error desencadendo \n",
    "        en las líneas delimitadas ejecutará el bloque de código anidado en except.\"\"\"\n",
    "\n",
    "    ocurre_error = False\n",
    "    try:\n",
    "        numero = float(numero)\n",
    "        print(\"La raíz cuadrada del número %f es %f\" % (numero, numero ** 0.5))\n",
    "    except:\n",
    "        ocurre_error = True\n",
    "        \n",
    "    if ocurre_error:\n",
    "        print(\"Lástima.\")\n",
    "    else:\n",
    "        print(\"Buen día.\")"
   ]
  },
  {
   "cell_type": "code",
   "execution_count": 63,
   "metadata": {},
   "outputs": [
    {
     "name": "stdout",
     "output_type": "stream",
     "text": [
      "Lástima.\n"
     ]
    }
   ],
   "source": [
    "excepcion_simple(-1)"
   ]
  },
  {
   "cell_type": "code",
   "execution_count": 64,
   "metadata": {},
   "outputs": [
    {
     "name": "stdout",
     "output_type": "stream",
     "text": [
      "Lástima.\n"
     ]
    }
   ],
   "source": [
    "excepcion_simple(43j)"
   ]
  },
  {
   "cell_type": "code",
   "execution_count": 65,
   "metadata": {},
   "outputs": [
    {
     "name": "stdout",
     "output_type": "stream",
     "text": [
      "Lástima.\n"
     ]
    }
   ],
   "source": [
    "excepcion_simple(\"Hola\")"
   ]
  },
  {
   "cell_type": "code",
   "execution_count": 67,
   "metadata": {},
   "outputs": [
    {
     "name": "stdout",
     "output_type": "stream",
     "text": [
      "La raíz cuadrada del número 15.000000 es 3.872983\n",
      "Buen día.\n"
     ]
    }
   ],
   "source": [
    "excepcion_simple(15)"
   ]
  },
  {
   "cell_type": "markdown",
   "metadata": {},
   "source": [
    "### Gestión de excepciones por su tipo.\n",
    "\n",
    "La expresión _except_ puede ser utilizada de forma tal que ejecute código dependiendo del tipo de error que ocurra de una forma muy similar a _elif_.\n",
    "\n",
    "De esa manera, se pueden gestionar las excepciones de forma diferenciada dependiendo del tipo de error que se genere. \n",
    "\n",
    "```\n",
    "<flujo principal>\n",
    "...\n",
    "...\n",
    "try:\n",
    "   <código suceptible de errores>\n",
    "except <ErrorTipo1>:\n",
    "    <bloque inscrito a ErrorTipo1>\n",
    "except< ErrorTipo2>:\n",
    "    <<bloque inscrito a ErrorTipo2> \n",
    "except (<ErrorTipo3>, <ErrorTipo4>):\n",
    "    <<bloque inscrito a ErrorTipo3 y ErrorTipo4>\n",
    "...\n",
    "...\n",
    "except:\n",
    "    <bloque inscrito a except general>\n",
    "<flujo principal>\n",
    "```\n",
    "\n",
    "#### La función *excepciones_identificadas()*.\n",
    "\n",
    "Prevé explícitamente la ocurrencia de la _TypeError_ pero de forma intencional se omitó la captura de excepciones _ValueError_, las cuales serán capturadas por el _except_ general. \n",
    "\n",
    "**El código:**"
   ]
  },
  {
   "cell_type": "code",
   "execution_count": 69,
   "metadata": {},
   "outputs": [],
   "source": [
    "def excepciones_identificadas(numero):\n",
    "    \"\"\" Ejemplo de control de excepciones para diversos errores identificados.\n",
    "        En caso de que ocurra un error inesperado, se desplegará una advertencia.\n",
    "        El programa pedirá un número y desplegará la raíz cuadrada de dicho número.\"\"\"\n",
    "    ocurre_error = False\n",
    "    try:\n",
    "        numero = float(numero)\n",
    "        print(\"La raíz cuadrada del número %f es %f\" % (numero, numero ** 0.5))\n",
    "    except TypeError:\n",
    "        ocurre_error = True\n",
    "        print(\"Ocurrió un error TypeError.\")\n",
    "    except:\n",
    "        ocurre_error = True\n",
    "        print(\"¡No sé qué pasó!\")\n",
    "    \n",
    "    if ocurre_error:\n",
    "        print(\"Lástima.\")\n",
    "    else:\n",
    "        print(\"Buen día.\")"
   ]
  },
  {
   "cell_type": "code",
   "execution_count": 71,
   "metadata": {},
   "outputs": [
    {
     "name": "stdout",
     "output_type": "stream",
     "text": [
      "Ocurrió un error TypeError.\n",
      "Lástima.\n"
     ]
    }
   ],
   "source": [
    "excepciones_identificadas(-1)"
   ]
  },
  {
   "cell_type": "code",
   "execution_count": 72,
   "metadata": {},
   "outputs": [
    {
     "name": "stdout",
     "output_type": "stream",
     "text": [
      "Ocurrió un error TypeError.\n",
      "Lástima.\n"
     ]
    }
   ],
   "source": [
    "excepciones_identificadas(43j)"
   ]
  },
  {
   "cell_type": "code",
   "execution_count": 73,
   "metadata": {},
   "outputs": [
    {
     "name": "stdout",
     "output_type": "stream",
     "text": [
      "¡No sé qué pasó!\n",
      "Lástima.\n"
     ]
    }
   ],
   "source": [
    "excepciones_identificadas(\"Hola\")"
   ]
  },
  {
   "cell_type": "code",
   "execution_count": 74,
   "metadata": {},
   "outputs": [
    {
     "name": "stdout",
     "output_type": "stream",
     "text": [
      "La raíz cuadrada del número 35.000000 es 5.916080\n",
      "Buen día.\n"
     ]
    }
   ],
   "source": [
    "excepciones_identificadas(35)"
   ]
  },
  {
   "cell_type": "markdown",
   "metadata": {},
   "source": [
    "### Captura de los detalles de error.\n",
    "\n",
    "Es posible capturar el mensaje que Python despliega detallando un error mediante _except_ ligándolo a un nombre mediante la siguiente sintaxis:\n",
    "\n",
    "```\n",
    "except <tipo de error> as <nombre>:\n",
    "```\n",
    "Si se utiliza _except_ sin identificar el tipo de error, la sintaxis previa es inválida.\n",
    "\n",
    "### La expresión *as*.\n",
    "\n",
    "Existen algunos casos en los que sintácticamente no es posible utilizar el operador de asignación ( _=_ ) para ligar un nombre a un objeto en el espacio de nombres.\n",
    "\n",
    "La expresión _as_ actúa de forma idéntica al operador de identidad, pero con una estructura sintáctica distinta como es el caso de _except_ para capturar la descripción del error.\n",
    "\n",
    "#### La función *excepciones_descritas()*.\n",
    "\n",
    "Esta funciónes idéntica a *excepciones_identificadas()* con la añadidura de que a cada excepción identificada por tipo de error se le añadió la expresión _as_ para capturar el mensaje de detalle de error con el nombre _descripcion_.\n",
    "\n",
    "**El código:**\n"
   ]
  },
  {
   "cell_type": "code",
   "execution_count": 76,
   "metadata": {},
   "outputs": [],
   "source": [
    "def excepciones_descritas(numero): \n",
    "    \"\"\" Ejemplo de control de excepciones para diversos errores identificados.\n",
    "        En caso de que ocurra un error inesperado, se desplegará una advertencia.\n",
    "        La advertencia incluirá el mensaje de Python que describe el error.\n",
    "        El programa pedirá un número y desplegará la raíz cuadrada de dicho número.\n",
    "        \"\"\"\n",
    "    ocurre_error = False\n",
    "    try:\n",
    "        numero = float(numero)\n",
    "        print(\"La raíz cuadrada del número %f es %f\" % (numero, numero ** 0.5))\n",
    "    except TypeError as descripcion:\n",
    "        ocurre_error = True\n",
    "        print(\"Ocurrió un error previsto:\", descripcion)\n",
    "    except:\n",
    "        ocurre_error = True\n",
    "        print(\"¡No sé qué pasó!\")\n",
    "    if ocurre_error:\n",
    "        print(\"Lástima.\")\n",
    "    else:\n",
    "        print(\"Buen día.\") "
   ]
  },
  {
   "cell_type": "code",
   "execution_count": 77,
   "metadata": {},
   "outputs": [
    {
     "name": "stdout",
     "output_type": "stream",
     "text": [
      "Ocurrió un error previsto: can't convert complex to float\n",
      "Lástima.\n"
     ]
    }
   ],
   "source": [
    "excepciones_descritas(-1)"
   ]
  },
  {
   "cell_type": "code",
   "execution_count": 78,
   "metadata": {},
   "outputs": [
    {
     "name": "stdout",
     "output_type": "stream",
     "text": [
      "Ocurrió un error previsto: can't convert complex to float\n",
      "Lástima.\n"
     ]
    }
   ],
   "source": [
    "excepciones_descritas(1j)"
   ]
  },
  {
   "cell_type": "code",
   "execution_count": 79,
   "metadata": {},
   "outputs": [
    {
     "name": "stdout",
     "output_type": "stream",
     "text": [
      "¡No sé qué pasó!\n",
      "Lástima.\n"
     ]
    }
   ],
   "source": [
    "excepciones_descritas(\"Hola\")"
   ]
  },
  {
   "cell_type": "markdown",
   "metadata": {},
   "source": [
    "## Uso de _else_ y _finally_.\n",
    "\n",
    "Además de _except_, Python cuenta con otros dos recursos que completan la gestión de excepciones.\n",
    "\n",
    "### La expresión _else_. \n",
    "\n",
    "Del mismo modo que con _if_, la expresión _else_ se ejecuta en el caso de que no se genere una excepción.\n",
    "\n",
    "```\n",
    "<flujo principal>\n",
    "...\n",
    "...\n",
    "try:\n",
    "   <código suceptible de errores>\n",
    "except <ErrorTipo1>:\n",
    "    <bloque inscrito a ErrorTipo1>\n",
    "except< ErrorTipo2>:\n",
    "    <<bloque inscrito a ErrorTipo2> \n",
    "except (<ErrorTipo3>, <ErrorTipo4>):\n",
    "    <<bloque inscrito a ErrorTipo3 y ErrorTipo4>\n",
    "...\n",
    "...\n",
    "except:\n",
    "    <bloque inscrito a except general>\n",
    "else:\n",
    "    <bloque inscrito a else>\n",
    "<flujo principal>\n",
    "```\n",
    "\n",
    "### La expresión _finally_.\n",
    "\n",
    "En algunas situaciones, es necesario realizar algunas operaciones independientemente de que haya ocurrido una excepción o no. Esto es común cuando se tiene que cerrar una comunicación por internet, cerrar el accceso a una base de datos o cerrar un archivo en modo escritura.\n",
    "\n",
    "Para estas situacione se utiliza la expresión _finally_, la cual se ejecuta haya existido una excepción o no.\n",
    "\n",
    "```\n",
    "<flujo principal>\n",
    "...\n",
    "...\n",
    "try:\n",
    "   <código suceptible de errores>\n",
    "except <ErrorTipo1>:\n",
    "    <bloque inscrito a ErrorTipo1>\n",
    "except< ErrorTipo2>:\n",
    "    <<bloque inscrito a ErrorTipo2> \n",
    "except (<ErrorTipo3>, <ErrorTipo4>):\n",
    "    <<bloque inscrito a ErrorTipo3 y ErrorTipo4>\n",
    "...\n",
    "...\n",
    "except:\n",
    "    <bloque inscrito a except general>\n",
    "else:\n",
    "    <bloque inscrito a else>\n",
    "finally:\n",
    "    <bloque inscrito a finally>\n",
    "<flujo principal>\n",
    "```\n",
    "\n",
    "#### La función *excepciones_atrapadas()*.\n",
    "\n",
    "Incluye todos los elementos para gestión de excepciones con _try_, _except_, _else_ y _finally_. \n",
    "\n",
    "**El código:**\n"
   ]
  },
  {
   "cell_type": "code",
   "execution_count": 81,
   "metadata": {},
   "outputs": [],
   "source": [
    "def excepciones_atrapadas(numero):\n",
    "    \"\"\" Ejemplo de control de excepciones para diversos errores.\n",
    "        Desplegará el cuadrado de dicho número.\n",
    "        En caso de ocurrir una excepción se despelgará el mensaje de error.\"\"\"\n",
    "    \n",
    "    ocurre_error = True\n",
    "    try:\n",
    "        numero = float(numero)\n",
    "        print(\"La raíz cuadrada de %f es %f\" % (numero, numero ** 0.5))\n",
    "    except (ValueError, TypeError) as excepcion:\n",
    "        print(\"Mensaje de error:\", excepcion)\n",
    "    except:\n",
    "        print(\"¡No sé qué pasó!\")\n",
    "    else:\n",
    "        print(\"No hubo errores.\")\n",
    "        ocurre_error = False\n",
    "    finally:\n",
    "        if ocurre_error:\n",
    "            print(\"Lástima.\")\n",
    "        else:\n",
    "            print(\"¡YAY!\")\n",
    "    print(\"Buen día.\")"
   ]
  },
  {
   "cell_type": "code",
   "execution_count": 82,
   "metadata": {},
   "outputs": [
    {
     "name": "stdout",
     "output_type": "stream",
     "text": [
      "Mensaje de error: can't convert complex to float\n",
      "Lástima.\n",
      "Buen día.\n"
     ]
    }
   ],
   "source": [
    "excepciones_atrapadas(-1)"
   ]
  },
  {
   "cell_type": "code",
   "execution_count": 83,
   "metadata": {},
   "outputs": [
    {
     "name": "stdout",
     "output_type": "stream",
     "text": [
      "Mensaje de error: can't convert complex to float\n",
      "Lástima.\n",
      "Buen día.\n"
     ]
    }
   ],
   "source": [
    "excepciones_atrapadas(1j)"
   ]
  },
  {
   "cell_type": "code",
   "execution_count": 84,
   "metadata": {},
   "outputs": [
    {
     "name": "stdout",
     "output_type": "stream",
     "text": [
      "Mensaje de error: could not convert string to float: 'Hola'\n",
      "Lástima.\n",
      "Buen día.\n"
     ]
    }
   ],
   "source": [
    "excepciones_atrapadas(\"Hola\")"
   ]
  },
  {
   "cell_type": "code",
   "execution_count": 85,
   "metadata": {},
   "outputs": [
    {
     "name": "stdout",
     "output_type": "stream",
     "text": [
      "La raíz cuadrada de 135.100000 es 11.623253\n",
      "No hubo errores.\n",
      "¡YAY!\n",
      "Buen día.\n"
     ]
    }
   ],
   "source": [
    "excepciones_atrapadas(\"135.1\")"
   ]
  },
  {
   "cell_type": "code",
   "execution_count": null,
   "metadata": {},
   "outputs": [],
   "source": []
  }
 ],
 "metadata": {
  "kernelspec": {
   "display_name": "Python 3",
   "language": "python",
   "name": "python3"
  },
  "language_info": {
   "codemirror_mode": {
    "name": "ipython",
    "version": 3
   },
   "file_extension": ".py",
   "mimetype": "text/x-python",
   "name": "python",
   "nbconvert_exporter": "python",
   "pygments_lexer": "ipython3",
   "version": "3.8.5"
  }
 },
 "nbformat": 4,
 "nbformat_minor": 1
}
