{
 "cells": [
  {
   "cell_type": "markdown",
   "metadata": {},
   "source": [
    "___\n",
    "\n",
    "<img src=\"imagenes/logoeon.png\" alt=\"EON\" width=\"150\"/>\n",
    "___"
   ]
  },
  {
   "cell_type": "markdown",
   "metadata": {},
   "source": [
    "# Proyecto de M.L. End to End\n",
    "\n",
    "Vamos a ver como se realiza un proyecto de M.L. de manera general y cuales son los pasos que debemos tomar:\n",
    "\n",
    "1) Mire el panorama completo\n",
    "\n",
    "2) Obtenga la data\n",
    "\n",
    "3) Descubra y visualice los datos para obtener información\n",
    "\n",
    "4) Preparar los datos para los algoritmos de Machine Learning\n",
    "\n",
    "5) Seleccione un modelo y entrénelo\n",
    "\n",
    "6) Afina tu modelo\n",
    "\n",
    "7) Presente su solución\n",
    "\n",
    "8) Inicie, supervise y mantenga su sistema"
   ]
  },
  {
   "cell_type": "markdown",
   "metadata": {},
   "source": [
    "## 1. Mire el panorama completo\n",
    "A continuación le dejamos una lista de cosas que puede verificar en esta etapa del proyecto\n",
    "\n",
    "1. Definir el objetivo en términos de negocio.\n",
    "2. ¿Cómo se utilizará su solución?\n",
    "3. ¿Cuáles son las soluciones actuales (si las hay)?\n",
    "4. ¿Cómo debe enmarcar este problema (supervisado/no supervisado, on line/batch, etc.)?\n",
    "5. ¿Cómo debe medirse el desempeño?\n",
    "* ¿Cuál sería el rendimiento mínimo necesario para alcanzar el objetivo empresarial?\n",
    "* ¿Cuáles son los problemas comparables? ¿Se puede reutilizar la experiencia o las herramientas?\n",
    "* ¿Existe experiencia disponible de otras personas?\n",
    "\n",
    "**Vamos a construir un modelo de precios de vivienda en california a partir de datos obtenidos en un censo, el modelo debe aprender de esta data y debe ser capaz de predecir el precio medio de la vivienda a partir de otras metricas.**"
   ]
  },
  {
   "cell_type": "markdown",
   "metadata": {},
   "source": [
    "### Obtener el marco del problema\n",
    "Primero debemos preguntar que exactamente se espera con el proyecto, y que espera la compañia respecto a los beneficios del modelo, deberia tener claro cual va a ser la salida del modelo y el desempeño optimo esperado, en este caso el objetivo es obtener el **precio medio de vivienda**\n",
    "\n",
    "El problema lo vamos a abordar mediante, supervisado, no supervisado, regresión, classificación, batch learning, online learning?"
   ]
  },
  {
   "cell_type": "markdown",
   "metadata": {},
   "source": [
    "### Seleccionar una medida de desempeño\n",
    "Una tipica medida para problemas de regresión es el Root Mean Square Error (RMSE), nos da una idea de como el error del sistema tipicamente hace predicciones, con alto peso en grandes errores\n",
    "\n",
    " $RMSE = \\sqrt{\\frac{1}{n}\\Sigma_{i=1}^{n}{({x_i -y_i})^2}}$\n",
    " \n",
    " Donde:\n",
    " * n es el numero es intancias en el dataset\n",
    " * x(i) es el vector con todos los valores de caracteristicas excluyendo labels\n",
    " * y(i) son los valores deseados para la instancia, salida\n",
    " \n",
    " **Nota: RMSE es generalmente utilizado para medir las tareas de regresion, pero supongamos que tenemos muchos distritos con valores atipicos, podrias querer utilizar el MAE (Mean Absolute Error)** \n",
    " \n",
    "  $MAE = {\\frac{1}{n}\\Sigma_{i=1}^{n}{|{x_i -y_i}|}}$\n",
    "  \n",
    "  Tanto RMSE como MAE son formas de medir la distancia entre dos vectores, entre el de predicción y los valores objetivos."
   ]
  },
  {
   "cell_type": "markdown",
   "metadata": {},
   "source": [
    "### Chequee sus suposiciones\n",
    "Hay que preguntarnos si realmente necesitamos los valores predichos, de viviendas en California o simplemente podemos segmentar los precios en categorias distintas, barato, medio o caro. en este caso deberiamos cambiar de un modelo de regresión a uno de clasifiación. Sin embargo vamos a continuar necesitando los valores predichos."
   ]
  },
  {
   "cell_type": "markdown",
   "metadata": {},
   "source": [
    "## 2. Obtenga la data\n",
    "A continuación le dejamos un checklist de cosas que hacer en este paso:\n",
    "\n",
    "1. Enumere los datos que necesita y la cantidad que necesita.\n",
    "2. Busque y documente dónde puede obtener esos datos.\n",
    "3. Compruebe cuánto espacio ocupará.\n",
    "4. Verifique las obligaciones legales y obtenga la autorización si es necesario.\n",
    "5. Obtener autorizaciones de acceso.\n",
    "6. Crear un espacio de trabajo (con suficiente espacio de almacenamiento).\n",
    "7. Conseguir los datos.\n",
    "8. Convierta los datos a un formato que pueda manipular fácilmente (escalar).\n",
    "9. Asegúrese de que la información confidencial sea borrada o protegida (anonimizada, GPRD-General Data Protection Regulation).\n",
    "10. Compruebe el tamaño y el tipo de datos (series temporales, muestras, datos geográficos, etc.).\n",
    "11. Muestre un conjunto de pruebas, póngalo a un lado.\n",
    "\n",
    "\n",
    "### Obteniendo datos del mundo real\n",
    "\n",
    "Cuando trabajamos en proyectos de M.L. lo mejor es experimentar con datos del mundo real\n",
    "Aqui algunos repositorios populares\n",
    "\n",
    "* [UC Irvine Machine Learning Repository](http://archive.ics.uci.edu/ml/index.php)\n",
    "* [Kaggle datasets](https://www.kaggle.com/datasets)\n",
    "* [Amazon’s AWS datasets](https://registry.opendata.aws/)\n",
    "* http://dataportals.org/\n",
    "* http://opendatamonitor.eu/\n",
    "* http://quandl.com/\n",
    "* [Wikipedia’s list of Machine Learning datasets](https://en.wikipedia.org/wiki/List_of_datasets_for_machine_learning_research)\n",
    "* [Quora.com question](https://www.quora.com/Where-can-I-find-large-datasets-open-to-the-public)\n",
    "* [Datasets subreddit](https://www.reddit.com/r/datasets)\n",
    "* [Datos abiertos Ecuador](http://catalogo.datosabiertos.gob.ec/)"
   ]
  },
  {
   "cell_type": "markdown",
   "metadata": {},
   "source": [
    "### Creando un Workspace\n",
    "Es importante tener un espacio de trabajo adecuado en nuestra computadora para nuestros proyectos de M.L. \n",
    "\n",
    "Si trabajamos con diferentes proyectos de M.L. es muy importante tener ambientes separados para no tener conflictos con versiones, una herramienta muy utilizada es utilizar virtualenv:"
   ]
  },
  {
   "cell_type": "raw",
   "metadata": {},
   "source": [
    "# Instalamos virtualenv si es que no lo tenemos\n",
    "!pip3 install --upgrade virtualenv"
   ]
  },
  {
   "cell_type": "raw",
   "metadata": {},
   "source": [
    "#Nos movemos a la carpteta del proyecto\n",
    "cd /carpeta/proyecto/ML\n",
    "\n",
    "# Instalamos el ambiente virtual\n",
    "virtualenv nombre_proyecto_ML\n",
    "\n",
    "# Iniciamos el ambiente virtual\n",
    "source nombre_proyecto_ML/bin/activate\n",
    "\n",
    "# Instalamos las librerias\n",
    "pip3 install --upgrade jupyter matplotlib numpy seaborn scikit-learn\n"
   ]
  },
  {
   "cell_type": "markdown",
   "metadata": {},
   "source": [
    "### Descargando la data y cargando a un dataframe"
   ]
  },
  {
   "cell_type": "code",
   "execution_count": 1,
   "metadata": {},
   "outputs": [],
   "source": [
    "import pandas as pd\n",
    "import numpy as np\n",
    "import matplotlib.pyplot as plt\n",
    "import seaborn as sns\n",
    "%matplotlib inline"
   ]
  },
  {
   "cell_type": "code",
   "execution_count": 2,
   "metadata": {},
   "outputs": [],
   "source": [
    "housing = pd.read_csv(\"housing.csv\")"
   ]
  },
  {
   "cell_type": "code",
   "execution_count": 3,
   "metadata": {},
   "outputs": [
    {
     "data": {
      "text/plain": [
       "pandas.core.frame.DataFrame"
      ]
     },
     "execution_count": 3,
     "metadata": {},
     "output_type": "execute_result"
    }
   ],
   "source": [
    "type(housing)"
   ]
  },
  {
   "cell_type": "markdown",
   "metadata": {},
   "source": [
    "### Mirar rapidamente la estructura de datos\n",
    "\n",
    "Determinar cuales son los atributos del dataset"
   ]
  },
  {
   "cell_type": "code",
   "execution_count": 4,
   "metadata": {},
   "outputs": [
    {
     "data": {
      "text/html": [
       "<div>\n",
       "<style scoped>\n",
       "    .dataframe tbody tr th:only-of-type {\n",
       "        vertical-align: middle;\n",
       "    }\n",
       "\n",
       "    .dataframe tbody tr th {\n",
       "        vertical-align: top;\n",
       "    }\n",
       "\n",
       "    .dataframe thead th {\n",
       "        text-align: right;\n",
       "    }\n",
       "</style>\n",
       "<table border=\"1\" class=\"dataframe\">\n",
       "  <thead>\n",
       "    <tr style=\"text-align: right;\">\n",
       "      <th></th>\n",
       "      <th>longitude</th>\n",
       "      <th>latitude</th>\n",
       "      <th>housing_median_age</th>\n",
       "      <th>total_rooms</th>\n",
       "      <th>total_bedrooms</th>\n",
       "      <th>population</th>\n",
       "      <th>households</th>\n",
       "      <th>median_income</th>\n",
       "      <th>median_house_value</th>\n",
       "      <th>ocean_proximity</th>\n",
       "    </tr>\n",
       "  </thead>\n",
       "  <tbody>\n",
       "    <tr>\n",
       "      <th>0</th>\n",
       "      <td>-122.23</td>\n",
       "      <td>37.88</td>\n",
       "      <td>41.0</td>\n",
       "      <td>880.0</td>\n",
       "      <td>129.0</td>\n",
       "      <td>322.0</td>\n",
       "      <td>126.0</td>\n",
       "      <td>8.3252</td>\n",
       "      <td>452600.0</td>\n",
       "      <td>NEAR BAY</td>\n",
       "    </tr>\n",
       "    <tr>\n",
       "      <th>1</th>\n",
       "      <td>-122.22</td>\n",
       "      <td>37.86</td>\n",
       "      <td>21.0</td>\n",
       "      <td>7099.0</td>\n",
       "      <td>1106.0</td>\n",
       "      <td>2401.0</td>\n",
       "      <td>1138.0</td>\n",
       "      <td>8.3014</td>\n",
       "      <td>358500.0</td>\n",
       "      <td>NEAR BAY</td>\n",
       "    </tr>\n",
       "    <tr>\n",
       "      <th>2</th>\n",
       "      <td>-122.24</td>\n",
       "      <td>37.85</td>\n",
       "      <td>52.0</td>\n",
       "      <td>1467.0</td>\n",
       "      <td>190.0</td>\n",
       "      <td>496.0</td>\n",
       "      <td>177.0</td>\n",
       "      <td>7.2574</td>\n",
       "      <td>352100.0</td>\n",
       "      <td>NEAR BAY</td>\n",
       "    </tr>\n",
       "    <tr>\n",
       "      <th>3</th>\n",
       "      <td>-122.25</td>\n",
       "      <td>37.85</td>\n",
       "      <td>52.0</td>\n",
       "      <td>1274.0</td>\n",
       "      <td>235.0</td>\n",
       "      <td>558.0</td>\n",
       "      <td>219.0</td>\n",
       "      <td>5.6431</td>\n",
       "      <td>341300.0</td>\n",
       "      <td>NEAR BAY</td>\n",
       "    </tr>\n",
       "    <tr>\n",
       "      <th>4</th>\n",
       "      <td>-122.25</td>\n",
       "      <td>37.85</td>\n",
       "      <td>52.0</td>\n",
       "      <td>1627.0</td>\n",
       "      <td>280.0</td>\n",
       "      <td>565.0</td>\n",
       "      <td>259.0</td>\n",
       "      <td>3.8462</td>\n",
       "      <td>342200.0</td>\n",
       "      <td>NEAR BAY</td>\n",
       "    </tr>\n",
       "  </tbody>\n",
       "</table>\n",
       "</div>"
      ],
      "text/plain": [
       "   longitude  latitude  housing_median_age  total_rooms  total_bedrooms  \\\n",
       "0    -122.23     37.88                41.0        880.0           129.0   \n",
       "1    -122.22     37.86                21.0       7099.0          1106.0   \n",
       "2    -122.24     37.85                52.0       1467.0           190.0   \n",
       "3    -122.25     37.85                52.0       1274.0           235.0   \n",
       "4    -122.25     37.85                52.0       1627.0           280.0   \n",
       "\n",
       "   population  households  median_income  median_house_value ocean_proximity  \n",
       "0       322.0       126.0         8.3252            452600.0        NEAR BAY  \n",
       "1      2401.0      1138.0         8.3014            358500.0        NEAR BAY  \n",
       "2       496.0       177.0         7.2574            352100.0        NEAR BAY  \n",
       "3       558.0       219.0         5.6431            341300.0        NEAR BAY  \n",
       "4       565.0       259.0         3.8462            342200.0        NEAR BAY  "
      ]
     },
     "execution_count": 4,
     "metadata": {},
     "output_type": "execute_result"
    }
   ],
   "source": [
    "# Observamos las primeras 5 filas del dataset\n",
    "housing.head()"
   ]
  },
  {
   "cell_type": "code",
   "execution_count": 5,
   "metadata": {},
   "outputs": [
    {
     "data": {
      "text/plain": [
       "(20640, 10)"
      ]
     },
     "execution_count": 5,
     "metadata": {},
     "output_type": "execute_result"
    }
   ],
   "source": [
    "housing.shape"
   ]
  },
  {
   "cell_type": "code",
   "execution_count": 6,
   "metadata": {},
   "outputs": [
    {
     "name": "stdout",
     "output_type": "stream",
     "text": [
      "<class 'pandas.core.frame.DataFrame'>\n",
      "RangeIndex: 20640 entries, 0 to 20639\n",
      "Data columns (total 10 columns):\n",
      "longitude             20640 non-null float64\n",
      "latitude              20640 non-null float64\n",
      "housing_median_age    20640 non-null float64\n",
      "total_rooms           20640 non-null float64\n",
      "total_bedrooms        20433 non-null float64\n",
      "population            20640 non-null float64\n",
      "households            20640 non-null float64\n",
      "median_income         20640 non-null float64\n",
      "median_house_value    20640 non-null float64\n",
      "ocean_proximity       20640 non-null object\n",
      "dtypes: float64(9), object(1)\n",
      "memory usage: 1.6+ MB\n"
     ]
    }
   ],
   "source": [
    "# el método info nos muestra una breve descripción de la data\n",
    "housing.info()"
   ]
  },
  {
   "cell_type": "markdown",
   "metadata": {},
   "source": [
    "Podemos observar que el atributo **total_bedrooms** tiene solo 20433 valores non-null lo que quiere decir que 207 valores estan perdidos de esta caracteristica, tenemos que tener cuidado con esto a posteriori.\n",
    "\n",
    "Otra cosa importante es notar que **ocean_proximity** tiene valores tipo objeto (no numericos) y al parecer los valores son repetitivos, se los podria enmarcar dentro de un atributo tipo categoria, nos podemos asegurar usando el metodo **value_counts()**"
   ]
  },
  {
   "cell_type": "code",
   "execution_count": 7,
   "metadata": {},
   "outputs": [
    {
     "data": {
      "text/plain": [
       "<1H OCEAN     9136\n",
       "INLAND        6551\n",
       "NEAR OCEAN    2658\n",
       "NEAR BAY      2290\n",
       "ISLAND           5\n",
       "Name: ocean_proximity, dtype: int64"
      ]
     },
     "execution_count": 7,
     "metadata": {},
     "output_type": "execute_result"
    }
   ],
   "source": [
    "housing['ocean_proximity'].value_counts()"
   ]
  },
  {
   "cell_type": "markdown",
   "metadata": {},
   "source": [
    "Ahora vamos a ver los otros campos, para esto nos ayuda mucho el metodo **describe()**"
   ]
  },
  {
   "cell_type": "code",
   "execution_count": 8,
   "metadata": {},
   "outputs": [
    {
     "data": {
      "text/html": [
       "<div>\n",
       "<style scoped>\n",
       "    .dataframe tbody tr th:only-of-type {\n",
       "        vertical-align: middle;\n",
       "    }\n",
       "\n",
       "    .dataframe tbody tr th {\n",
       "        vertical-align: top;\n",
       "    }\n",
       "\n",
       "    .dataframe thead th {\n",
       "        text-align: right;\n",
       "    }\n",
       "</style>\n",
       "<table border=\"1\" class=\"dataframe\">\n",
       "  <thead>\n",
       "    <tr style=\"text-align: right;\">\n",
       "      <th></th>\n",
       "      <th>longitude</th>\n",
       "      <th>latitude</th>\n",
       "      <th>housing_median_age</th>\n",
       "      <th>total_rooms</th>\n",
       "      <th>total_bedrooms</th>\n",
       "      <th>population</th>\n",
       "      <th>households</th>\n",
       "      <th>median_income</th>\n",
       "      <th>median_house_value</th>\n",
       "    </tr>\n",
       "  </thead>\n",
       "  <tbody>\n",
       "    <tr>\n",
       "      <th>count</th>\n",
       "      <td>20640.000000</td>\n",
       "      <td>20640.000000</td>\n",
       "      <td>20640.000000</td>\n",
       "      <td>20640.000000</td>\n",
       "      <td>20433.000000</td>\n",
       "      <td>20640.000000</td>\n",
       "      <td>20640.000000</td>\n",
       "      <td>20640.000000</td>\n",
       "      <td>20640.000000</td>\n",
       "    </tr>\n",
       "    <tr>\n",
       "      <th>mean</th>\n",
       "      <td>-119.569704</td>\n",
       "      <td>35.631861</td>\n",
       "      <td>28.639486</td>\n",
       "      <td>2635.763081</td>\n",
       "      <td>537.870553</td>\n",
       "      <td>1425.476744</td>\n",
       "      <td>499.539680</td>\n",
       "      <td>3.870671</td>\n",
       "      <td>206855.816909</td>\n",
       "    </tr>\n",
       "    <tr>\n",
       "      <th>std</th>\n",
       "      <td>2.003532</td>\n",
       "      <td>2.135952</td>\n",
       "      <td>12.585558</td>\n",
       "      <td>2181.615252</td>\n",
       "      <td>421.385070</td>\n",
       "      <td>1132.462122</td>\n",
       "      <td>382.329753</td>\n",
       "      <td>1.899822</td>\n",
       "      <td>115395.615874</td>\n",
       "    </tr>\n",
       "    <tr>\n",
       "      <th>min</th>\n",
       "      <td>-124.350000</td>\n",
       "      <td>32.540000</td>\n",
       "      <td>1.000000</td>\n",
       "      <td>2.000000</td>\n",
       "      <td>1.000000</td>\n",
       "      <td>3.000000</td>\n",
       "      <td>1.000000</td>\n",
       "      <td>0.499900</td>\n",
       "      <td>14999.000000</td>\n",
       "    </tr>\n",
       "    <tr>\n",
       "      <th>25%</th>\n",
       "      <td>-121.800000</td>\n",
       "      <td>33.930000</td>\n",
       "      <td>18.000000</td>\n",
       "      <td>1447.750000</td>\n",
       "      <td>296.000000</td>\n",
       "      <td>787.000000</td>\n",
       "      <td>280.000000</td>\n",
       "      <td>2.563400</td>\n",
       "      <td>119600.000000</td>\n",
       "    </tr>\n",
       "    <tr>\n",
       "      <th>50%</th>\n",
       "      <td>-118.490000</td>\n",
       "      <td>34.260000</td>\n",
       "      <td>29.000000</td>\n",
       "      <td>2127.000000</td>\n",
       "      <td>435.000000</td>\n",
       "      <td>1166.000000</td>\n",
       "      <td>409.000000</td>\n",
       "      <td>3.534800</td>\n",
       "      <td>179700.000000</td>\n",
       "    </tr>\n",
       "    <tr>\n",
       "      <th>75%</th>\n",
       "      <td>-118.010000</td>\n",
       "      <td>37.710000</td>\n",
       "      <td>37.000000</td>\n",
       "      <td>3148.000000</td>\n",
       "      <td>647.000000</td>\n",
       "      <td>1725.000000</td>\n",
       "      <td>605.000000</td>\n",
       "      <td>4.743250</td>\n",
       "      <td>264725.000000</td>\n",
       "    </tr>\n",
       "    <tr>\n",
       "      <th>max</th>\n",
       "      <td>-114.310000</td>\n",
       "      <td>41.950000</td>\n",
       "      <td>52.000000</td>\n",
       "      <td>39320.000000</td>\n",
       "      <td>6445.000000</td>\n",
       "      <td>35682.000000</td>\n",
       "      <td>6082.000000</td>\n",
       "      <td>15.000100</td>\n",
       "      <td>500001.000000</td>\n",
       "    </tr>\n",
       "  </tbody>\n",
       "</table>\n",
       "</div>"
      ],
      "text/plain": [
       "          longitude      latitude  housing_median_age   total_rooms  \\\n",
       "count  20640.000000  20640.000000        20640.000000  20640.000000   \n",
       "mean    -119.569704     35.631861           28.639486   2635.763081   \n",
       "std        2.003532      2.135952           12.585558   2181.615252   \n",
       "min     -124.350000     32.540000            1.000000      2.000000   \n",
       "25%     -121.800000     33.930000           18.000000   1447.750000   \n",
       "50%     -118.490000     34.260000           29.000000   2127.000000   \n",
       "75%     -118.010000     37.710000           37.000000   3148.000000   \n",
       "max     -114.310000     41.950000           52.000000  39320.000000   \n",
       "\n",
       "       total_bedrooms    population    households  median_income  \\\n",
       "count    20433.000000  20640.000000  20640.000000   20640.000000   \n",
       "mean       537.870553   1425.476744    499.539680       3.870671   \n",
       "std        421.385070   1132.462122    382.329753       1.899822   \n",
       "min          1.000000      3.000000      1.000000       0.499900   \n",
       "25%        296.000000    787.000000    280.000000       2.563400   \n",
       "50%        435.000000   1166.000000    409.000000       3.534800   \n",
       "75%        647.000000   1725.000000    605.000000       4.743250   \n",
       "max       6445.000000  35682.000000   6082.000000      15.000100   \n",
       "\n",
       "       median_house_value  \n",
       "count        20640.000000  \n",
       "mean        206855.816909  \n",
       "std         115395.615874  \n",
       "min          14999.000000  \n",
       "25%         119600.000000  \n",
       "50%         179700.000000  \n",
       "75%         264725.000000  \n",
       "max         500001.000000  "
      ]
     },
     "execution_count": 8,
     "metadata": {},
     "output_type": "execute_result"
    }
   ],
   "source": [
    "housing.describe()"
   ]
  },
  {
   "cell_type": "markdown",
   "metadata": {},
   "source": [
    "Los valores que obtenemos en las columnas numéricas son:\n",
    "* count: Cuenta los valores non-null\n",
    "* mean: obtiene la media\n",
    "* std: desviación estandar, nos dice que tan dispersos estan los datos\n",
    "* min: valor minimo en la columna\n",
    "* 25%: Primer cuartil el porcentaje de casas que estan por debajo de los 18 años en housing_median_age\n",
    "* 50%: Mediana, el porcentaje de casas que estan por debajo de 29 años\n",
    "* 75%: Tercer cuartil, el porcentaje de casas que estan debajo de los 37 años\n",
    "* max: el valor máximo en la columna"
   ]
  },
  {
   "cell_type": "code",
   "execution_count": 9,
   "metadata": {},
   "outputs": [
    {
     "data": {
      "image/png": "[encoded data removed]",
      "text/plain": [
       "<Figure size 1440x1080 with 9 Axes>"
      ]
     },
     "metadata": {
      "needs_background": "light"
     },
     "output_type": "display_data"
    }
   ],
   "source": [
    "housing.hist(bins=50, figsize=(20,15))\n",
    "plt.show()"
   ]
  },
  {
   "cell_type": "markdown",
   "metadata": {},
   "source": [
    "De los histogramas podemos observar algunas situaciones interesantes:\n",
    "1. El valor de median_income parece que no esta expresado en dolares, si no mas bien ha sido escalado y limitado, trabajar con estos valores escalados no supone un problema, pero sin embargo deberia entender como los datos fueron computados. Para eso es recomendable hablar con la gente que recogió la data.\n",
    "2. Los atributos de housing_media_age y median_housing_value tambien han sido limitados, al ser median_housing_value tu atributo objetivo el sistema puede aprender que los precios nunca van mas allá del limite de $500000$, si su cliente desea obtener valores superiores al que posee la data, se tienen dos opciones:\n",
    "    * Recoger de manera adecuada los valores que han sido limitados\n",
    "    * Remover esos valores de distritos del set de entrenamiento para que no evalue de manera incorrecta cuando los valores superen  los $500000$\n",
    "\n",
    "* Estos atributos tienen diferentes escalas, para eso vamos a ver un tema orientado al escalamiento de features\n",
    "* Por otro lado muchos histogramas se extienden mucho hacia la derecha de la mediana, lo que puede hacer dificil para algunos algoritmos de M.L. detectar patrones, a posterior vamos a intentar transformar esos atributos a una figura mas acampanada (distribucion normal)"
   ]
  },
  {
   "cell_type": "markdown",
   "metadata": {},
   "source": [
    "### Crear el dataset\n",
    "\n",
    "Puede ser poco intuitivo escoger los datos en este punto, debido a que apenas hemos revisado los mismos de manera rápida. Pero la verdad es que si usted estima el error de los datos utilizando toda la data de prueba, usted caerá en un problema común denominado sesgo en generalización de datos. Ya que los resultados serán muy optimistas.\n",
    "\n",
    "Para evitar eso lo que se necesita es como minimo dividir los datos en set de entrenamiento, prueba y validación. (train, test, validation)\n",
    "\n",
    "* El train data contine la mayoria de datos y será utilizado para el entrenamiento, se estima de entre 70%-95% de la muestra será utilizado en este data set\n",
    "\n",
    "* El test data contine el resto de datos que no fueron escogidos para entrenamiento 5%-30% y esta data sirve para tener una estimación de error mas efectiva sobre los datos obtenidos por nuestro modelo ya entrenado\n",
    "\n",
    "* Validation data por otro lado son datos extraidos del train data con los que se prueba el modelo, tiene una función similar al test data y sirve para obtener mayor fiabilidad en la medición del error de nuestro modelo\n",
    "\n",
    "Por ahora nos centraremos solo en los dos primeros train y test.\n",
    "Para hacer una división adecuada **Scikit-Learn** nos brinda una funcion muy buena para hacer este tipo de división **train_test_split**, esta función tiene dos caracteristicas importantes:\n",
    "1. random_state que nos permite generar una eleccion mediante permutación pseudo randomica\n",
    "* Se puede pasar multiples datasets con identico numero de filas y hacer un split en los mismos indices"
   ]
  },
  {
   "cell_type": "code",
   "execution_count": 10,
   "metadata": {},
   "outputs": [
    {
     "data": {
      "text/html": [
       "<div>\n",
       "<style scoped>\n",
       "    .dataframe tbody tr th:only-of-type {\n",
       "        vertical-align: middle;\n",
       "    }\n",
       "\n",
       "    .dataframe tbody tr th {\n",
       "        vertical-align: top;\n",
       "    }\n",
       "\n",
       "    .dataframe thead th {\n",
       "        text-align: right;\n",
       "    }\n",
       "</style>\n",
       "<table border=\"1\" class=\"dataframe\">\n",
       "  <thead>\n",
       "    <tr style=\"text-align: right;\">\n",
       "      <th></th>\n",
       "      <th>longitude</th>\n",
       "      <th>latitude</th>\n",
       "      <th>housing_median_age</th>\n",
       "      <th>total_rooms</th>\n",
       "      <th>total_bedrooms</th>\n",
       "      <th>population</th>\n",
       "      <th>households</th>\n",
       "      <th>median_income</th>\n",
       "      <th>median_house_value</th>\n",
       "      <th>ocean_proximity</th>\n",
       "    </tr>\n",
       "  </thead>\n",
       "  <tbody>\n",
       "    <tr>\n",
       "      <th>10471</th>\n",
       "      <td>-117.72</td>\n",
       "      <td>33.49</td>\n",
       "      <td>4.0</td>\n",
       "      <td>3623.0</td>\n",
       "      <td>734.0</td>\n",
       "      <td>1129.0</td>\n",
       "      <td>530.0</td>\n",
       "      <td>5.7281</td>\n",
       "      <td>500001.0</td>\n",
       "      <td>&lt;1H OCEAN</td>\n",
       "    </tr>\n",
       "    <tr>\n",
       "      <th>6876</th>\n",
       "      <td>-118.10</td>\n",
       "      <td>34.07</td>\n",
       "      <td>36.0</td>\n",
       "      <td>1240.0</td>\n",
       "      <td>349.0</td>\n",
       "      <td>1383.0</td>\n",
       "      <td>338.0</td>\n",
       "      <td>2.4931</td>\n",
       "      <td>170300.0</td>\n",
       "      <td>&lt;1H OCEAN</td>\n",
       "    </tr>\n",
       "    <tr>\n",
       "      <th>18065</th>\n",
       "      <td>-122.04</td>\n",
       "      <td>37.24</td>\n",
       "      <td>24.0</td>\n",
       "      <td>1521.0</td>\n",
       "      <td>209.0</td>\n",
       "      <td>539.0</td>\n",
       "      <td>192.0</td>\n",
       "      <td>11.1557</td>\n",
       "      <td>500001.0</td>\n",
       "      <td>&lt;1H OCEAN</td>\n",
       "    </tr>\n",
       "    <tr>\n",
       "      <th>15459</th>\n",
       "      <td>-117.27</td>\n",
       "      <td>33.15</td>\n",
       "      <td>4.0</td>\n",
       "      <td>23915.0</td>\n",
       "      <td>4135.0</td>\n",
       "      <td>10877.0</td>\n",
       "      <td>3958.0</td>\n",
       "      <td>4.6357</td>\n",
       "      <td>244900.0</td>\n",
       "      <td>NEAR OCEAN</td>\n",
       "    </tr>\n",
       "    <tr>\n",
       "      <th>14886</th>\n",
       "      <td>-117.08</td>\n",
       "      <td>32.63</td>\n",
       "      <td>28.0</td>\n",
       "      <td>2080.0</td>\n",
       "      <td>427.0</td>\n",
       "      <td>1266.0</td>\n",
       "      <td>434.0</td>\n",
       "      <td>2.2788</td>\n",
       "      <td>146300.0</td>\n",
       "      <td>NEAR OCEAN</td>\n",
       "    </tr>\n",
       "  </tbody>\n",
       "</table>\n",
       "</div>"
      ],
      "text/plain": [
       "       longitude  latitude  housing_median_age  total_rooms  total_bedrooms  \\\n",
       "10471    -117.72     33.49                 4.0       3623.0           734.0   \n",
       "6876     -118.10     34.07                36.0       1240.0           349.0   \n",
       "18065    -122.04     37.24                24.0       1521.0           209.0   \n",
       "15459    -117.27     33.15                 4.0      23915.0          4135.0   \n",
       "14886    -117.08     32.63                28.0       2080.0           427.0   \n",
       "\n",
       "       population  households  median_income  median_house_value  \\\n",
       "10471      1129.0       530.0         5.7281            500001.0   \n",
       "6876       1383.0       338.0         2.4931            170300.0   \n",
       "18065       539.0       192.0        11.1557            500001.0   \n",
       "15459     10877.0      3958.0         4.6357            244900.0   \n",
       "14886      1266.0       434.0         2.2788            146300.0   \n",
       "\n",
       "      ocean_proximity  \n",
       "10471       <1H OCEAN  \n",
       "6876        <1H OCEAN  \n",
       "18065       <1H OCEAN  \n",
       "15459      NEAR OCEAN  \n",
       "14886      NEAR OCEAN  "
      ]
     },
     "execution_count": 10,
     "metadata": {},
     "output_type": "execute_result"
    }
   ],
   "source": [
    "\n",
    "from sklearn.model_selection import train_test_split\n",
    "train_set, test_set = train_test_split(housing, \n",
    "                                       test_size=0.2, \n",
    "                                       random_state=667)\n",
    "train_set.head()"
   ]
  },
  {
   "cell_type": "markdown",
   "metadata": {},
   "source": [
    "Estos muestreos puramente aleatorios son utiles especialmente cuando tenemos un dataset grande, pero caso contrario puede generar un sesgo significativo en la toma de datos.\n",
    "\n",
    "Por ejemplo: si la población de Ecuador en hombres es del 49% y mujeres 51% y se toman muestrar a 100 personas, se deberia asegurar que 49 muestras representen a hombres y 51 muestras representen a las mujeres, a este proceso se le conoce como estratificación.\n",
    "\n",
    "Sklearn tiene una funcion conocida como:"
   ]
  },
  {
   "cell_type": "code",
   "execution_count": 11,
   "metadata": {},
   "outputs": [],
   "source": [
    "from sklearn.model_selection import StratifiedShuffleSplit"
   ]
  },
  {
   "cell_type": "markdown",
   "metadata": {},
   "source": [
    "permite hacer la estratificación de datos en nuestro dataframe a categorias numéricas. Esto lo veremos con más detalle a posterior."
   ]
  },
  {
   "cell_type": "markdown",
   "metadata": {},
   "source": [
    "## 3. Descubra y visualice los datos para obtener información\n",
    "A continuación le dejamos una lista de cosas que puede verificar en esta etapa del proyecto\n",
    "\n",
    "1. Cree una copia de los datos para la exploración (muestreándolos a un tamaño manejable si es necesario).\n",
    "2. Cree un cuaderno Jupyter para mantener un registro de su exploración de datos.\n",
    "3. Estudiar cada atributo y sus características: \n",
    "    * Nombre \n",
    "    * Tipo (categoria, int/float, texto, etc.) \n",
    "    * % Valores perdidos \n",
    "    * Ruido y tipo de ruido (estocástico, valores atípicos, errores de redondeo, etc.) \n",
    "    * Tipo de distribución (gaussiana, uniforme, logarítmica, etc.)\n",
    "4. Para las tareas de aprendizaje supervisado, identifique los atributos objetivo.\n",
    "5. Visualizar los datos.\n",
    "6. Estudiar las correlaciones entre atributos.\n",
    "7. Estudie cómo resolvería el problema manualmente.\n",
    "8. Identifique las transformaciones prometedoras que podría querer aplicar.\n",
    "9. Identificar los datos adicionales que serían útiles (volver a \"Obtener la data\").\n",
    "10. Documente lo que ha aprendido.\n",
    "___\n",
    "Si tenemos datos manejables como en este caso, primero deberiamos hacer una copia del dataset de entrenamiento para manipular los datos sin riesgo:"
   ]
  },
  {
   "cell_type": "code",
   "execution_count": 12,
   "metadata": {},
   "outputs": [],
   "source": [
    "housing = train_set.copy()"
   ]
  },
  {
   "cell_type": "markdown",
   "metadata": {},
   "source": [
    "### Visualizar los datos\n",
    "En este caso tenemos información geografica, latitud y longitud, es una buena idea crear un scatterplot de todos los distritos para visualizar la data:"
   ]
  },
  {
   "cell_type": "code",
   "execution_count": 13,
   "metadata": {},
   "outputs": [
    {
     "data": {
      "text/plain": [
       "<matplotlib.axes._subplots.AxesSubplot at 0x7efea31d1e90>"
      ]
     },
     "execution_count": 13,
     "metadata": {},
     "output_type": "execute_result"
    },
    {
     "data": {
      "image/png": "[encoded data removed]",
      "text/plain": [
       "<Figure size 432x288 with 1 Axes>"
      ]
     },
     "metadata": {
      "needs_background": "light"
     },
     "output_type": "display_data"
    }
   ],
   "source": [
    "housing.plot(kind=\"scatter\", x = \"longitude\", y=\"latitude\")"
   ]
  },
  {
   "cell_type": "markdown",
   "metadata": {},
   "source": [
    "Tiene la forma del estado de california, de hecho asi debe ser ya que los datos son tomados de ese censo.\n",
    "Como hago si deseo ver las zonas mas densamente pobladas?"
   ]
  },
  {
   "cell_type": "code",
   "execution_count": 14,
   "metadata": {},
   "outputs": [
    {
     "data": {
      "text/plain": [
       "<matplotlib.axes._subplots.AxesSubplot at 0x7efea32ef0d0>"
      ]
     },
     "execution_count": 14,
     "metadata": {},
     "output_type": "execute_result"
    },
    {
     "data": {
      "image/png": "[encoded data removed]",
      "text/plain": [
       "<Figure size 432x288 with 1 Axes>"
      ]
     },
     "metadata": {
      "needs_background": "light"
     },
     "output_type": "display_data"
    }
   ],
   "source": [
    "# que debemos agregar para observar de manera gráfica la densidad?\n",
    "housing.plot(kind=\"scatter\", x = \"longitude\", y=\"latitude\", alpha=0.1)"
   ]
  },
  {
   "cell_type": "markdown",
   "metadata": {},
   "source": [
    "Ahora seria bueno saber la densidad de la población mediante un mapa de colores"
   ]
  },
  {
   "cell_type": "code",
   "execution_count": 15,
   "metadata": {},
   "outputs": [
    {
     "data": {
      "text/plain": [
       "<matplotlib.axes._subplots.AxesSubplot at 0x7efea4f22b90>"
      ]
     },
     "execution_count": 15,
     "metadata": {},
     "output_type": "execute_result"
    },
    {
     "data": {
      "image/png": "[encoded data removed]",
      "text/plain": [
       "<Figure size 432x288 with 2 Axes>"
      ]
     },
     "metadata": {
      "needs_background": "light"
     },
     "output_type": "display_data"
    }
   ],
   "source": [
    "housing.plot(kind='scatter', x='longitude', y='latitude', alpha=0.1, \n",
    "                        s=housing[\"population\"]/100, #poblacion por distrito\n",
    "                        label=\"Población\",\n",
    "                        c = \"median_house_value\", # color que representa el precio\n",
    "                        cmap = plt.get_cmap(\"coolwarm\"),\n",
    "                        colorbar = True)"
   ]
  },
  {
   "cell_type": "markdown",
   "metadata": {},
   "source": [
    "Vemos que mientras mas cerca estan de la costa su precio es mas alto, y principlamente en dos puntos, asi que el atributo de proximidad al oceano puede ser util en este caso.\n",
    "\n",
    "Podria ser interesante aplicar un algoritmo de clusterizado para agregar nuevas caracteristicas que midan la proximidad al centro del cluster"
   ]
  },
  {
   "cell_type": "markdown",
   "metadata": {},
   "source": [
    "### Buscando correlaciones\n",
    "Podemos utilizar el coeficiente de correlacion estandar utilizando el método **corr()**"
   ]
  },
  {
   "cell_type": "code",
   "execution_count": 16,
   "metadata": {},
   "outputs": [
    {
     "data": {
      "text/html": [
       "<div>\n",
       "<style scoped>\n",
       "    .dataframe tbody tr th:only-of-type {\n",
       "        vertical-align: middle;\n",
       "    }\n",
       "\n",
       "    .dataframe tbody tr th {\n",
       "        vertical-align: top;\n",
       "    }\n",
       "\n",
       "    .dataframe thead th {\n",
       "        text-align: right;\n",
       "    }\n",
       "</style>\n",
       "<table border=\"1\" class=\"dataframe\">\n",
       "  <thead>\n",
       "    <tr style=\"text-align: right;\">\n",
       "      <th></th>\n",
       "      <th>longitude</th>\n",
       "      <th>latitude</th>\n",
       "      <th>housing_median_age</th>\n",
       "      <th>total_rooms</th>\n",
       "      <th>total_bedrooms</th>\n",
       "      <th>population</th>\n",
       "      <th>households</th>\n",
       "      <th>median_income</th>\n",
       "      <th>median_house_value</th>\n",
       "    </tr>\n",
       "  </thead>\n",
       "  <tbody>\n",
       "    <tr>\n",
       "      <th>longitude</th>\n",
       "      <td>1.000000</td>\n",
       "      <td>-0.924092</td>\n",
       "      <td>-0.109633</td>\n",
       "      <td>0.042519</td>\n",
       "      <td>0.067359</td>\n",
       "      <td>0.097909</td>\n",
       "      <td>0.053093</td>\n",
       "      <td>-0.016629</td>\n",
       "      <td>-0.047955</td>\n",
       "    </tr>\n",
       "    <tr>\n",
       "      <th>latitude</th>\n",
       "      <td>-0.924092</td>\n",
       "      <td>1.000000</td>\n",
       "      <td>0.012591</td>\n",
       "      <td>-0.032766</td>\n",
       "      <td>-0.063549</td>\n",
       "      <td>-0.105684</td>\n",
       "      <td>-0.067551</td>\n",
       "      <td>-0.079377</td>\n",
       "      <td>-0.142644</td>\n",
       "    </tr>\n",
       "    <tr>\n",
       "      <th>housing_median_age</th>\n",
       "      <td>-0.109633</td>\n",
       "      <td>0.012591</td>\n",
       "      <td>1.000000</td>\n",
       "      <td>-0.364028</td>\n",
       "      <td>-0.323239</td>\n",
       "      <td>-0.296735</td>\n",
       "      <td>-0.305607</td>\n",
       "      <td>-0.120438</td>\n",
       "      <td>0.104900</td>\n",
       "    </tr>\n",
       "    <tr>\n",
       "      <th>total_rooms</th>\n",
       "      <td>0.042519</td>\n",
       "      <td>-0.032766</td>\n",
       "      <td>-0.364028</td>\n",
       "      <td>1.000000</td>\n",
       "      <td>0.931735</td>\n",
       "      <td>0.858805</td>\n",
       "      <td>0.921126</td>\n",
       "      <td>0.198863</td>\n",
       "      <td>0.130340</td>\n",
       "    </tr>\n",
       "    <tr>\n",
       "      <th>total_bedrooms</th>\n",
       "      <td>0.067359</td>\n",
       "      <td>-0.063549</td>\n",
       "      <td>-0.323239</td>\n",
       "      <td>0.931735</td>\n",
       "      <td>1.000000</td>\n",
       "      <td>0.878200</td>\n",
       "      <td>0.980718</td>\n",
       "      <td>-0.006611</td>\n",
       "      <td>0.045002</td>\n",
       "    </tr>\n",
       "    <tr>\n",
       "      <th>population</th>\n",
       "      <td>0.097909</td>\n",
       "      <td>-0.105684</td>\n",
       "      <td>-0.296735</td>\n",
       "      <td>0.858805</td>\n",
       "      <td>0.878200</td>\n",
       "      <td>1.000000</td>\n",
       "      <td>0.906102</td>\n",
       "      <td>0.006247</td>\n",
       "      <td>-0.027930</td>\n",
       "    </tr>\n",
       "    <tr>\n",
       "      <th>households</th>\n",
       "      <td>0.053093</td>\n",
       "      <td>-0.067551</td>\n",
       "      <td>-0.305607</td>\n",
       "      <td>0.921126</td>\n",
       "      <td>0.980718</td>\n",
       "      <td>0.906102</td>\n",
       "      <td>1.000000</td>\n",
       "      <td>0.014388</td>\n",
       "      <td>0.061021</td>\n",
       "    </tr>\n",
       "    <tr>\n",
       "      <th>median_income</th>\n",
       "      <td>-0.016629</td>\n",
       "      <td>-0.079377</td>\n",
       "      <td>-0.120438</td>\n",
       "      <td>0.198863</td>\n",
       "      <td>-0.006611</td>\n",
       "      <td>0.006247</td>\n",
       "      <td>0.014388</td>\n",
       "      <td>1.000000</td>\n",
       "      <td>0.687635</td>\n",
       "    </tr>\n",
       "    <tr>\n",
       "      <th>median_house_value</th>\n",
       "      <td>-0.047955</td>\n",
       "      <td>-0.142644</td>\n",
       "      <td>0.104900</td>\n",
       "      <td>0.130340</td>\n",
       "      <td>0.045002</td>\n",
       "      <td>-0.027930</td>\n",
       "      <td>0.061021</td>\n",
       "      <td>0.687635</td>\n",
       "      <td>1.000000</td>\n",
       "    </tr>\n",
       "  </tbody>\n",
       "</table>\n",
       "</div>"
      ],
      "text/plain": [
       "                    longitude  latitude  housing_median_age  total_rooms  \\\n",
       "longitude            1.000000 -0.924092           -0.109633     0.042519   \n",
       "latitude            -0.924092  1.000000            0.012591    -0.032766   \n",
       "housing_median_age  -0.109633  0.012591            1.000000    -0.364028   \n",
       "total_rooms          0.042519 -0.032766           -0.364028     1.000000   \n",
       "total_bedrooms       0.067359 -0.063549           -0.323239     0.931735   \n",
       "population           0.097909 -0.105684           -0.296735     0.858805   \n",
       "households           0.053093 -0.067551           -0.305607     0.921126   \n",
       "median_income       -0.016629 -0.079377           -0.120438     0.198863   \n",
       "median_house_value  -0.047955 -0.142644            0.104900     0.130340   \n",
       "\n",
       "                    total_bedrooms  population  households  median_income  \\\n",
       "longitude                 0.067359    0.097909    0.053093      -0.016629   \n",
       "latitude                 -0.063549   -0.105684   -0.067551      -0.079377   \n",
       "housing_median_age       -0.323239   -0.296735   -0.305607      -0.120438   \n",
       "total_rooms               0.931735    0.858805    0.921126       0.198863   \n",
       "total_bedrooms            1.000000    0.878200    0.980718      -0.006611   \n",
       "population                0.878200    1.000000    0.906102       0.006247   \n",
       "households                0.980718    0.906102    1.000000       0.014388   \n",
       "median_income            -0.006611    0.006247    0.014388       1.000000   \n",
       "median_house_value        0.045002   -0.027930    0.061021       0.687635   \n",
       "\n",
       "                    median_house_value  \n",
       "longitude                    -0.047955  \n",
       "latitude                     -0.142644  \n",
       "housing_median_age            0.104900  \n",
       "total_rooms                   0.130340  \n",
       "total_bedrooms                0.045002  \n",
       "population                   -0.027930  \n",
       "households                    0.061021  \n",
       "median_income                 0.687635  \n",
       "median_house_value            1.000000  "
      ]
     },
     "execution_count": 16,
     "metadata": {},
     "output_type": "execute_result"
    }
   ],
   "source": [
    "housing.corr()"
   ]
  },
  {
   "cell_type": "code",
   "execution_count": 17,
   "metadata": {},
   "outputs": [
    {
     "data": {
      "text/plain": [
       "median_house_value    1.000000\n",
       "median_income         0.687635\n",
       "total_rooms           0.130340\n",
       "housing_median_age    0.104900\n",
       "households            0.061021\n",
       "total_bedrooms        0.045002\n",
       "population           -0.027930\n",
       "longitude            -0.047955\n",
       "latitude             -0.142644\n",
       "Name: median_house_value, dtype: float64"
      ]
     },
     "execution_count": 17,
     "metadata": {},
     "output_type": "execute_result"
    }
   ],
   "source": [
    "housing.corr()['median_house_value'].sort_values(ascending=False)"
   ]
  },
  {
   "cell_type": "markdown",
   "metadata": {},
   "source": [
    "El más prometedor atributo para predecir el valor medio de la casa es el ingreso medio, asi que vamos a dibujar un scatter plot"
   ]
  },
  {
   "cell_type": "code",
   "execution_count": 18,
   "metadata": {},
   "outputs": [
    {
     "data": {
      "text/plain": [
       "<matplotlib.axes._subplots.AxesSubplot at 0x7efea4d6c3d0>"
      ]
     },
     "execution_count": 18,
     "metadata": {},
     "output_type": "execute_result"
    },
    {
     "data": {
      "image/png": "[encoded data removed]",
      "text/plain": [
       "<Figure size 432x288 with 1 Axes>"
      ]
     },
     "metadata": {
      "needs_background": "light"
     },
     "output_type": "display_data"
    }
   ],
   "source": [
    "housing.plot(kind=\"scatter\", x=\"median_income\", y=\"median_house_value\")"
   ]
  },
  {
   "cell_type": "markdown",
   "metadata": {},
   "source": [
    "Aqui podemos notar algunas cosas, claramente la linea en 50000 que ya habiamos notado que era un tope, pero asi mismo otras lineas menos obvias que seria interesante intentar eliminar para que el algoritmo no aprenda estos valores"
   ]
  },
  {
   "cell_type": "markdown",
   "metadata": {},
   "source": [
    "### Experimentando con combinaciones de atributos\n",
    "Es muy interesante que podamos buscar combinaciones de atributos para ver si podemos obtener relaciones mas fuerte combinando los mismos.\n",
    "Se les propone crear relaciones de atributos entre:\n",
    "* \"total_rooms\" vs \"households\" almacenar en una columna llamada \"room_vs_household\n",
    "* \"total_bedrooms\" vs \"total_rooms\" almacenar en una columna llamada \"bedrooms_vs_room\"\n",
    "* \"population\" vs \"households\" almacenar en una columna llamada \"population_vs_households\""
   ]
  },
  {
   "cell_type": "code",
   "execution_count": 19,
   "metadata": {},
   "outputs": [
    {
     "name": "stdout",
     "output_type": "stream",
     "text": [
      "<class 'pandas.core.frame.DataFrame'>\n",
      "Int64Index: 16512 entries, 10471 to 213\n",
      "Data columns (total 10 columns):\n",
      "longitude             16512 non-null float64\n",
      "latitude              16512 non-null float64\n",
      "housing_median_age    16512 non-null float64\n",
      "total_rooms           16512 non-null float64\n",
      "total_bedrooms        16343 non-null float64\n",
      "population            16512 non-null float64\n",
      "households            16512 non-null float64\n",
      "median_income         16512 non-null float64\n",
      "median_house_value    16512 non-null float64\n",
      "ocean_proximity       16512 non-null object\n",
      "dtypes: float64(9), object(1)\n",
      "memory usage: 1.4+ MB\n"
     ]
    }
   ],
   "source": [
    "housing.info()"
   ]
  },
  {
   "cell_type": "code",
   "execution_count": 20,
   "metadata": {},
   "outputs": [],
   "source": [
    "housing[\"rooms_vs_household\"] = housing \\\n",
    "    [\"total_rooms\"]/housing[\"households\"]\n",
    "\n",
    "housing[\"bedrooms_vs_room\"] = housing[\"total_bedrooms\"]/housing[\"total_rooms\"]\n",
    "housing[\"population_vs_household\"]= housing[\"population\"]/housing[\"households\"]"
   ]
  },
  {
   "cell_type": "code",
   "execution_count": 21,
   "metadata": {},
   "outputs": [
    {
     "data": {
      "text/plain": [
       "median_house_value         1.000000\n",
       "median_income              0.687635\n",
       "rooms_vs_household         0.151415\n",
       "total_rooms                0.130340\n",
       "housing_median_age         0.104900\n",
       "households                 0.061021\n",
       "total_bedrooms             0.045002\n",
       "population_vs_household   -0.021944\n",
       "population                -0.027930\n",
       "longitude                 -0.047955\n",
       "latitude                  -0.142644\n",
       "bedrooms_vs_room          -0.255375\n",
       "Name: median_house_value, dtype: float64"
      ]
     },
     "execution_count": 21,
     "metadata": {},
     "output_type": "execute_result"
    }
   ],
   "source": [
    "housing.corr()['median_house_value'].sort_values(ascending=False)"
   ]
  },
  {
   "cell_type": "markdown",
   "metadata": {},
   "source": [
    "Excelente, podemos observar que un nuevo atributo que introducimos room_vs_household esta mayormente correlacionado con nuestra medida objetivo\n",
    "\n",
    "Recuerde que este proceso de descubrimiento de la data, es un proceso iterativo, y lo puede repetir multiples veces para ganar mucha más valiosa información, mejorando su prototipo de proyecto"
   ]
  },
  {
   "cell_type": "markdown",
   "metadata": {},
   "source": [
    "## 4. Prepara la data para los algoritmos de M.L.\n",
    "\n",
    "Para la preparación de datos es altamente recomendable escribas funciones que lo hagan automaticamente, estas sson algunas razones:\n",
    "* Puede reproducir las transformaciones facilmente en cualquier dataset\n",
    "* Puedes poco a poco ir construyendo una libreria de trasnformaciones que puedes volver a usar en futuros proyectos\n",
    "* Puedes usar esas funciones para tu sistema on line antes de que los datos alimenten a los algoritmos\n",
    "* Hará posible que tu facilmente pruebes varias combinaciones y probar cual es la mejor\n",
    "\n",
    "Aqui le dejamos una lista de cosas que podemos hacer en este punto:\n",
    "\n",
    "1. Limpieza de datos:\n",
    "    * Corrija o elimine los valores atípicos.\n",
    "    * Rellene los valores que faltan (por ejemplo, con cero, media, mediana...).\n",
    "2. Selección de características:\n",
    "    * Elimine los atributos que no proporcionan información útil para la tarea.\n",
    "3. Ingeniería de características, cuando proceda:\n",
    "    * Discretizar las funciones continuas.\n",
    "    * Descomponer características (por ejemplo, fecha/hora).\n",
    "4. Escalado de características: estandarizar o normalizar características."
   ]
  },
  {
   "cell_type": "markdown",
   "metadata": {},
   "source": [
    "### Limpieza de datos\n",
    "Recordemos que tenemos ahora atributos con missing values, esto afecta negativamente nuestro rendimiento en los modelos.\n",
    "\n",
    "Para solucionarlo tenemos las siguientes opciones:\n",
    "* Deshacerse de los distritos correspondientes.\n",
    "* Deshacerse de todo el atributo.\n",
    "* Establezca los valores en algún valor (cero, la media, la mediana, etc.)."
   ]
  },
  {
   "cell_type": "code",
   "execution_count": 22,
   "metadata": {},
   "outputs": [
    {
     "name": "stdout",
     "output_type": "stream",
     "text": [
      "<class 'pandas.core.frame.DataFrame'>\n",
      "Int64Index: 16512 entries, 10471 to 213\n",
      "Data columns (total 13 columns):\n",
      "longitude                  16512 non-null float64\n",
      "latitude                   16512 non-null float64\n",
      "housing_median_age         16512 non-null float64\n",
      "total_rooms                16512 non-null float64\n",
      "total_bedrooms             16343 non-null float64\n",
      "population                 16512 non-null float64\n",
      "households                 16512 non-null float64\n",
      "median_income              16512 non-null float64\n",
      "median_house_value         16512 non-null float64\n",
      "ocean_proximity            16512 non-null object\n",
      "rooms_vs_household         16512 non-null float64\n",
      "bedrooms_vs_room           16343 non-null float64\n",
      "population_vs_household    16512 non-null float64\n",
      "dtypes: float64(12), object(1)\n",
      "memory usage: 1.8+ MB\n"
     ]
    }
   ],
   "source": [
    "housing.info()"
   ]
  },
  {
   "cell_type": "markdown",
   "metadata": {},
   "source": [
    "Primero vamos a dividir los datos en la data efectiva para entrenamiento y las que van a ser objetivos"
   ]
  },
  {
   "cell_type": "code",
   "execution_count": 23,
   "metadata": {},
   "outputs": [],
   "source": [
    "housing = housing.drop(\"median_house_value\", axis=1)\n",
    "housing_labels = train_set[\"median_house_value\"].copy()"
   ]
  },
  {
   "cell_type": "markdown",
   "metadata": {},
   "source": [
    "Obtenemos un muestreo de los valores que tenemos null"
   ]
  },
  {
   "cell_type": "code",
   "execution_count": 24,
   "metadata": {},
   "outputs": [
    {
     "data": {
      "text/html": [
       "<div>\n",
       "<style scoped>\n",
       "    .dataframe tbody tr th:only-of-type {\n",
       "        vertical-align: middle;\n",
       "    }\n",
       "\n",
       "    .dataframe tbody tr th {\n",
       "        vertical-align: top;\n",
       "    }\n",
       "\n",
       "    .dataframe thead th {\n",
       "        text-align: right;\n",
       "    }\n",
       "</style>\n",
       "<table border=\"1\" class=\"dataframe\">\n",
       "  <thead>\n",
       "    <tr style=\"text-align: right;\">\n",
       "      <th></th>\n",
       "      <th>longitude</th>\n",
       "      <th>latitude</th>\n",
       "      <th>housing_median_age</th>\n",
       "      <th>total_rooms</th>\n",
       "      <th>total_bedrooms</th>\n",
       "      <th>population</th>\n",
       "      <th>households</th>\n",
       "      <th>median_income</th>\n",
       "      <th>ocean_proximity</th>\n",
       "      <th>rooms_vs_household</th>\n",
       "      <th>bedrooms_vs_room</th>\n",
       "      <th>population_vs_household</th>\n",
       "    </tr>\n",
       "  </thead>\n",
       "  <tbody>\n",
       "    <tr>\n",
       "      <th>7806</th>\n",
       "      <td>-118.09</td>\n",
       "      <td>33.89</td>\n",
       "      <td>42.0</td>\n",
       "      <td>991.0</td>\n",
       "      <td>NaN</td>\n",
       "      <td>717.0</td>\n",
       "      <td>219.0</td>\n",
       "      <td>4.0926</td>\n",
       "      <td>&lt;1H OCEAN</td>\n",
       "      <td>4.525114</td>\n",
       "      <td>NaN</td>\n",
       "      <td>3.273973</td>\n",
       "    </tr>\n",
       "    <tr>\n",
       "      <th>3921</th>\n",
       "      <td>-118.56</td>\n",
       "      <td>34.20</td>\n",
       "      <td>35.0</td>\n",
       "      <td>2273.0</td>\n",
       "      <td>NaN</td>\n",
       "      <td>1431.0</td>\n",
       "      <td>403.0</td>\n",
       "      <td>4.0789</td>\n",
       "      <td>&lt;1H OCEAN</td>\n",
       "      <td>5.640199</td>\n",
       "      <td>NaN</td>\n",
       "      <td>3.550868</td>\n",
       "    </tr>\n",
       "    <tr>\n",
       "      <th>19402</th>\n",
       "      <td>-120.93</td>\n",
       "      <td>37.73</td>\n",
       "      <td>14.0</td>\n",
       "      <td>2799.0</td>\n",
       "      <td>NaN</td>\n",
       "      <td>2294.0</td>\n",
       "      <td>596.0</td>\n",
       "      <td>2.6343</td>\n",
       "      <td>INLAND</td>\n",
       "      <td>4.696309</td>\n",
       "      <td>NaN</td>\n",
       "      <td>3.848993</td>\n",
       "    </tr>\n",
       "    <tr>\n",
       "      <th>16880</th>\n",
       "      <td>-122.39</td>\n",
       "      <td>37.59</td>\n",
       "      <td>32.0</td>\n",
       "      <td>4497.0</td>\n",
       "      <td>NaN</td>\n",
       "      <td>1846.0</td>\n",
       "      <td>715.0</td>\n",
       "      <td>6.1323</td>\n",
       "      <td>NEAR OCEAN</td>\n",
       "      <td>6.289510</td>\n",
       "      <td>NaN</td>\n",
       "      <td>2.581818</td>\n",
       "    </tr>\n",
       "    <tr>\n",
       "      <th>19833</th>\n",
       "      <td>-119.38</td>\n",
       "      <td>36.53</td>\n",
       "      <td>38.0</td>\n",
       "      <td>1281.0</td>\n",
       "      <td>NaN</td>\n",
       "      <td>1423.0</td>\n",
       "      <td>293.0</td>\n",
       "      <td>1.9602</td>\n",
       "      <td>INLAND</td>\n",
       "      <td>4.372014</td>\n",
       "      <td>NaN</td>\n",
       "      <td>4.856655</td>\n",
       "    </tr>\n",
       "    <tr>\n",
       "      <th>...</th>\n",
       "      <td>...</td>\n",
       "      <td>...</td>\n",
       "      <td>...</td>\n",
       "      <td>...</td>\n",
       "      <td>...</td>\n",
       "      <td>...</td>\n",
       "      <td>...</td>\n",
       "      <td>...</td>\n",
       "      <td>...</td>\n",
       "      <td>...</td>\n",
       "      <td>...</td>\n",
       "      <td>...</td>\n",
       "    </tr>\n",
       "    <tr>\n",
       "      <th>14331</th>\n",
       "      <td>-117.15</td>\n",
       "      <td>32.72</td>\n",
       "      <td>51.0</td>\n",
       "      <td>1321.0</td>\n",
       "      <td>NaN</td>\n",
       "      <td>781.0</td>\n",
       "      <td>499.0</td>\n",
       "      <td>1.3071</td>\n",
       "      <td>NEAR OCEAN</td>\n",
       "      <td>2.647295</td>\n",
       "      <td>NaN</td>\n",
       "      <td>1.565130</td>\n",
       "    </tr>\n",
       "    <tr>\n",
       "      <th>15137</th>\n",
       "      <td>-116.91</td>\n",
       "      <td>32.83</td>\n",
       "      <td>16.0</td>\n",
       "      <td>5203.0</td>\n",
       "      <td>NaN</td>\n",
       "      <td>2515.0</td>\n",
       "      <td>862.0</td>\n",
       "      <td>4.1050</td>\n",
       "      <td>&lt;1H OCEAN</td>\n",
       "      <td>6.035963</td>\n",
       "      <td>NaN</td>\n",
       "      <td>2.917633</td>\n",
       "    </tr>\n",
       "    <tr>\n",
       "      <th>16105</th>\n",
       "      <td>-122.50</td>\n",
       "      <td>37.75</td>\n",
       "      <td>44.0</td>\n",
       "      <td>1819.0</td>\n",
       "      <td>NaN</td>\n",
       "      <td>1137.0</td>\n",
       "      <td>354.0</td>\n",
       "      <td>3.4919</td>\n",
       "      <td>NEAR OCEAN</td>\n",
       "      <td>5.138418</td>\n",
       "      <td>NaN</td>\n",
       "      <td>3.211864</td>\n",
       "    </tr>\n",
       "    <tr>\n",
       "      <th>7330</th>\n",
       "      <td>-118.17</td>\n",
       "      <td>33.98</td>\n",
       "      <td>41.0</td>\n",
       "      <td>756.0</td>\n",
       "      <td>NaN</td>\n",
       "      <td>873.0</td>\n",
       "      <td>212.0</td>\n",
       "      <td>2.7321</td>\n",
       "      <td>&lt;1H OCEAN</td>\n",
       "      <td>3.566038</td>\n",
       "      <td>NaN</td>\n",
       "      <td>4.117925</td>\n",
       "    </tr>\n",
       "    <tr>\n",
       "      <th>2323</th>\n",
       "      <td>-119.73</td>\n",
       "      <td>36.83</td>\n",
       "      <td>8.0</td>\n",
       "      <td>3602.0</td>\n",
       "      <td>NaN</td>\n",
       "      <td>1959.0</td>\n",
       "      <td>580.0</td>\n",
       "      <td>5.3478</td>\n",
       "      <td>INLAND</td>\n",
       "      <td>6.210345</td>\n",
       "      <td>NaN</td>\n",
       "      <td>3.377586</td>\n",
       "    </tr>\n",
       "  </tbody>\n",
       "</table>\n",
       "<p>169 rows × 12 columns</p>\n",
       "</div>"
      ],
      "text/plain": [
       "       longitude  latitude  housing_median_age  total_rooms  total_bedrooms  \\\n",
       "7806     -118.09     33.89                42.0        991.0             NaN   \n",
       "3921     -118.56     34.20                35.0       2273.0             NaN   \n",
       "19402    -120.93     37.73                14.0       2799.0             NaN   \n",
       "16880    -122.39     37.59                32.0       4497.0             NaN   \n",
       "19833    -119.38     36.53                38.0       1281.0             NaN   \n",
       "...          ...       ...                 ...          ...             ...   \n",
       "14331    -117.15     32.72                51.0       1321.0             NaN   \n",
       "15137    -116.91     32.83                16.0       5203.0             NaN   \n",
       "16105    -122.50     37.75                44.0       1819.0             NaN   \n",
       "7330     -118.17     33.98                41.0        756.0             NaN   \n",
       "2323     -119.73     36.83                 8.0       3602.0             NaN   \n",
       "\n",
       "       population  households  median_income ocean_proximity  \\\n",
       "7806        717.0       219.0         4.0926       <1H OCEAN   \n",
       "3921       1431.0       403.0         4.0789       <1H OCEAN   \n",
       "19402      2294.0       596.0         2.6343          INLAND   \n",
       "16880      1846.0       715.0         6.1323      NEAR OCEAN   \n",
       "19833      1423.0       293.0         1.9602          INLAND   \n",
       "...           ...         ...            ...             ...   \n",
       "14331       781.0       499.0         1.3071      NEAR OCEAN   \n",
       "15137      2515.0       862.0         4.1050       <1H OCEAN   \n",
       "16105      1137.0       354.0         3.4919      NEAR OCEAN   \n",
       "7330        873.0       212.0         2.7321       <1H OCEAN   \n",
       "2323       1959.0       580.0         5.3478          INLAND   \n",
       "\n",
       "       rooms_vs_household  bedrooms_vs_room  population_vs_household  \n",
       "7806             4.525114               NaN                 3.273973  \n",
       "3921             5.640199               NaN                 3.550868  \n",
       "19402            4.696309               NaN                 3.848993  \n",
       "16880            6.289510               NaN                 2.581818  \n",
       "19833            4.372014               NaN                 4.856655  \n",
       "...                   ...               ...                      ...  \n",
       "14331            2.647295               NaN                 1.565130  \n",
       "15137            6.035963               NaN                 2.917633  \n",
       "16105            5.138418               NaN                 3.211864  \n",
       "7330             3.566038               NaN                 4.117925  \n",
       "2323             6.210345               NaN                 3.377586  \n",
       "\n",
       "[169 rows x 12 columns]"
      ]
     },
     "execution_count": 24,
     "metadata": {},
     "output_type": "execute_result"
    }
   ],
   "source": [
    "sample_incomplete_rows = housing[housing.isnull().any(axis=1)]\n",
    "sample_incomplete_rows"
   ]
  },
  {
   "cell_type": "markdown",
   "metadata": {},
   "source": [
    "Vamos a escoger la opcion de rellenar los datos con algun valor, en este caso vamos a escoger la mediana, una funcion importante que tiene Sklearn es **SimpleImputer**"
   ]
  },
  {
   "cell_type": "code",
   "execution_count": 25,
   "metadata": {},
   "outputs": [],
   "source": [
    "from sklearn.impute import SimpleImputer\n",
    "imputer = SimpleImputer(strategy=\"median\")"
   ]
  },
  {
   "cell_type": "code",
   "execution_count": 26,
   "metadata": {},
   "outputs": [
    {
     "data": {
      "text/html": [
       "<div>\n",
       "<style scoped>\n",
       "    .dataframe tbody tr th:only-of-type {\n",
       "        vertical-align: middle;\n",
       "    }\n",
       "\n",
       "    .dataframe tbody tr th {\n",
       "        vertical-align: top;\n",
       "    }\n",
       "\n",
       "    .dataframe thead th {\n",
       "        text-align: right;\n",
       "    }\n",
       "</style>\n",
       "<table border=\"1\" class=\"dataframe\">\n",
       "  <thead>\n",
       "    <tr style=\"text-align: right;\">\n",
       "      <th></th>\n",
       "      <th>longitude</th>\n",
       "      <th>latitude</th>\n",
       "      <th>housing_median_age</th>\n",
       "      <th>total_rooms</th>\n",
       "      <th>total_bedrooms</th>\n",
       "      <th>population</th>\n",
       "      <th>households</th>\n",
       "      <th>median_income</th>\n",
       "      <th>rooms_vs_household</th>\n",
       "      <th>bedrooms_vs_room</th>\n",
       "      <th>population_vs_household</th>\n",
       "    </tr>\n",
       "  </thead>\n",
       "  <tbody>\n",
       "    <tr>\n",
       "      <th>10471</th>\n",
       "      <td>-117.72</td>\n",
       "      <td>33.49</td>\n",
       "      <td>4.0</td>\n",
       "      <td>3623.0</td>\n",
       "      <td>734.0</td>\n",
       "      <td>1129.0</td>\n",
       "      <td>530.0</td>\n",
       "      <td>5.7281</td>\n",
       "      <td>6.835849</td>\n",
       "      <td>0.202595</td>\n",
       "      <td>2.130189</td>\n",
       "    </tr>\n",
       "    <tr>\n",
       "      <th>6876</th>\n",
       "      <td>-118.10</td>\n",
       "      <td>34.07</td>\n",
       "      <td>36.0</td>\n",
       "      <td>1240.0</td>\n",
       "      <td>349.0</td>\n",
       "      <td>1383.0</td>\n",
       "      <td>338.0</td>\n",
       "      <td>2.4931</td>\n",
       "      <td>3.668639</td>\n",
       "      <td>0.281452</td>\n",
       "      <td>4.091716</td>\n",
       "    </tr>\n",
       "    <tr>\n",
       "      <th>18065</th>\n",
       "      <td>-122.04</td>\n",
       "      <td>37.24</td>\n",
       "      <td>24.0</td>\n",
       "      <td>1521.0</td>\n",
       "      <td>209.0</td>\n",
       "      <td>539.0</td>\n",
       "      <td>192.0</td>\n",
       "      <td>11.1557</td>\n",
       "      <td>7.921875</td>\n",
       "      <td>0.137410</td>\n",
       "      <td>2.807292</td>\n",
       "    </tr>\n",
       "    <tr>\n",
       "      <th>15459</th>\n",
       "      <td>-117.27</td>\n",
       "      <td>33.15</td>\n",
       "      <td>4.0</td>\n",
       "      <td>23915.0</td>\n",
       "      <td>4135.0</td>\n",
       "      <td>10877.0</td>\n",
       "      <td>3958.0</td>\n",
       "      <td>4.6357</td>\n",
       "      <td>6.042193</td>\n",
       "      <td>0.172904</td>\n",
       "      <td>2.748105</td>\n",
       "    </tr>\n",
       "    <tr>\n",
       "      <th>14886</th>\n",
       "      <td>-117.08</td>\n",
       "      <td>32.63</td>\n",
       "      <td>28.0</td>\n",
       "      <td>2080.0</td>\n",
       "      <td>427.0</td>\n",
       "      <td>1266.0</td>\n",
       "      <td>434.0</td>\n",
       "      <td>2.2788</td>\n",
       "      <td>4.792627</td>\n",
       "      <td>0.205288</td>\n",
       "      <td>2.917051</td>\n",
       "    </tr>\n",
       "    <tr>\n",
       "      <th>...</th>\n",
       "      <td>...</td>\n",
       "      <td>...</td>\n",
       "      <td>...</td>\n",
       "      <td>...</td>\n",
       "      <td>...</td>\n",
       "      <td>...</td>\n",
       "      <td>...</td>\n",
       "      <td>...</td>\n",
       "      <td>...</td>\n",
       "      <td>...</td>\n",
       "      <td>...</td>\n",
       "    </tr>\n",
       "    <tr>\n",
       "      <th>13815</th>\n",
       "      <td>-117.22</td>\n",
       "      <td>34.44</td>\n",
       "      <td>5.0</td>\n",
       "      <td>4787.0</td>\n",
       "      <td>910.0</td>\n",
       "      <td>1944.0</td>\n",
       "      <td>806.0</td>\n",
       "      <td>2.6576</td>\n",
       "      <td>5.939206</td>\n",
       "      <td>0.190098</td>\n",
       "      <td>2.411911</td>\n",
       "    </tr>\n",
       "    <tr>\n",
       "      <th>14180</th>\n",
       "      <td>-117.06</td>\n",
       "      <td>32.72</td>\n",
       "      <td>31.0</td>\n",
       "      <td>2669.0</td>\n",
       "      <td>514.0</td>\n",
       "      <td>1626.0</td>\n",
       "      <td>499.0</td>\n",
       "      <td>3.1923</td>\n",
       "      <td>5.348697</td>\n",
       "      <td>0.192581</td>\n",
       "      <td>3.258517</td>\n",
       "    </tr>\n",
       "    <tr>\n",
       "      <th>14425</th>\n",
       "      <td>-117.25</td>\n",
       "      <td>32.80</td>\n",
       "      <td>37.0</td>\n",
       "      <td>1096.0</td>\n",
       "      <td>260.0</td>\n",
       "      <td>490.0</td>\n",
       "      <td>267.0</td>\n",
       "      <td>3.2663</td>\n",
       "      <td>4.104869</td>\n",
       "      <td>0.237226</td>\n",
       "      <td>1.835206</td>\n",
       "    </tr>\n",
       "    <tr>\n",
       "      <th>6543</th>\n",
       "      <td>-118.02</td>\n",
       "      <td>34.06</td>\n",
       "      <td>26.0</td>\n",
       "      <td>2929.0</td>\n",
       "      <td>970.0</td>\n",
       "      <td>3792.0</td>\n",
       "      <td>817.0</td>\n",
       "      <td>2.2577</td>\n",
       "      <td>3.585067</td>\n",
       "      <td>0.331171</td>\n",
       "      <td>4.641371</td>\n",
       "    </tr>\n",
       "    <tr>\n",
       "      <th>213</th>\n",
       "      <td>-122.22</td>\n",
       "      <td>37.79</td>\n",
       "      <td>46.0</td>\n",
       "      <td>2366.0</td>\n",
       "      <td>575.0</td>\n",
       "      <td>1647.0</td>\n",
       "      <td>527.0</td>\n",
       "      <td>2.6042</td>\n",
       "      <td>4.489564</td>\n",
       "      <td>0.243026</td>\n",
       "      <td>3.125237</td>\n",
       "    </tr>\n",
       "  </tbody>\n",
       "</table>\n",
       "<p>16512 rows × 11 columns</p>\n",
       "</div>"
      ],
      "text/plain": [
       "       longitude  latitude  housing_median_age  total_rooms  total_bedrooms  \\\n",
       "10471    -117.72     33.49                 4.0       3623.0           734.0   \n",
       "6876     -118.10     34.07                36.0       1240.0           349.0   \n",
       "18065    -122.04     37.24                24.0       1521.0           209.0   \n",
       "15459    -117.27     33.15                 4.0      23915.0          4135.0   \n",
       "14886    -117.08     32.63                28.0       2080.0           427.0   \n",
       "...          ...       ...                 ...          ...             ...   \n",
       "13815    -117.22     34.44                 5.0       4787.0           910.0   \n",
       "14180    -117.06     32.72                31.0       2669.0           514.0   \n",
       "14425    -117.25     32.80                37.0       1096.0           260.0   \n",
       "6543     -118.02     34.06                26.0       2929.0           970.0   \n",
       "213      -122.22     37.79                46.0       2366.0           575.0   \n",
       "\n",
       "       population  households  median_income  rooms_vs_household  \\\n",
       "10471      1129.0       530.0         5.7281            6.835849   \n",
       "6876       1383.0       338.0         2.4931            3.668639   \n",
       "18065       539.0       192.0        11.1557            7.921875   \n",
       "15459     10877.0      3958.0         4.6357            6.042193   \n",
       "14886      1266.0       434.0         2.2788            4.792627   \n",
       "...           ...         ...            ...                 ...   \n",
       "13815      1944.0       806.0         2.6576            5.939206   \n",
       "14180      1626.0       499.0         3.1923            5.348697   \n",
       "14425       490.0       267.0         3.2663            4.104869   \n",
       "6543       3792.0       817.0         2.2577            3.585067   \n",
       "213        1647.0       527.0         2.6042            4.489564   \n",
       "\n",
       "       bedrooms_vs_room  population_vs_household  \n",
       "10471          0.202595                 2.130189  \n",
       "6876           0.281452                 4.091716  \n",
       "18065          0.137410                 2.807292  \n",
       "15459          0.172904                 2.748105  \n",
       "14886          0.205288                 2.917051  \n",
       "...                 ...                      ...  \n",
       "13815          0.190098                 2.411911  \n",
       "14180          0.192581                 3.258517  \n",
       "14425          0.237226                 1.835206  \n",
       "6543           0.331171                 4.641371  \n",
       "213            0.243026                 3.125237  \n",
       "\n",
       "[16512 rows x 11 columns]"
      ]
     },
     "execution_count": 26,
     "metadata": {},
     "output_type": "execute_result"
    }
   ],
   "source": [
    "# Como imputer solo realiza valores en atributos numericos \n",
    "# vamos a eliminar la columna \"ocean_proximity\"\n",
    "housing_num = housing.drop(\"ocean_proximity\", axis=1)\n",
    "housing_num"
   ]
  },
  {
   "cell_type": "code",
   "execution_count": 27,
   "metadata": {},
   "outputs": [
    {
     "data": {
      "text/plain": [
       "SimpleImputer(add_indicator=False, copy=True, fill_value=None,\n",
       "              missing_values=nan, strategy='median', verbose=0)"
      ]
     },
     "execution_count": 27,
     "metadata": {},
     "output_type": "execute_result"
    }
   ],
   "source": [
    "# Entrenamos el imputer\n",
    "imputer.fit(housing_num)"
   ]
  },
  {
   "cell_type": "code",
   "execution_count": 28,
   "metadata": {},
   "outputs": [],
   "source": [
    "# Procedemos a la transformacion\n",
    "X = imputer.transform(housing_num)"
   ]
  },
  {
   "cell_type": "code",
   "execution_count": 29,
   "metadata": {},
   "outputs": [
    {
     "data": {
      "text/plain": [
       "array([[-117.72      ,   33.49      ,    4.        , ...,    6.83584906,\n",
       "           0.20259453,    2.13018868],\n",
       "       [-118.1       ,   34.07      ,   36.        , ...,    3.66863905,\n",
       "           0.28145161,    4.09171598],\n",
       "       [-122.04      ,   37.24      ,   24.        , ...,    7.921875  ,\n",
       "           0.1374096 ,    2.80729167],\n",
       "       ...,\n",
       "       [-117.25      ,   32.8       ,   37.        , ...,    4.10486891,\n",
       "           0.23722628,    1.83520599],\n",
       "       [-118.02      ,   34.06      ,   26.        , ...,    3.58506732,\n",
       "           0.33117105,    4.64137087],\n",
       "       [-122.22      ,   37.79      ,   46.        , ...,    4.48956357,\n",
       "           0.2430262 ,    3.12523719]])"
      ]
     },
     "execution_count": 29,
     "metadata": {},
     "output_type": "execute_result"
    }
   ],
   "source": [
    "X"
   ]
  },
  {
   "cell_type": "code",
   "execution_count": 30,
   "metadata": {},
   "outputs": [],
   "source": [
    "# Almacenamos el dataset transformado en un nuevo dataset\n",
    "housing_tr = pd.DataFrame(X, columns=housing_num.columns,\n",
    "                                  index = housing.index)"
   ]
  },
  {
   "cell_type": "code",
   "execution_count": 31,
   "metadata": {},
   "outputs": [
    {
     "data": {
      "text/html": [
       "<div>\n",
       "<style scoped>\n",
       "    .dataframe tbody tr th:only-of-type {\n",
       "        vertical-align: middle;\n",
       "    }\n",
       "\n",
       "    .dataframe tbody tr th {\n",
       "        vertical-align: top;\n",
       "    }\n",
       "\n",
       "    .dataframe thead th {\n",
       "        text-align: right;\n",
       "    }\n",
       "</style>\n",
       "<table border=\"1\" class=\"dataframe\">\n",
       "  <thead>\n",
       "    <tr style=\"text-align: right;\">\n",
       "      <th></th>\n",
       "      <th>longitude</th>\n",
       "      <th>latitude</th>\n",
       "      <th>housing_median_age</th>\n",
       "      <th>total_rooms</th>\n",
       "      <th>total_bedrooms</th>\n",
       "      <th>population</th>\n",
       "      <th>households</th>\n",
       "      <th>median_income</th>\n",
       "      <th>rooms_vs_household</th>\n",
       "      <th>bedrooms_vs_room</th>\n",
       "      <th>population_vs_household</th>\n",
       "    </tr>\n",
       "  </thead>\n",
       "  <tbody>\n",
       "    <tr>\n",
       "      <th>7806</th>\n",
       "      <td>-118.09</td>\n",
       "      <td>33.89</td>\n",
       "      <td>42.0</td>\n",
       "      <td>991.0</td>\n",
       "      <td>435.0</td>\n",
       "      <td>717.0</td>\n",
       "      <td>219.0</td>\n",
       "      <td>4.0926</td>\n",
       "      <td>4.525114</td>\n",
       "      <td>0.203125</td>\n",
       "      <td>3.273973</td>\n",
       "    </tr>\n",
       "    <tr>\n",
       "      <th>3921</th>\n",
       "      <td>-118.56</td>\n",
       "      <td>34.20</td>\n",
       "      <td>35.0</td>\n",
       "      <td>2273.0</td>\n",
       "      <td>435.0</td>\n",
       "      <td>1431.0</td>\n",
       "      <td>403.0</td>\n",
       "      <td>4.0789</td>\n",
       "      <td>5.640199</td>\n",
       "      <td>0.203125</td>\n",
       "      <td>3.550868</td>\n",
       "    </tr>\n",
       "    <tr>\n",
       "      <th>19402</th>\n",
       "      <td>-120.93</td>\n",
       "      <td>37.73</td>\n",
       "      <td>14.0</td>\n",
       "      <td>2799.0</td>\n",
       "      <td>435.0</td>\n",
       "      <td>2294.0</td>\n",
       "      <td>596.0</td>\n",
       "      <td>2.6343</td>\n",
       "      <td>4.696309</td>\n",
       "      <td>0.203125</td>\n",
       "      <td>3.848993</td>\n",
       "    </tr>\n",
       "    <tr>\n",
       "      <th>16880</th>\n",
       "      <td>-122.39</td>\n",
       "      <td>37.59</td>\n",
       "      <td>32.0</td>\n",
       "      <td>4497.0</td>\n",
       "      <td>435.0</td>\n",
       "      <td>1846.0</td>\n",
       "      <td>715.0</td>\n",
       "      <td>6.1323</td>\n",
       "      <td>6.289510</td>\n",
       "      <td>0.203125</td>\n",
       "      <td>2.581818</td>\n",
       "    </tr>\n",
       "    <tr>\n",
       "      <th>19833</th>\n",
       "      <td>-119.38</td>\n",
       "      <td>36.53</td>\n",
       "      <td>38.0</td>\n",
       "      <td>1281.0</td>\n",
       "      <td>435.0</td>\n",
       "      <td>1423.0</td>\n",
       "      <td>293.0</td>\n",
       "      <td>1.9602</td>\n",
       "      <td>4.372014</td>\n",
       "      <td>0.203125</td>\n",
       "      <td>4.856655</td>\n",
       "    </tr>\n",
       "    <tr>\n",
       "      <th>...</th>\n",
       "      <td>...</td>\n",
       "      <td>...</td>\n",
       "      <td>...</td>\n",
       "      <td>...</td>\n",
       "      <td>...</td>\n",
       "      <td>...</td>\n",
       "      <td>...</td>\n",
       "      <td>...</td>\n",
       "      <td>...</td>\n",
       "      <td>...</td>\n",
       "      <td>...</td>\n",
       "    </tr>\n",
       "    <tr>\n",
       "      <th>14331</th>\n",
       "      <td>-117.15</td>\n",
       "      <td>32.72</td>\n",
       "      <td>51.0</td>\n",
       "      <td>1321.0</td>\n",
       "      <td>435.0</td>\n",
       "      <td>781.0</td>\n",
       "      <td>499.0</td>\n",
       "      <td>1.3071</td>\n",
       "      <td>2.647295</td>\n",
       "      <td>0.203125</td>\n",
       "      <td>1.565130</td>\n",
       "    </tr>\n",
       "    <tr>\n",
       "      <th>15137</th>\n",
       "      <td>-116.91</td>\n",
       "      <td>32.83</td>\n",
       "      <td>16.0</td>\n",
       "      <td>5203.0</td>\n",
       "      <td>435.0</td>\n",
       "      <td>2515.0</td>\n",
       "      <td>862.0</td>\n",
       "      <td>4.1050</td>\n",
       "      <td>6.035963</td>\n",
       "      <td>0.203125</td>\n",
       "      <td>2.917633</td>\n",
       "    </tr>\n",
       "    <tr>\n",
       "      <th>16105</th>\n",
       "      <td>-122.50</td>\n",
       "      <td>37.75</td>\n",
       "      <td>44.0</td>\n",
       "      <td>1819.0</td>\n",
       "      <td>435.0</td>\n",
       "      <td>1137.0</td>\n",
       "      <td>354.0</td>\n",
       "      <td>3.4919</td>\n",
       "      <td>5.138418</td>\n",
       "      <td>0.203125</td>\n",
       "      <td>3.211864</td>\n",
       "    </tr>\n",
       "    <tr>\n",
       "      <th>7330</th>\n",
       "      <td>-118.17</td>\n",
       "      <td>33.98</td>\n",
       "      <td>41.0</td>\n",
       "      <td>756.0</td>\n",
       "      <td>435.0</td>\n",
       "      <td>873.0</td>\n",
       "      <td>212.0</td>\n",
       "      <td>2.7321</td>\n",
       "      <td>3.566038</td>\n",
       "      <td>0.203125</td>\n",
       "      <td>4.117925</td>\n",
       "    </tr>\n",
       "    <tr>\n",
       "      <th>2323</th>\n",
       "      <td>-119.73</td>\n",
       "      <td>36.83</td>\n",
       "      <td>8.0</td>\n",
       "      <td>3602.0</td>\n",
       "      <td>435.0</td>\n",
       "      <td>1959.0</td>\n",
       "      <td>580.0</td>\n",
       "      <td>5.3478</td>\n",
       "      <td>6.210345</td>\n",
       "      <td>0.203125</td>\n",
       "      <td>3.377586</td>\n",
       "    </tr>\n",
       "  </tbody>\n",
       "</table>\n",
       "<p>169 rows × 11 columns</p>\n",
       "</div>"
      ],
      "text/plain": [
       "       longitude  latitude  housing_median_age  total_rooms  total_bedrooms  \\\n",
       "7806     -118.09     33.89                42.0        991.0           435.0   \n",
       "3921     -118.56     34.20                35.0       2273.0           435.0   \n",
       "19402    -120.93     37.73                14.0       2799.0           435.0   \n",
       "16880    -122.39     37.59                32.0       4497.0           435.0   \n",
       "19833    -119.38     36.53                38.0       1281.0           435.0   \n",
       "...          ...       ...                 ...          ...             ...   \n",
       "14331    -117.15     32.72                51.0       1321.0           435.0   \n",
       "15137    -116.91     32.83                16.0       5203.0           435.0   \n",
       "16105    -122.50     37.75                44.0       1819.0           435.0   \n",
       "7330     -118.17     33.98                41.0        756.0           435.0   \n",
       "2323     -119.73     36.83                 8.0       3602.0           435.0   \n",
       "\n",
       "       population  households  median_income  rooms_vs_household  \\\n",
       "7806        717.0       219.0         4.0926            4.525114   \n",
       "3921       1431.0       403.0         4.0789            5.640199   \n",
       "19402      2294.0       596.0         2.6343            4.696309   \n",
       "16880      1846.0       715.0         6.1323            6.289510   \n",
       "19833      1423.0       293.0         1.9602            4.372014   \n",
       "...           ...         ...            ...                 ...   \n",
       "14331       781.0       499.0         1.3071            2.647295   \n",
       "15137      2515.0       862.0         4.1050            6.035963   \n",
       "16105      1137.0       354.0         3.4919            5.138418   \n",
       "7330        873.0       212.0         2.7321            3.566038   \n",
       "2323       1959.0       580.0         5.3478            6.210345   \n",
       "\n",
       "       bedrooms_vs_room  population_vs_household  \n",
       "7806           0.203125                 3.273973  \n",
       "3921           0.203125                 3.550868  \n",
       "19402          0.203125                 3.848993  \n",
       "16880          0.203125                 2.581818  \n",
       "19833          0.203125                 4.856655  \n",
       "...                 ...                      ...  \n",
       "14331          0.203125                 1.565130  \n",
       "15137          0.203125                 2.917633  \n",
       "16105          0.203125                 3.211864  \n",
       "7330           0.203125                 4.117925  \n",
       "2323           0.203125                 3.377586  \n",
       "\n",
       "[169 rows x 11 columns]"
      ]
     },
     "execution_count": 31,
     "metadata": {},
     "output_type": "execute_result"
    }
   ],
   "source": [
    "#verificamos la data\n",
    "housing_tr.loc[sample_incomplete_rows.index.values]"
   ]
  },
  {
   "cell_type": "code",
   "execution_count": 32,
   "metadata": {},
   "outputs": [
    {
     "name": "stdout",
     "output_type": "stream",
     "text": [
      "<class 'pandas.core.frame.DataFrame'>\n",
      "Int64Index: 16512 entries, 10471 to 213\n",
      "Data columns (total 11 columns):\n",
      "longitude                  16512 non-null float64\n",
      "latitude                   16512 non-null float64\n",
      "housing_median_age         16512 non-null float64\n",
      "total_rooms                16512 non-null float64\n",
      "total_bedrooms             16512 non-null float64\n",
      "population                 16512 non-null float64\n",
      "households                 16512 non-null float64\n",
      "median_income              16512 non-null float64\n",
      "rooms_vs_household         16512 non-null float64\n",
      "bedrooms_vs_room           16512 non-null float64\n",
      "population_vs_household    16512 non-null float64\n",
      "dtypes: float64(11)\n",
      "memory usage: 2.1 MB\n"
     ]
    }
   ],
   "source": [
    "# Observamos que ya no existen missing values\n",
    "housing_tr.info()"
   ]
  },
  {
   "cell_type": "markdown",
   "metadata": {},
   "source": [
    "### Manejando textos y atributos categoricos"
   ]
  },
  {
   "cell_type": "markdown",
   "metadata": {},
   "source": [
    "Los algoritmos de M.L. prefieren trabajar con numeros de cualquier manera, vamos a convertir esos textos en numeros\n",
    "\n",
    "Para eso Scikit-Learn provee un tranformador de esta tarea llamada **LabelEncoder**"
   ]
  },
  {
   "cell_type": "code",
   "execution_count": 33,
   "metadata": {},
   "outputs": [],
   "source": [
    "from sklearn.preprocessing import LabelEncoder"
   ]
  },
  {
   "cell_type": "code",
   "execution_count": 34,
   "metadata": {},
   "outputs": [],
   "source": [
    "encoder = LabelEncoder()\n",
    "ocean_cat = housing[\"ocean_proximity\"]\n"
   ]
  },
  {
   "cell_type": "code",
   "execution_count": 35,
   "metadata": {},
   "outputs": [],
   "source": [
    "ocean_cat_encod = encoder.fit_transform(ocean_cat)"
   ]
  },
  {
   "cell_type": "code",
   "execution_count": 36,
   "metadata": {},
   "outputs": [
    {
     "data": {
      "text/plain": [
       "array([0, 0, 0, ..., 4, 0, 3])"
      ]
     },
     "execution_count": 36,
     "metadata": {},
     "output_type": "execute_result"
    }
   ],
   "source": [
    "ocean_cat_encod"
   ]
  },
  {
   "cell_type": "code",
   "execution_count": 37,
   "metadata": {},
   "outputs": [
    {
     "name": "stdout",
     "output_type": "stream",
     "text": [
      "['<1H OCEAN' 'INLAND' 'ISLAND' 'NEAR BAY' 'NEAR OCEAN']\n"
     ]
    }
   ],
   "source": [
    "print(encoder.classes_)"
   ]
  },
  {
   "cell_type": "markdown",
   "metadata": {},
   "source": [
    "El principal problema con esta codificación es que asume que los valoes mas cercanos tienen mayor relación con valores lejanos, y esto no siempre puede ser cierto.\n",
    "\n",
    "Para reprara este problema tenemos los llamados one-hot encoding, su nombre se debe a que cuando es un valor de 1(hot) en otro caso es 0(cold)\n",
    "\n",
    "Afortunadamente Sklearn tambien tiene este tipo de trasnformación"
   ]
  },
  {
   "cell_type": "code",
   "execution_count": 38,
   "metadata": {},
   "outputs": [],
   "source": [
    "from sklearn.preprocessing import OneHotEncoder"
   ]
  },
  {
   "cell_type": "code",
   "execution_count": 39,
   "metadata": {},
   "outputs": [],
   "source": [
    "encoder = OneHotEncoder()"
   ]
  },
  {
   "cell_type": "code",
   "execution_count": 40,
   "metadata": {},
   "outputs": [
    {
     "name": "stderr",
     "output_type": "stream",
     "text": [
      "/home/richi/.local/lib/python3.7/site-packages/sklearn/preprocessing/_encoders.py:415: FutureWarning: The handling of integer data will change in version 0.22. Currently, the categories are determined based on the range [0, max(values)], while in the future they will be determined based on the unique values.\n",
      "If you want the future behaviour and silence this warning, you can specify \"categories='auto'\".\n",
      "In case you used a LabelEncoder before this OneHotEncoder to convert the categories to integers, then you can now use the OneHotEncoder directly.\n",
      "  warnings.warn(msg, FutureWarning)\n"
     ]
    }
   ],
   "source": [
    "ocean_cat_1hot = encoder.fit_transform(ocean_cat_encod.reshape(-1,1))"
   ]
  },
  {
   "cell_type": "code",
   "execution_count": 41,
   "metadata": {},
   "outputs": [
    {
     "data": {
      "text/plain": [
       "array([[1., 0., 0., 0., 0.],\n",
       "       [1., 0., 0., 0., 0.],\n",
       "       [1., 0., 0., 0., 0.],\n",
       "       ...,\n",
       "       [0., 0., 0., 0., 1.],\n",
       "       [1., 0., 0., 0., 0.],\n",
       "       [0., 0., 0., 1., 0.]])"
      ]
     },
     "execution_count": 41,
     "metadata": {},
     "output_type": "execute_result"
    }
   ],
   "source": [
    "ocean_cat_1hot.toarray()"
   ]
  },
  {
   "cell_type": "markdown",
   "metadata": {},
   "source": [
    "A la salida debemos notar que tenemos una matriz SciPy sparse, esto se aplica debido a que si tenemos miles de categorias vamos a tener una matriz llena de ceros gastando espacio en memoria, en su lugar la matriz sparse solo guarda los lugares de los elementos nonzero \n",
    "\n",
    "Podemos aplicar ambas tranformaciones, o sea directamente de categorias a enteros utilizando **LabelBinarizer**"
   ]
  },
  {
   "cell_type": "code",
   "execution_count": 42,
   "metadata": {},
   "outputs": [],
   "source": [
    "from sklearn.preprocessing import LabelBinarizer"
   ]
  },
  {
   "cell_type": "code",
   "execution_count": 43,
   "metadata": {},
   "outputs": [],
   "source": [
    "encoder = LabelBinarizer()"
   ]
  },
  {
   "cell_type": "code",
   "execution_count": 44,
   "metadata": {},
   "outputs": [],
   "source": [
    "ocean_cat_1hot = encoder.fit_transform(ocean_cat)"
   ]
  },
  {
   "cell_type": "code",
   "execution_count": 45,
   "metadata": {},
   "outputs": [
    {
     "data": {
      "text/plain": [
       "array([[1, 0, 0, 0, 0],\n",
       "       [1, 0, 0, 0, 0],\n",
       "       [1, 0, 0, 0, 0],\n",
       "       ...,\n",
       "       [0, 0, 0, 0, 1],\n",
       "       [1, 0, 0, 0, 0],\n",
       "       [0, 0, 0, 1, 0]])"
      ]
     },
     "execution_count": 45,
     "metadata": {},
     "output_type": "execute_result"
    }
   ],
   "source": [
    "ocean_cat_1hot # devuelve automaticamente un NumpyArray por default"
   ]
  },
  {
   "cell_type": "markdown",
   "metadata": {},
   "source": [
    "### Transformaciones Customizadas\n",
    "Scikit-Learn provee muchas transformaciones utiles como hemos visto hasta ahora, pero sin embargo aún asi es necesario crear nuestras propias transformaciones para que se adapten a nuestra data\n",
    "\n",
    "Un buen ejemplo puede ser intentar realizar una función que combine los atributos, como lo hicimos manualmente en **\"Experimentando con combinaciones de atributos\"**\n",
    "\n",
    "**Importante:** Queda de **TAREA** implementar una funcion que nos permita combinar todos  los atributos numéricos en un dataset."
   ]
  },
  {
   "cell_type": "code",
   "execution_count": 46,
   "metadata": {},
   "outputs": [],
   "source": [
    "# Aqui su código solución"
   ]
  },
  {
   "cell_type": "markdown",
   "metadata": {},
   "source": [
    "### Feature Scaling\n",
    "Una der las más importantes transformaciones que necesitas  aplicar a tu data es feature scaling (escalamiento de caracteristicas), podemos observar en nuestro dataset que el rango de media income va desde 0 a 15 mientras que los demas visiblemente estan en miles.\n",
    "\n",
    "Existen dos metodos comunes para tener los atributos en la misma escala: min-max scaling y estandarización\n",
    "\n",
    "* **Min-Max scaling** es muy simple, los valores son re-escalados a un rango entre 0 y 1 (Tipicamente). Scikit-Learn provee un transformador llamado **MinMaxScaler** para hacer este trabajo, uno de sus parametros es *feature_range* en caso de que tu quisieras cambiar el rango a un valor distinto de 0 y 1\n",
    "* Estandarización es algo distinta, a diferencia de min-max, la estandarización no vincula los valores a un rango específico, lo que puede ser un problema para algunos algoritmos (por ejemplo, las redes neuronales a menudo esperan un valor de entrada que va de 0 a 1). Sin embargo, la estandarización se ve mucho menos afectada por los valores atípicos. Scikit-Learn provee un transformador llamado **StandardScaler** para la estandarización."
   ]
  },
  {
   "cell_type": "markdown",
   "metadata": {},
   "source": [
    "### Pipelines de Transformación\n",
    "Como pudimos observar muchas transformaciones necesitan ser ejecutadas en el orden correcto, para estos caso tenemos la clase **Pipeline** que nos ayuda con las secuencias de transformacion.\n",
    "\n",
    "Vamos a ver un pipeline para atributos numericos"
   ]
  },
  {
   "cell_type": "code",
   "execution_count": 47,
   "metadata": {},
   "outputs": [],
   "source": [
    "from sklearn.pipeline import Pipeline\n",
    "from sklearn.preprocessing import StandardScaler"
   ]
  },
  {
   "cell_type": "code",
   "execution_count": 48,
   "metadata": {},
   "outputs": [],
   "source": [
    "from sklearn.pipeline import FeatureUnion\n",
    "#permite agregar diferentes pipeline para cada tipo de dato"
   ]
  },
  {
   "cell_type": "code",
   "execution_count": 49,
   "metadata": {},
   "outputs": [],
   "source": [
    "num_pipeline = Pipeline([\n",
    "    ('imputer', SimpleImputer(strategy=\"median\")),\n",
    "    ('std_scaler', StandardScaler()),\n",
    "])\n",
    "housing_num_tr = num_pipeline.fit_transform(housing_num)"
   ]
  },
  {
   "cell_type": "code",
   "execution_count": 50,
   "metadata": {},
   "outputs": [
    {
     "data": {
      "text/html": [
       "<div>\n",
       "<style scoped>\n",
       "    .dataframe tbody tr th:only-of-type {\n",
       "        vertical-align: middle;\n",
       "    }\n",
       "\n",
       "    .dataframe tbody tr th {\n",
       "        vertical-align: top;\n",
       "    }\n",
       "\n",
       "    .dataframe thead th {\n",
       "        text-align: right;\n",
       "    }\n",
       "</style>\n",
       "<table border=\"1\" class=\"dataframe\">\n",
       "  <thead>\n",
       "    <tr style=\"text-align: right;\">\n",
       "      <th></th>\n",
       "      <th>longitude</th>\n",
       "      <th>latitude</th>\n",
       "      <th>housing_median_age</th>\n",
       "      <th>total_rooms</th>\n",
       "      <th>total_bedrooms</th>\n",
       "      <th>population</th>\n",
       "      <th>households</th>\n",
       "      <th>median_income</th>\n",
       "      <th>rooms_vs_household</th>\n",
       "      <th>bedrooms_vs_room</th>\n",
       "      <th>population_vs_household</th>\n",
       "    </tr>\n",
       "  </thead>\n",
       "  <tbody>\n",
       "    <tr>\n",
       "      <th>0</th>\n",
       "      <td>0.925486</td>\n",
       "      <td>-1.005135</td>\n",
       "      <td>-1.958300</td>\n",
       "      <td>0.447069</td>\n",
       "      <td>0.465119</td>\n",
       "      <td>-0.260912</td>\n",
       "      <td>0.075225</td>\n",
       "      <td>0.986880</td>\n",
       "      <td>0.554738</td>\n",
       "      <td>-0.176180</td>\n",
       "      <td>-0.083189</td>\n",
       "    </tr>\n",
       "    <tr>\n",
       "      <th>1</th>\n",
       "      <td>0.736044</td>\n",
       "      <td>-0.733885</td>\n",
       "      <td>0.576230</td>\n",
       "      <td>-0.642360</td>\n",
       "      <td>-0.450782</td>\n",
       "      <td>-0.039837</td>\n",
       "      <td>-0.423826</td>\n",
       "      <td>-0.726854</td>\n",
       "      <td>-0.694045</td>\n",
       "      <td>1.197983</td>\n",
       "      <td>0.085990</td>\n",
       "    </tr>\n",
       "    <tr>\n",
       "      <th>2</th>\n",
       "      <td>-1.228172</td>\n",
       "      <td>0.748637</td>\n",
       "      <td>-0.374219</td>\n",
       "      <td>-0.513896</td>\n",
       "      <td>-0.783838</td>\n",
       "      <td>-0.774434</td>\n",
       "      <td>-0.803313</td>\n",
       "      <td>3.862137</td>\n",
       "      <td>0.982941</td>\n",
       "      <td>-1.312092</td>\n",
       "      <td>-0.024790</td>\n",
       "    </tr>\n",
       "    <tr>\n",
       "      <th>3</th>\n",
       "      <td>1.149826</td>\n",
       "      <td>-1.164144</td>\n",
       "      <td>-1.958300</td>\n",
       "      <td>9.723899</td>\n",
       "      <td>8.555979</td>\n",
       "      <td>8.223505</td>\n",
       "      <td>8.985363</td>\n",
       "      <td>0.408183</td>\n",
       "      <td>0.241811</td>\n",
       "      <td>-0.693566</td>\n",
       "      <td>-0.029895</td>\n",
       "    </tr>\n",
       "    <tr>\n",
       "      <th>4</th>\n",
       "      <td>1.244547</td>\n",
       "      <td>-1.407333</td>\n",
       "      <td>-0.057403</td>\n",
       "      <td>-0.258340</td>\n",
       "      <td>-0.265223</td>\n",
       "      <td>-0.141671</td>\n",
       "      <td>-0.174301</td>\n",
       "      <td>-0.840378</td>\n",
       "      <td>-0.250874</td>\n",
       "      <td>-0.129236</td>\n",
       "      <td>-0.015323</td>\n",
       "    </tr>\n",
       "  </tbody>\n",
       "</table>\n",
       "</div>"
      ],
      "text/plain": [
       "   longitude  latitude  housing_median_age  total_rooms  total_bedrooms  \\\n",
       "0   0.925486 -1.005135           -1.958300     0.447069        0.465119   \n",
       "1   0.736044 -0.733885            0.576230    -0.642360       -0.450782   \n",
       "2  -1.228172  0.748637           -0.374219    -0.513896       -0.783838   \n",
       "3   1.149826 -1.164144           -1.958300     9.723899        8.555979   \n",
       "4   1.244547 -1.407333           -0.057403    -0.258340       -0.265223   \n",
       "\n",
       "   population  households  median_income  rooms_vs_household  \\\n",
       "0   -0.260912    0.075225       0.986880            0.554738   \n",
       "1   -0.039837   -0.423826      -0.726854           -0.694045   \n",
       "2   -0.774434   -0.803313       3.862137            0.982941   \n",
       "3    8.223505    8.985363       0.408183            0.241811   \n",
       "4   -0.141671   -0.174301      -0.840378           -0.250874   \n",
       "\n",
       "   bedrooms_vs_room  population_vs_household  \n",
       "0         -0.176180                -0.083189  \n",
       "1          1.197983                 0.085990  \n",
       "2         -1.312092                -0.024790  \n",
       "3         -0.693566                -0.029895  \n",
       "4         -0.129236                -0.015323  "
      ]
     },
     "execution_count": 50,
     "metadata": {},
     "output_type": "execute_result"
    }
   ],
   "source": [
    "#Observamos el dataframe escalado\n",
    "housing_num_tr = pd.DataFrame(housing_num_tr, columns=housing_num.columns)\n",
    "housing_num_tr.head()\n",
    "#housing_prepared.info()"
   ]
  },
  {
   "cell_type": "code",
   "execution_count": 51,
   "metadata": {},
   "outputs": [
    {
     "name": "stdout",
     "output_type": "stream",
     "text": [
      "(16512, 16)\n"
     ]
    },
    {
     "data": {
      "text/html": [
       "<div>\n",
       "<style scoped>\n",
       "    .dataframe tbody tr th:only-of-type {\n",
       "        vertical-align: middle;\n",
       "    }\n",
       "\n",
       "    .dataframe tbody tr th {\n",
       "        vertical-align: top;\n",
       "    }\n",
       "\n",
       "    .dataframe thead th {\n",
       "        text-align: right;\n",
       "    }\n",
       "</style>\n",
       "<table border=\"1\" class=\"dataframe\">\n",
       "  <thead>\n",
       "    <tr style=\"text-align: right;\">\n",
       "      <th></th>\n",
       "      <th>longitude</th>\n",
       "      <th>latitude</th>\n",
       "      <th>housing_median_age</th>\n",
       "      <th>total_rooms</th>\n",
       "      <th>total_bedrooms</th>\n",
       "      <th>population</th>\n",
       "      <th>households</th>\n",
       "      <th>median_income</th>\n",
       "      <th>rooms_vs_household</th>\n",
       "      <th>bedrooms_vs_room</th>\n",
       "      <th>population_vs_household</th>\n",
       "      <th>0</th>\n",
       "      <th>1</th>\n",
       "      <th>2</th>\n",
       "      <th>3</th>\n",
       "      <th>4</th>\n",
       "    </tr>\n",
       "  </thead>\n",
       "  <tbody>\n",
       "    <tr>\n",
       "      <th>0</th>\n",
       "      <td>0.925486</td>\n",
       "      <td>-1.005135</td>\n",
       "      <td>-1.958300</td>\n",
       "      <td>0.447069</td>\n",
       "      <td>0.465119</td>\n",
       "      <td>-0.260912</td>\n",
       "      <td>0.075225</td>\n",
       "      <td>0.986880</td>\n",
       "      <td>0.554738</td>\n",
       "      <td>-0.176180</td>\n",
       "      <td>-0.083189</td>\n",
       "      <td>1</td>\n",
       "      <td>0</td>\n",
       "      <td>0</td>\n",
       "      <td>0</td>\n",
       "      <td>0</td>\n",
       "    </tr>\n",
       "    <tr>\n",
       "      <th>1</th>\n",
       "      <td>0.736044</td>\n",
       "      <td>-0.733885</td>\n",
       "      <td>0.576230</td>\n",
       "      <td>-0.642360</td>\n",
       "      <td>-0.450782</td>\n",
       "      <td>-0.039837</td>\n",
       "      <td>-0.423826</td>\n",
       "      <td>-0.726854</td>\n",
       "      <td>-0.694045</td>\n",
       "      <td>1.197983</td>\n",
       "      <td>0.085990</td>\n",
       "      <td>1</td>\n",
       "      <td>0</td>\n",
       "      <td>0</td>\n",
       "      <td>0</td>\n",
       "      <td>0</td>\n",
       "    </tr>\n",
       "    <tr>\n",
       "      <th>2</th>\n",
       "      <td>-1.228172</td>\n",
       "      <td>0.748637</td>\n",
       "      <td>-0.374219</td>\n",
       "      <td>-0.513896</td>\n",
       "      <td>-0.783838</td>\n",
       "      <td>-0.774434</td>\n",
       "      <td>-0.803313</td>\n",
       "      <td>3.862137</td>\n",
       "      <td>0.982941</td>\n",
       "      <td>-1.312092</td>\n",
       "      <td>-0.024790</td>\n",
       "      <td>1</td>\n",
       "      <td>0</td>\n",
       "      <td>0</td>\n",
       "      <td>0</td>\n",
       "      <td>0</td>\n",
       "    </tr>\n",
       "    <tr>\n",
       "      <th>3</th>\n",
       "      <td>1.149826</td>\n",
       "      <td>-1.164144</td>\n",
       "      <td>-1.958300</td>\n",
       "      <td>9.723899</td>\n",
       "      <td>8.555979</td>\n",
       "      <td>8.223505</td>\n",
       "      <td>8.985363</td>\n",
       "      <td>0.408183</td>\n",
       "      <td>0.241811</td>\n",
       "      <td>-0.693566</td>\n",
       "      <td>-0.029895</td>\n",
       "      <td>0</td>\n",
       "      <td>0</td>\n",
       "      <td>0</td>\n",
       "      <td>0</td>\n",
       "      <td>1</td>\n",
       "    </tr>\n",
       "    <tr>\n",
       "      <th>4</th>\n",
       "      <td>1.244547</td>\n",
       "      <td>-1.407333</td>\n",
       "      <td>-0.057403</td>\n",
       "      <td>-0.258340</td>\n",
       "      <td>-0.265223</td>\n",
       "      <td>-0.141671</td>\n",
       "      <td>-0.174301</td>\n",
       "      <td>-0.840378</td>\n",
       "      <td>-0.250874</td>\n",
       "      <td>-0.129236</td>\n",
       "      <td>-0.015323</td>\n",
       "      <td>0</td>\n",
       "      <td>0</td>\n",
       "      <td>0</td>\n",
       "      <td>0</td>\n",
       "      <td>1</td>\n",
       "    </tr>\n",
       "  </tbody>\n",
       "</table>\n",
       "</div>"
      ],
      "text/plain": [
       "   longitude  latitude  housing_median_age  total_rooms  total_bedrooms  \\\n",
       "0   0.925486 -1.005135           -1.958300     0.447069        0.465119   \n",
       "1   0.736044 -0.733885            0.576230    -0.642360       -0.450782   \n",
       "2  -1.228172  0.748637           -0.374219    -0.513896       -0.783838   \n",
       "3   1.149826 -1.164144           -1.958300     9.723899        8.555979   \n",
       "4   1.244547 -1.407333           -0.057403    -0.258340       -0.265223   \n",
       "\n",
       "   population  households  median_income  rooms_vs_household  \\\n",
       "0   -0.260912    0.075225       0.986880            0.554738   \n",
       "1   -0.039837   -0.423826      -0.726854           -0.694045   \n",
       "2   -0.774434   -0.803313       3.862137            0.982941   \n",
       "3    8.223505    8.985363       0.408183            0.241811   \n",
       "4   -0.141671   -0.174301      -0.840378           -0.250874   \n",
       "\n",
       "   bedrooms_vs_room  population_vs_household  0  1  2  3  4  \n",
       "0         -0.176180                -0.083189  1  0  0  0  0  \n",
       "1          1.197983                 0.085990  1  0  0  0  0  \n",
       "2         -1.312092                -0.024790  1  0  0  0  0  \n",
       "3         -0.693566                -0.029895  0  0  0  0  1  \n",
       "4         -0.129236                -0.015323  0  0  0  0  1  "
      ]
     },
     "execution_count": 51,
     "metadata": {},
     "output_type": "execute_result"
    }
   ],
   "source": [
    "# unimos las variables categoricas trasnformadas con las \n",
    "# numericas trasnformadas\n",
    "proximity = pd.DataFrame(ocean_cat_1hot)\n",
    "housing_prepared = pd.concat([housing_num_tr, proximity], axis=1)\n",
    "print(housing_prepared.shape)\n",
    "housing_prepared.head()\n"
   ]
  },
  {
   "cell_type": "code",
   "execution_count": 52,
   "metadata": {},
   "outputs": [
    {
     "data": {
      "image/png": "[encoded data removed]",
      "text/plain": [
       "<Figure size 1440x1440 with 16 Axes>"
      ]
     },
     "metadata": {
      "needs_background": "light"
     },
     "output_type": "display_data"
    }
   ],
   "source": [
    "housing_prepared.hist(bins=50, figsize=(20,20))\n",
    "plt.show()"
   ]
  },
  {
   "cell_type": "markdown",
   "metadata": {},
   "source": [
    "## 5. Seleccione y entrene el modelo\n",
    "\n",
    "Notas:\n",
    "* Si los datos son grandes, es posible que desee probar conjuntos de entrenamiento más pequeños para que pueda entrenar a diferentes modelos en un tiempo razonable (tenga en cuenta que esto penaliza los modelos complejos como las grandes redes neuronales o Random Forest).\n",
    "* Una vez más, intente automatizar estos pasos tanto como sea posible.\n",
    "\n",
    "\n",
    "1. Probar multiples modelos rapidamente de diferentes categorías (por ejemplo, lineales, SVM, Random Forest, redes neuronales, etc.)\n",
    "2. Medir y comparar su rendimiento. Para cada modelo, utilice la validación cruzada N-fold, calcule la media y la desviación estándar.\n",
    "3. Analizar las variables más significativas para cada algoritmo.\n",
    "4. Analizar los tipos de errores que cometen los modelos.\n",
    "5. Tenga una ronda rápida de selección de características\n",
    "6. Tenga una o dos iteraciones rápidas más de los cinco pasos anteriores.\n",
    "7. Haga una lista corta de los tres a cinco modelos más prometedores, prefiriendo los modelos que hacen diferentes tipos de errores.\n",
    "\n",
    "\n",
    "Finalmente estamos listos para seleccionar y entrenar un modelo de M.L.\n",
    "\n",
    "Vamos a hacer un entrenamiento de un modelo de regresión lineal"
   ]
  },
  {
   "cell_type": "code",
   "execution_count": 53,
   "metadata": {},
   "outputs": [
    {
     "data": {
      "text/plain": [
       "LinearRegression(copy_X=True, fit_intercept=True, n_jobs=None, normalize=False)"
      ]
     },
     "execution_count": 53,
     "metadata": {},
     "output_type": "execute_result"
    }
   ],
   "source": [
    "from sklearn.linear_model import LinearRegression\n",
    "lin_reg = LinearRegression()\n",
    "lin_reg.fit(housing_prepared, housing_labels)"
   ]
  },
  {
   "cell_type": "markdown",
   "metadata": {},
   "source": [
    "Primero vamos a ver nuestro modelo con algunas intancias\n",
    "\n",
    "Notese que se esta utilizando la data de entrenamiento, en ningun momento hemos tocado la data de test (por ahora)"
   ]
  },
  {
   "cell_type": "code",
   "execution_count": 54,
   "metadata": {},
   "outputs": [],
   "source": [
    "alguna_data = housing_prepared.head()\n",
    "algunos_labels = housing_labels.head()"
   ]
  },
  {
   "cell_type": "code",
   "execution_count": 55,
   "metadata": {},
   "outputs": [
    {
     "name": "stdout",
     "output_type": "stream",
     "text": [
      "Predicciones: [292096. 161664. 523008. 300160. 159104.]\n"
     ]
    }
   ],
   "source": [
    "print(\"Predicciones:\", lin_reg.predict(alguna_data))"
   ]
  },
  {
   "cell_type": "code",
   "execution_count": 56,
   "metadata": {},
   "outputs": [
    {
     "name": "stdout",
     "output_type": "stream",
     "text": [
      "Valores Objetivos: [500001.0, 170300.0, 500001.0, 244900.0, 146300.0]\n"
     ]
    }
   ],
   "source": [
    "print(\"Valores Objetivos:\", list(algunos_labels))"
   ]
  },
  {
   "cell_type": "code",
   "execution_count": 57,
   "metadata": {},
   "outputs": [
    {
     "data": {
      "text/plain": [
       "68384.79314253488"
      ]
     },
     "execution_count": 57,
     "metadata": {},
     "output_type": "execute_result"
    }
   ],
   "source": [
    "from sklearn.metrics import mean_squared_error\n",
    "housing_predictions = lin_reg.predict(housing_prepared)\n",
    "lin_mse = mean_squared_error(housing_labels, housing_predictions)\n",
    "lin_rmse = np.sqrt(lin_mse)\n",
    "lin_rmse"
   ]
  },
  {
   "cell_type": "markdown",
   "metadata": {},
   "source": [
    "Claramente no es una gran puntuación: los valores medios de la mayoría de los distritos oscilan entre 120000 y 265000 dólares, por lo que un error de predicción de 68376 dólares no es muy satisfactorio.\n",
    "\n",
    "Este es un ejemplo de un modelo que no se ajusta a los datos de entrenamiento. Cuando esto sucede, puede significar que las características no proporcionan suficiente información para hacer buenas predicciones, o que el modelo no es tan potente.\n",
    "\n",
    "Como lo mejoramos?"
   ]
  },
  {
   "cell_type": "markdown",
   "metadata": {},
   "source": [
    "Intentemos un DecisionTreeRegressor, un modelo mas potente capaz de buscar relaciones no lineales en la data"
   ]
  },
  {
   "cell_type": "code",
   "execution_count": 58,
   "metadata": {},
   "outputs": [
    {
     "data": {
      "text/plain": [
       "DecisionTreeRegressor(criterion='mse', max_depth=None, max_features=None,\n",
       "                      max_leaf_nodes=None, min_impurity_decrease=0.0,\n",
       "                      min_impurity_split=None, min_samples_leaf=1,\n",
       "                      min_samples_split=2, min_weight_fraction_leaf=0.0,\n",
       "                      presort=False, random_state=None, splitter='best')"
      ]
     },
     "execution_count": 58,
     "metadata": {},
     "output_type": "execute_result"
    }
   ],
   "source": [
    "from sklearn.tree import DecisionTreeRegressor\n",
    "\n",
    "tree_reg = DecisionTreeRegressor()\n",
    "tree_reg.fit(housing_prepared, housing_labels)"
   ]
  },
  {
   "cell_type": "code",
   "execution_count": 59,
   "metadata": {},
   "outputs": [
    {
     "data": {
      "text/plain": [
       "0.0"
      ]
     },
     "execution_count": 59,
     "metadata": {},
     "output_type": "execute_result"
    }
   ],
   "source": [
    "housing_predictions = tree_reg.predict(housing_prepared)\n",
    "tree_mse = mean_squared_error(housing_labels, housing_predictions)\n",
    "tree_rmse = np.sqrt(tree_mse)\n",
    "tree_rmse"
   ]
  },
  {
   "cell_type": "markdown",
   "metadata": {},
   "source": [
    "¿Ningún error? \n",
    "¿Podría este modelo ser realmente perfecto? \n",
    "\n",
    "Es muy problame que el problema haya caido en overffiting"
   ]
  },
  {
   "cell_type": "markdown",
   "metadata": {},
   "source": [
    "### Evaluando de mejor forma con Cross-Validation\n",
    "Una forma de evaluar el modelo de árbol de decisión sería utilizar la función train_test_split para dividir el conjunto de entrenamiento en un conjunto de entrenamiento más pequeño y un conjunto de validación, luego entrenar los modelos contra los más pequeños y evaluarlos en relación con el conjunto de validación. \n",
    "\n",
    "Es un poco de trabajo pero funcionaría bastante bien. Una gran alternativa es utilizar la función de validación cruzada de Scikit-Learn. \n",
    "\n",
    "El siguiente código realiza la validación cruzada: divide aleatoriamente el conjunto de entrenamiento en 10 subconjuntos distintos llamados folds, luego entrena y evalúa el modelo de árbol de decisión 10 veces, escogiendo un pliegue diferente para su evaluación cada vez y entrenando en los otros 9 pliegues. \n",
    "\n",
    "El resultado es una matriz que contiene las 10 evaluaciones:"
   ]
  },
  {
   "cell_type": "code",
   "execution_count": 60,
   "metadata": {},
   "outputs": [],
   "source": [
    "from sklearn.model_selection import cross_val_score\n",
    "\n",
    "scores = cross_val_score(tree_reg, \n",
    "                         housing_prepared, \n",
    "                         housing_labels,\n",
    "                         scoring=\"neg_mean_squared_error\", \n",
    "                         cv=10)\n",
    "\n",
    "tree_rmse_scores = np.sqrt(-scores)"
   ]
  },
  {
   "cell_type": "markdown",
   "metadata": {},
   "source": [
    "Nota: Las características de validación cruzada de Scikit-Learn esperan una función de utilidad (mayor es mejor) en lugar de una función de costo (menor es mejor), por lo tanto\n",
    "la función de utilidad es en realidad lo contrario de la de error (es decir, un valor negativo), que es por lo que el código se coloca un valor negativo a score"
   ]
  },
  {
   "cell_type": "code",
   "execution_count": 61,
   "metadata": {},
   "outputs": [],
   "source": [
    "def muestra_scores(scores):\n",
    "    print(\"Scores:\", scores)\n",
    "    print(\"Media:\", scores.mean())\n",
    "    print(\"Desviacion Estandar:\", scores.std())"
   ]
  },
  {
   "cell_type": "code",
   "execution_count": 62,
   "metadata": {},
   "outputs": [
    {
     "name": "stdout",
     "output_type": "stream",
     "text": [
      "Scores: [73866.03140118 69134.53633991 67763.00533375 74243.02976365\n",
      " 71756.27630317 66303.03927697 70030.56278226 73569.9540892\n",
      " 71162.14855161 70721.14100906]\n",
      "Media: 70854.97248507518\n",
      "Desviacion Estandar: 2505.215724959589\n"
     ]
    }
   ],
   "source": [
    "muestra_scores(tree_rmse_scores)"
   ]
  },
  {
   "cell_type": "markdown",
   "metadata": {},
   "source": [
    "Veamos como se evalua nuestro modelo de regresion lineal"
   ]
  },
  {
   "cell_type": "code",
   "execution_count": 63,
   "metadata": {},
   "outputs": [],
   "source": [
    "lin_scores = cross_val_score(lin_reg, \n",
    "                             housing_prepared, \n",
    "                             housing_labels,\n",
    "                             scoring=\"neg_mean_squared_error\", \n",
    "                             cv=10)\n",
    "lin_rmse_scores = np.sqrt(-lin_scores)"
   ]
  },
  {
   "cell_type": "code",
   "execution_count": 64,
   "metadata": {},
   "outputs": [
    {
     "name": "stdout",
     "output_type": "stream",
     "text": [
      "Scores: [66591.05767252 73037.18555685 65994.4275413  70043.29074433\n",
      " 69845.75416161 67651.65384342 66010.89450264 70078.17428728\n",
      " 71777.05781894 65939.82386925]\n",
      "Media: 68696.93199981426\n",
      "Desviacion Estandar: 2470.0721977461294\n"
     ]
    }
   ],
   "source": [
    "muestra_scores(lin_rmse_scores)"
   ]
  },
  {
   "cell_type": "markdown",
   "metadata": {},
   "source": [
    "Vemos que incluso nuestro modelo lineal es mejor que el modelo de arboles de decision\n",
    "\n",
    "Probemos con un ultimo modelo"
   ]
  },
  {
   "cell_type": "code",
   "execution_count": 65,
   "metadata": {},
   "outputs": [
    {
     "data": {
      "text/plain": [
       "RandomForestRegressor(bootstrap=True, criterion='mse', max_depth=None,\n",
       "                      max_features='auto', max_leaf_nodes=None,\n",
       "                      min_impurity_decrease=0.0, min_impurity_split=None,\n",
       "                      min_samples_leaf=1, min_samples_split=2,\n",
       "                      min_weight_fraction_leaf=0.0, n_estimators=7, n_jobs=None,\n",
       "                      oob_score=False, random_state=42, verbose=0,\n",
       "                      warm_start=False)"
      ]
     },
     "execution_count": 65,
     "metadata": {},
     "output_type": "execute_result"
    }
   ],
   "source": [
    "from sklearn.ensemble import RandomForestRegressor\n",
    "\n",
    "forest_reg = RandomForestRegressor(n_estimators=7, random_state=42)\n",
    "forest_reg.fit(housing_prepared, housing_labels)"
   ]
  },
  {
   "cell_type": "code",
   "execution_count": 66,
   "metadata": {},
   "outputs": [
    {
     "data": {
      "text/plain": [
       "23625.598603694736"
      ]
     },
     "execution_count": 66,
     "metadata": {},
     "output_type": "execute_result"
    }
   ],
   "source": [
    "housing_predictions = forest_reg.predict(housing_prepared)\n",
    "forest_mse = mean_squared_error(housing_labels, housing_predictions)\n",
    "forest_rmse = np.sqrt(forest_mse)\n",
    "forest_rmse"
   ]
  },
  {
   "cell_type": "code",
   "execution_count": 67,
   "metadata": {},
   "outputs": [
    {
     "name": "stdout",
     "output_type": "stream",
     "text": [
      "Scores: [54103.66375451 53525.36039472 51698.98009972 54360.86147577\n",
      " 56072.9129885  52734.15038215 51739.42126226 54254.79415695\n",
      " 57512.5810972  51681.92191887]\n",
      "Media: 53768.464753066735\n",
      "Desviacion Estandar: 1841.4952774521157\n"
     ]
    }
   ],
   "source": [
    "forest_scores = cross_val_score(forest_reg, \n",
    "                                housing_prepared, \n",
    "                                housing_labels,\n",
    "                                scoring=\"neg_mean_squared_error\", \n",
    "                                cv=10)\n",
    "forest_rmse_scores = np.sqrt(-forest_scores)\n",
    "muestra_scores(forest_rmse_scores)"
   ]
  },
  {
   "cell_type": "markdown",
   "metadata": {},
   "source": [
    "Observamos que random forest obtiene mejores resultados, pero aun tenemos camino que recorrer, normalmente en esta etapa se prueban al menos 5 modelos distintos, para obtener los resultados"
   ]
  },
  {
   "cell_type": "markdown",
   "metadata": {},
   "source": [
    "Es muy importante que sepamos como guardar un modelo, para esto se utiliza la libreria **joblib**"
   ]
  },
  {
   "cell_type": "code",
   "execution_count": 68,
   "metadata": {},
   "outputs": [],
   "source": [
    "#from sklearn.externals import joblib\n",
    "import joblib\n",
    "# Guardamos el modelo entrenado\n",
    "joblib.dump(forest_reg, \"forest_reg_model.pkl\")\n",
    "# Cargamos el modelo entrenado\n",
    "forest_reg_cargado = joblib.load(\"forest_reg_model.pkl\")"
   ]
  },
  {
   "cell_type": "code",
   "execution_count": 69,
   "metadata": {},
   "outputs": [
    {
     "data": {
      "text/plain": [
       "array([460300.85714286, 165014.28571429, 500001.        , ...,\n",
       "       266742.85714286, 161714.28571429, 125614.28571429])"
      ]
     },
     "execution_count": 69,
     "metadata": {},
     "output_type": "execute_result"
    }
   ],
   "source": [
    "# Como ya tenemos entrenado podemos utilizarlo para predicciones\n",
    "# directamente\n",
    "forest_reg_cargado.predict(housing_prepared)"
   ]
  },
  {
   "cell_type": "markdown",
   "metadata": {},
   "source": [
    "## 6. Ajuste Fino a nuestro modelo\n",
    "\n",
    "Notas:\n",
    "* Deberá utilizar la mayor cantidad de datos posible para este paso, especialmente a medida que se aproxima el final de fine-tunning.\n",
    "* Como siempre, automatiza lo que puedas.\n",
    "\n",
    "\n",
    "1. Ajuste con precisión los hiperparámetros utilizando la validación cruzada.\n",
    "    * Trate sus opciones de transformación de datos como hiperparámetros, especialmente cuando no esté seguro, por ejemplo, ¿debo reemplazar los valores perdidos con cero o con el valor mediano? o eliminar esas filas\n",
    "    * A menos que haya muy pocos valores de hiperparámetro que explorar, prefiera la búsqueda aleatoria sobre la cuadrícula búsqueda.\n",
    "    \n",
    "2. Pruebe los métodos Ensamble. La combinación de sus mejores modelos a menudo funcionará mejor que la ejecución de los mismos individualmente.\n",
    "3. Una vez que esté seguro de su modelo final, mida su rendimiento en el set de prueba para estimar el error de generalización."
   ]
  },
  {
   "cell_type": "markdown",
   "metadata": {},
   "source": [
    "Hiperparametro: Es el parametro que se ajusta en un modelo antes del entrenamiento, existen muchos hiperparametros, y estos dependen de cada algoritmo.\n",
    "\n",
    "Una de las formas mas tipicas de ajustar nuestro modelo es cambiar los hiperparametros manualmente, para encontrar los mejores valores, pero esto puede ser un trabajo tedioso\n",
    "    "
   ]
  },
  {
   "cell_type": "markdown",
   "metadata": {},
   "source": [
    "### GridSearch\n",
    "\n",
    "Afortunadamente Scikit-Learn tiene una funcion llamada GridSearchCV que va a realizar la busqueda por nosotros. Todo lo que necesitas hacer es decirle que hiperparametros quieres experimeintasr y evaluara todas las posible combinaciones usando cross-validation."
   ]
  },
  {
   "cell_type": "code",
   "execution_count": 70,
   "metadata": {},
   "outputs": [],
   "source": [
    "from sklearn.model_selection import GridSearchCV"
   ]
  },
  {
   "cell_type": "code",
   "execution_count": 71,
   "metadata": {},
   "outputs": [],
   "source": [
    "# Grilla de parametos a probar\n",
    "param_grid = [\n",
    "    {'n_estimators': [3, 10, 30], 'max_features': [2, 4, 6, 8]},\n",
    "    {'bootstrap': [False], 'n_estimators': [3, 10], 'max_features': [2, 3, 4]},\n",
    "]"
   ]
  },
  {
   "cell_type": "markdown",
   "metadata": {},
   "source": [
    "Cuando no tiene idea del valor que debe tener un hiperparámetro, un enfoque simple es probar potencias consecutivas de 10 (o un\n",
    "número más pequeño si desea una búsqueda más detallada, como se muestra en este ejemplo con el hiperparámetro n_estimators)."
   ]
  },
  {
   "cell_type": "code",
   "execution_count": 72,
   "metadata": {},
   "outputs": [],
   "source": [
    "# Definimos nuestra Busqueda en Grilla\n",
    "# parametros, modelo, grilla de hiperparametros\n",
    "# cross validation fold\n",
    "# scoring\n",
    "grid_search = GridSearchCV(forest_reg_cargado, param_grid, cv=5,\n",
    "                           scoring='neg_mean_squared_error')"
   ]
  },
  {
   "cell_type": "code",
   "execution_count": 73,
   "metadata": {},
   "outputs": [
    {
     "data": {
      "text/plain": [
       "GridSearchCV(cv=5, error_score='raise-deprecating',\n",
       "             estimator=RandomForestRegressor(bootstrap=True, criterion='mse',\n",
       "                                             max_depth=None,\n",
       "                                             max_features='auto',\n",
       "                                             max_leaf_nodes=None,\n",
       "                                             min_impurity_decrease=0.0,\n",
       "                                             min_impurity_split=None,\n",
       "                                             min_samples_leaf=1,\n",
       "                                             min_samples_split=2,\n",
       "                                             min_weight_fraction_leaf=0.0,\n",
       "                                             n_estimators=7, n_jobs=None,\n",
       "                                             oob_score=False, random_state=42,\n",
       "                                             verbose=0, warm_start=False),\n",
       "             iid='warn', n_jobs=None,\n",
       "             param_grid=[{'max_features': [2, 4, 6, 8],\n",
       "                          'n_estimators': [3, 10, 30]},\n",
       "                         {'bootstrap': [False], 'max_features': [2, 3, 4],\n",
       "                          'n_estimators': [3, 10]}],\n",
       "             pre_dispatch='2*n_jobs', refit=True, return_train_score=False,\n",
       "             scoring='neg_mean_squared_error', verbose=0)"
      ]
     },
     "execution_count": 73,
     "metadata": {},
     "output_type": "execute_result"
    }
   ],
   "source": [
    "grid_search.fit(housing_prepared, housing_labels)"
   ]
  },
  {
   "cell_type": "code",
   "execution_count": 74,
   "metadata": {},
   "outputs": [
    {
     "data": {
      "text/plain": [
       "{'max_features': 6, 'n_estimators': 30}"
      ]
     },
     "execution_count": 74,
     "metadata": {},
     "output_type": "execute_result"
    }
   ],
   "source": [
    "# La mejor combinacion de parametros los encontramos con\n",
    "grid_search.best_params_"
   ]
  },
  {
   "cell_type": "code",
   "execution_count": 75,
   "metadata": {},
   "outputs": [
    {
     "data": {
      "text/plain": [
       "RandomForestRegressor(bootstrap=True, criterion='mse', max_depth=None,\n",
       "                      max_features=6, max_leaf_nodes=None,\n",
       "                      min_impurity_decrease=0.0, min_impurity_split=None,\n",
       "                      min_samples_leaf=1, min_samples_split=2,\n",
       "                      min_weight_fraction_leaf=0.0, n_estimators=30,\n",
       "                      n_jobs=None, oob_score=False, random_state=42, verbose=0,\n",
       "                      warm_start=False)"
      ]
     },
     "execution_count": 75,
     "metadata": {},
     "output_type": "execute_result"
    }
   ],
   "source": [
    "# Incluso podemos ver el estimador directamente\n",
    "grid_search.best_estimator_"
   ]
  },
  {
   "cell_type": "code",
   "execution_count": 76,
   "metadata": {},
   "outputs": [
    {
     "name": "stdout",
     "output_type": "stream",
     "text": [
      "64206.37909317474 {'max_features': 2, 'n_estimators': 3}\n",
      "55818.021889981785 {'max_features': 2, 'n_estimators': 10}\n",
      "53303.23290080673 {'max_features': 2, 'n_estimators': 30}\n",
      "61344.777002627365 {'max_features': 4, 'n_estimators': 3}\n",
      "53193.509778763015 {'max_features': 4, 'n_estimators': 10}\n",
      "50742.09538894824 {'max_features': 4, 'n_estimators': 30}\n",
      "58017.61389849279 {'max_features': 6, 'n_estimators': 3}\n",
      "51472.12512569224 {'max_features': 6, 'n_estimators': 10}\n",
      "49895.75726718032 {'max_features': 6, 'n_estimators': 30}\n",
      "59025.33696720874 {'max_features': 8, 'n_estimators': 3}\n",
      "52398.354857708466 {'max_features': 8, 'n_estimators': 10}\n",
      "50289.09440887368 {'max_features': 8, 'n_estimators': 30}\n",
      "62763.84118677113 {'bootstrap': False, 'max_features': 2, 'n_estimators': 3}\n",
      "54345.40905580841 {'bootstrap': False, 'max_features': 2, 'n_estimators': 10}\n",
      "57901.05571529785 {'bootstrap': False, 'max_features': 3, 'n_estimators': 3}\n",
      "51669.994228712836 {'bootstrap': False, 'max_features': 3, 'n_estimators': 10}\n",
      "59574.03073045326 {'bootstrap': False, 'max_features': 4, 'n_estimators': 3}\n",
      "51490.74657045157 {'bootstrap': False, 'max_features': 4, 'n_estimators': 10}\n"
     ]
    }
   ],
   "source": [
    "# por supuesto tenemos los resultados de la busqueda en grilla\n",
    "cvres = grid_search.cv_results_\n",
    "for score_medio, parametros in zip(cvres[\"mean_test_score\"], cvres[\"params\"]):\n",
    "    print(np.sqrt(-score_medio), parametros)"
   ]
  },
  {
   "cell_type": "markdown",
   "metadata": {},
   "source": [
    "### Randomized Search\n",
    "Si bien Grid Search esta bien cuando tenemos algunas combinaciones como en el ejemplo anterior, cuando tenemos un espacio busqueda de hiperparametros muy grande es recomendable usar **RandomizedSearchCV**.\n",
    "\n",
    "Evalúa un número dado de combinaciones aleatorias seleccionando un valor aleatorio para cada hiperparámetro en cada iteración. \n",
    "\n",
    "Este enfoque tiene dos objetivos principales beneficios:\n",
    "* Si deja que la búsqueda aleatoria se ejecute para, 1.000 iteraciones, este enfoque explorará 1.000 valores diferentes para cada hiperparámetro"
   ]
  },
  {
   "cell_type": "markdown",
   "metadata": {},
   "source": [
    "### Metodos de ensamble"
   ]
  },
  {
   "cell_type": "markdown",
   "metadata": {},
   "source": [
    "Otra manera de afinar su sistema es tratar de combinar los modelos que mejor funcionan. El ensamble a menudo actuará mejor que el modelo individual (al igual que Random Forests lo hace mejor que los árboles de decisión individuales en los que se basa). Esto lo veremos en profundidad más adelante"
   ]
  },
  {
   "cell_type": "markdown",
   "metadata": {},
   "source": [
    "### Analiza los mejores modelos y sus errores\n",
    "Es muy saludable que puedas inspeccionar los mejores modelos, por ejemplo **RandomForestRegressor** puede indicar la importancia relativa de cada atributo para hacer predicciones precisas"
   ]
  },
  {
   "cell_type": "code",
   "execution_count": 77,
   "metadata": {},
   "outputs": [],
   "source": [
    "caracteristicas_importantes = grid_search.best_estimator_.feature_importances_"
   ]
  },
  {
   "cell_type": "code",
   "execution_count": 78,
   "metadata": {},
   "outputs": [
    {
     "data": {
      "text/plain": [
       "array([7.41728793e-02, 6.58041784e-02, 4.13782321e-02, 1.70886599e-02,\n",
       "       1.64508107e-02, 1.76370532e-02, 1.56543940e-02, 3.35071089e-01,\n",
       "       5.21762235e-02, 8.32054364e-02, 1.06579525e-01, 1.44627567e-02,\n",
       "       1.51393843e-01, 6.06846595e-05, 3.14140599e-03, 5.72282751e-03])"
      ]
     },
     "execution_count": 78,
     "metadata": {},
     "output_type": "execute_result"
    }
   ],
   "source": [
    "caracteristicas_importantes"
   ]
  },
  {
   "cell_type": "code",
   "execution_count": 79,
   "metadata": {},
   "outputs": [
    {
     "data": {
      "text/plain": [
       "['longitude',\n",
       " 'latitude',\n",
       " 'housing_median_age',\n",
       " 'total_rooms',\n",
       " 'total_bedrooms',\n",
       " 'population',\n",
       " 'households',\n",
       " 'median_income',\n",
       " 'rooms_vs_household',\n",
       " 'bedrooms_vs_room',\n",
       " 'population_vs_household']"
      ]
     },
     "execution_count": 79,
     "metadata": {},
     "output_type": "execute_result"
    }
   ],
   "source": [
    "list(housing_num)"
   ]
  },
  {
   "cell_type": "code",
   "execution_count": 80,
   "metadata": {},
   "outputs": [],
   "source": [
    "#Observemos junto a sus respectivos atributos\n",
    "cat_one_hot_atrib = list(encoder.classes_)\n",
    "num_atrib = list(housing_num)"
   ]
  },
  {
   "cell_type": "code",
   "execution_count": 81,
   "metadata": {},
   "outputs": [],
   "source": [
    "atributos = num_atrib + cat_one_hot_atrib"
   ]
  },
  {
   "cell_type": "code",
   "execution_count": 82,
   "metadata": {},
   "outputs": [
    {
     "data": {
      "text/plain": [
       "[(0.3350710893849952, 'median_income'),\n",
       " (0.1513938432666184, 'INLAND'),\n",
       " (0.10657952497441388, 'population_vs_household'),\n",
       " (0.08320543637808202, 'bedrooms_vs_room'),\n",
       " (0.0741728792969192, 'longitude'),\n",
       " (0.06580417841008014, 'latitude'),\n",
       " (0.052176223472330606, 'rooms_vs_household'),\n",
       " (0.041378232052389406, 'housing_median_age'),\n",
       " (0.01763705319615978, 'population'),\n",
       " (0.01708865990445889, 'total_rooms'),\n",
       " (0.016450810734806788, 'total_bedrooms'),\n",
       " (0.01565439402915863, 'households'),\n",
       " (0.014462756744516997, '<1H OCEAN'),\n",
       " (0.005722827505709344, 'NEAR OCEAN'),\n",
       " (0.003141405989908512, 'NEAR BAY'),\n",
       " (6.068465945221671e-05, 'ISLAND')]"
      ]
     },
     "execution_count": 82,
     "metadata": {},
     "output_type": "execute_result"
    }
   ],
   "source": [
    "sorted(zip(caracteristicas_importantes, atributos), reverse=True)"
   ]
  },
  {
   "cell_type": "markdown",
   "metadata": {},
   "source": [
    "Esta información nos ayudara a eliminar algunas caracteristicas no tan importantes, por ejemplo, de la categoria ocean_proximity solo INLAND es importante por lo que se puede eliminar las demás"
   ]
  },
  {
   "cell_type": "markdown",
   "metadata": {},
   "source": [
    "### Evaluamos el sistema en el Test Set"
   ]
  },
  {
   "cell_type": "markdown",
   "metadata": {},
   "source": [
    "Despues de hacer todas esas evaluaciones al modelo y que esten suficientemente bien, vamos a evaluar nuestro modelo final en con el dataset de prueba, recordemos, que el set de prueba no lo hemos tocado mientras que al set de entrenamiento hicimos varias transformaciones, por lo que los dos datasets deben estar en el mismo formato."
   ]
  },
  {
   "cell_type": "code",
   "execution_count": 84,
   "metadata": {},
   "outputs": [],
   "source": [
    "# Falta completar una función que haga el proceso de separacion tanto de test como de train\n",
    "# Queda de trabajo completar la función que haga el proceso de encoding y normalización al estudiante\n",
    "# Recordar que debemos hacer este proceso con X_test"
   ]
  },
  {
   "cell_type": "code",
   "execution_count": 83,
   "metadata": {},
   "outputs": [
    {
     "ename": "NameError",
     "evalue": "name 'strat_test_set' is not defined",
     "output_type": "error",
     "traceback": [
      "\u001b[0;31m---------------------------------------------------------------------------\u001b[0m",
      "\u001b[0;31mNameError\u001b[0m                                 Traceback (most recent call last)",
      "\u001b[0;32m<ipython-input-83-0d2a91e3fbba>\u001b[0m in \u001b[0;36m<module>\u001b[0;34m()\u001b[0m\n\u001b[0;32m----> 1\u001b[0;31m \u001b[0mX_test\u001b[0m \u001b[0;34m=\u001b[0m \u001b[0mstrat_test_set\u001b[0m\u001b[0;34m.\u001b[0m\u001b[0mdrop\u001b[0m\u001b[0;34m(\u001b[0m\u001b[0;34m\"median_house_value\"\u001b[0m\u001b[0;34m,\u001b[0m \u001b[0maxis\u001b[0m\u001b[0;34m=\u001b[0m\u001b[0;36m1\u001b[0m\u001b[0;34m)\u001b[0m\u001b[0;34m\u001b[0m\u001b[0;34m\u001b[0m\u001b[0m\n\u001b[0m\u001b[1;32m      2\u001b[0m \u001b[0my_test\u001b[0m \u001b[0;34m=\u001b[0m \u001b[0mstrat_test_set\u001b[0m\u001b[0;34m[\u001b[0m\u001b[0;34m\"median_house_value\"\u001b[0m\u001b[0;34m]\u001b[0m\u001b[0;34m.\u001b[0m\u001b[0mcopy\u001b[0m\u001b[0;34m(\u001b[0m\u001b[0;34m)\u001b[0m\u001b[0;34m\u001b[0m\u001b[0;34m\u001b[0m\u001b[0m\n",
      "\u001b[0;31mNameError\u001b[0m: name 'strat_test_set' is not defined"
     ]
    }
   ],
   "source": [
    "X_test = strat_test_set.drop(\"median_house_value\", axis=1)\n",
    "y_test = strat_test_set[\"median_house_value\"].copy()"
   ]
  },
  {
   "cell_type": "code",
   "execution_count": null,
   "metadata": {},
   "outputs": [],
   "source": [
    "final_model = grid_search.best_estimator_\n",
    "final_predictions = final_model.predict(X_test_prepared)\n",
    "final_mse = mean_squared_error(y_test, final_predictions)\n",
    "final_rmse = np.sqrt(final_mse)"
   ]
  },
  {
   "cell_type": "markdown",
   "metadata": {},
   "source": [
    "## 7. Presentar la solución\n",
    "\n",
    "1. Documente lo que ha hecho.\n",
    "2. Crea una buena presentación. \n",
    "    * Asegúrese de resaltar primero el panorama general.\n",
    "3. Explique por qué su solución logra el objetivo de negocio.\n",
    "4. No olvides presentar los puntos interesantes que notaste a lo largo del camino. \n",
    "    * Describa lo que funcionó y lo que no funcionó.\n",
    "    * Enumere sus suposiciones y las limitaciones de su sistema.\n",
    "5. Asegúrese de que sus hallazgos clave se comunican a través de visualizaciones fáciles de recordar, (por ejemplo, \"el ingreso medio es el predictor número uno de los precios de la vivienda\").\n"
   ]
  },
  {
   "cell_type": "markdown",
   "metadata": {},
   "source": [
    "## 8. Haga el Deploy, Monitoreo y Mantenimiento del sistema\n",
    "\n",
    "1. Prepare su solución para la producción (conéctela a las entradas de datos de producción, escriba pruebas unitarias, etc.).\n",
    "2. Escribir código de supervisión para comprobar el rendimiento de su sistema en directo a intervalos regulares y activar alertas cuando cae.\n",
    "    * También hay que tener cuidado con la lenta degradación: los modelos tienden a \"dañarse\" a medida que evolucionan los datos.\n",
    "    * La medición del rendimiento puede requerir una revisión humana (por ejemplo, a través de un servicio de crowdsourcing).\n",
    "    * También controle la calidad de sus entradas (por ejemplo, un sensor que no funciona correctamente y que envía valores aleatorios). Esto es particularmente importante para el aprendizaje online.\n",
    "3. Vuelva a entrenar a sus modelos de forma regular con datos nuevos (automatice tanto como sea posible).\n",
    "\n"
   ]
  },
  {
   "cell_type": "code",
   "execution_count": null,
   "metadata": {},
   "outputs": [],
   "source": []
  }
 ],
 "metadata": {
  "kernelspec": {
   "display_name": "Python 3",
   "language": "python",
   "name": "python3"
  },
  "language_info": {
   "codemirror_mode": {
    "name": "ipython",
    "version": 3
   },
   "file_extension": ".py",
   "mimetype": "text/x-python",
   "name": "python",
   "nbconvert_exporter": "python",
   "pygments_lexer": "ipython3",
   "version": "3.8.5"
  }
 },
 "nbformat": 4,
 "nbformat_minor": 2
}
