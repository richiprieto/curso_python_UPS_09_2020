{
 "cells": [
  {
   "cell_type": "markdown",
   "metadata": {},
   "source": [
    "# Prediccion usando Fbprophet"
   ]
  },
  {
   "cell_type": "code",
   "execution_count": 1,
   "metadata": {},
   "outputs": [],
   "source": [
    "import pandas as pd\n",
    "import numpy as np\n",
    "from fbprophet import Prophet\n",
    "import matplotlib.pyplot as plt"
   ]
  },
  {
   "cell_type": "code",
   "execution_count": 2,
   "metadata": {},
   "outputs": [],
   "source": [
    "sales_df = pd.read_csv('retail_sales.csv', index_col='date', parse_dates=True)"
   ]
  },
  {
   "cell_type": "code",
   "execution_count": 3,
   "metadata": {},
   "outputs": [
    {
     "data": {
      "text/html": [
       "<div>\n",
       "<style scoped>\n",
       "    .dataframe tbody tr th:only-of-type {\n",
       "        vertical-align: middle;\n",
       "    }\n",
       "\n",
       "    .dataframe tbody tr th {\n",
       "        vertical-align: top;\n",
       "    }\n",
       "\n",
       "    .dataframe thead th {\n",
       "        text-align: right;\n",
       "    }\n",
       "</style>\n",
       "<table border=\"1\" class=\"dataframe\">\n",
       "  <thead>\n",
       "    <tr style=\"text-align: right;\">\n",
       "      <th></th>\n",
       "      <th>sales</th>\n",
       "    </tr>\n",
       "    <tr>\n",
       "      <th>date</th>\n",
       "      <th></th>\n",
       "    </tr>\n",
       "  </thead>\n",
       "  <tbody>\n",
       "    <tr>\n",
       "      <th>2009-10-01</th>\n",
       "      <td>338630</td>\n",
       "    </tr>\n",
       "    <tr>\n",
       "      <th>2009-11-01</th>\n",
       "      <td>339386</td>\n",
       "    </tr>\n",
       "    <tr>\n",
       "      <th>2009-12-01</th>\n",
       "      <td>400264</td>\n",
       "    </tr>\n",
       "    <tr>\n",
       "      <th>2010-01-01</th>\n",
       "      <td>314640</td>\n",
       "    </tr>\n",
       "    <tr>\n",
       "      <th>2010-02-01</th>\n",
       "      <td>311022</td>\n",
       "    </tr>\n",
       "  </tbody>\n",
       "</table>\n",
       "</div>"
      ],
      "text/plain": [
       "             sales\n",
       "date              \n",
       "2009-10-01  338630\n",
       "2009-11-01  339386\n",
       "2009-12-01  400264\n",
       "2010-01-01  314640\n",
       "2010-02-01  311022"
      ]
     },
     "execution_count": 3,
     "metadata": {},
     "output_type": "execute_result"
    }
   ],
   "source": [
    "sales_df.head()"
   ]
  },
  {
   "cell_type": "code",
   "execution_count": 4,
   "metadata": {},
   "outputs": [],
   "source": [
    "# colocamos el indice como columna\n",
    "df = sales_df.reset_index()"
   ]
  },
  {
   "cell_type": "code",
   "execution_count": 5,
   "metadata": {},
   "outputs": [
    {
     "data": {
      "text/html": [
       "<div>\n",
       "<style scoped>\n",
       "    .dataframe tbody tr th:only-of-type {\n",
       "        vertical-align: middle;\n",
       "    }\n",
       "\n",
       "    .dataframe tbody tr th {\n",
       "        vertical-align: top;\n",
       "    }\n",
       "\n",
       "    .dataframe thead th {\n",
       "        text-align: right;\n",
       "    }\n",
       "</style>\n",
       "<table border=\"1\" class=\"dataframe\">\n",
       "  <thead>\n",
       "    <tr style=\"text-align: right;\">\n",
       "      <th></th>\n",
       "      <th>date</th>\n",
       "      <th>sales</th>\n",
       "    </tr>\n",
       "  </thead>\n",
       "  <tbody>\n",
       "    <tr>\n",
       "      <th>0</th>\n",
       "      <td>2009-10-01</td>\n",
       "      <td>338630</td>\n",
       "    </tr>\n",
       "    <tr>\n",
       "      <th>1</th>\n",
       "      <td>2009-11-01</td>\n",
       "      <td>339386</td>\n",
       "    </tr>\n",
       "    <tr>\n",
       "      <th>2</th>\n",
       "      <td>2009-12-01</td>\n",
       "      <td>400264</td>\n",
       "    </tr>\n",
       "    <tr>\n",
       "      <th>3</th>\n",
       "      <td>2010-01-01</td>\n",
       "      <td>314640</td>\n",
       "    </tr>\n",
       "    <tr>\n",
       "      <th>4</th>\n",
       "      <td>2010-02-01</td>\n",
       "      <td>311022</td>\n",
       "    </tr>\n",
       "  </tbody>\n",
       "</table>\n",
       "</div>"
      ],
      "text/plain": [
       "        date   sales\n",
       "0 2009-10-01  338630\n",
       "1 2009-11-01  339386\n",
       "2 2009-12-01  400264\n",
       "3 2010-01-01  314640\n",
       "4 2010-02-01  311022"
      ]
     },
     "execution_count": 5,
     "metadata": {},
     "output_type": "execute_result"
    }
   ],
   "source": [
    "df.head()"
   ]
  },
  {
   "cell_type": "code",
   "execution_count": 6,
   "metadata": {},
   "outputs": [],
   "source": [
    "# renombramos las columnas al formato de fbprophet\n",
    "df=df.rename(columns={'date':'ds', 'sales':'y'})"
   ]
  },
  {
   "cell_type": "code",
   "execution_count": 7,
   "metadata": {},
   "outputs": [
    {
     "data": {
      "text/html": [
       "<div>\n",
       "<style scoped>\n",
       "    .dataframe tbody tr th:only-of-type {\n",
       "        vertical-align: middle;\n",
       "    }\n",
       "\n",
       "    .dataframe tbody tr th {\n",
       "        vertical-align: top;\n",
       "    }\n",
       "\n",
       "    .dataframe thead th {\n",
       "        text-align: right;\n",
       "    }\n",
       "</style>\n",
       "<table border=\"1\" class=\"dataframe\">\n",
       "  <thead>\n",
       "    <tr style=\"text-align: right;\">\n",
       "      <th></th>\n",
       "      <th>ds</th>\n",
       "      <th>y</th>\n",
       "    </tr>\n",
       "  </thead>\n",
       "  <tbody>\n",
       "    <tr>\n",
       "      <th>0</th>\n",
       "      <td>2009-10-01</td>\n",
       "      <td>338630</td>\n",
       "    </tr>\n",
       "    <tr>\n",
       "      <th>1</th>\n",
       "      <td>2009-11-01</td>\n",
       "      <td>339386</td>\n",
       "    </tr>\n",
       "    <tr>\n",
       "      <th>2</th>\n",
       "      <td>2009-12-01</td>\n",
       "      <td>400264</td>\n",
       "    </tr>\n",
       "    <tr>\n",
       "      <th>3</th>\n",
       "      <td>2010-01-01</td>\n",
       "      <td>314640</td>\n",
       "    </tr>\n",
       "    <tr>\n",
       "      <th>4</th>\n",
       "      <td>2010-02-01</td>\n",
       "      <td>311022</td>\n",
       "    </tr>\n",
       "  </tbody>\n",
       "</table>\n",
       "</div>"
      ],
      "text/plain": [
       "          ds       y\n",
       "0 2009-10-01  338630\n",
       "1 2009-11-01  339386\n",
       "2 2009-12-01  400264\n",
       "3 2010-01-01  314640\n",
       "4 2010-02-01  311022"
      ]
     },
     "execution_count": 7,
     "metadata": {},
     "output_type": "execute_result"
    }
   ],
   "source": [
    "df.head()"
   ]
  },
  {
   "cell_type": "code",
   "execution_count": 8,
   "metadata": {},
   "outputs": [
    {
     "data": {
      "text/plain": [
       "<matplotlib.axes._subplots.AxesSubplot at 0x7f978440a070>"
      ]
     },
     "execution_count": 8,
     "metadata": {},
     "output_type": "execute_result"
    },
    {
     "data": {
      "image/png": "[encoded data removed]",
      "text/plain": [
       "<Figure size 432x288 with 1 Axes>"
      ]
     },
     "metadata": {
      "needs_background": "light"
     },
     "output_type": "display_data"
    }
   ],
   "source": [
    "# Graficamos la data\n",
    "df.set_index('ds')[\"y\"].plot()"
   ]
  },
  {
   "cell_type": "code",
   "execution_count": 9,
   "metadata": {},
   "outputs": [],
   "source": [
    "# para remover anomalias fbprophet recomienda obtener el logaritmo de los datos\n",
    "df['y'] = np.log(df['y'])"
   ]
  },
  {
   "cell_type": "code",
   "execution_count": 10,
   "metadata": {},
   "outputs": [
    {
     "data": {
      "text/html": [
       "<div>\n",
       "<style scoped>\n",
       "    .dataframe tbody tr th:only-of-type {\n",
       "        vertical-align: middle;\n",
       "    }\n",
       "\n",
       "    .dataframe tbody tr th {\n",
       "        vertical-align: top;\n",
       "    }\n",
       "\n",
       "    .dataframe thead th {\n",
       "        text-align: right;\n",
       "    }\n",
       "</style>\n",
       "<table border=\"1\" class=\"dataframe\">\n",
       "  <thead>\n",
       "    <tr style=\"text-align: right;\">\n",
       "      <th></th>\n",
       "      <th>ds</th>\n",
       "      <th>y</th>\n",
       "    </tr>\n",
       "  </thead>\n",
       "  <tbody>\n",
       "    <tr>\n",
       "      <th>67</th>\n",
       "      <td>2015-05-01</td>\n",
       "      <td>13.044650</td>\n",
       "    </tr>\n",
       "    <tr>\n",
       "      <th>68</th>\n",
       "      <td>2015-06-01</td>\n",
       "      <td>13.013060</td>\n",
       "    </tr>\n",
       "    <tr>\n",
       "      <th>69</th>\n",
       "      <td>2015-07-01</td>\n",
       "      <td>13.033991</td>\n",
       "    </tr>\n",
       "    <tr>\n",
       "      <th>70</th>\n",
       "      <td>2015-08-01</td>\n",
       "      <td>13.030993</td>\n",
       "    </tr>\n",
       "    <tr>\n",
       "      <th>71</th>\n",
       "      <td>2015-09-01</td>\n",
       "      <td>12.973671</td>\n",
       "    </tr>\n",
       "  </tbody>\n",
       "</table>\n",
       "</div>"
      ],
      "text/plain": [
       "           ds          y\n",
       "67 2015-05-01  13.044650\n",
       "68 2015-06-01  13.013060\n",
       "69 2015-07-01  13.033991\n",
       "70 2015-08-01  13.030993\n",
       "71 2015-09-01  12.973671"
      ]
     },
     "execution_count": 10,
     "metadata": {},
     "output_type": "execute_result"
    }
   ],
   "source": [
    "df.tail()"
   ]
  },
  {
   "cell_type": "code",
   "execution_count": 11,
   "metadata": {},
   "outputs": [
    {
     "data": {
      "text/plain": [
       "<matplotlib.axes._subplots.AxesSubplot at 0x7f976aa05850>"
      ]
     },
     "execution_count": 11,
     "metadata": {},
     "output_type": "execute_result"
    },
    {
     "data": {
      "image/png": "[encoded data removed]",
      "text/plain": [
       "<Figure size 432x288 with 1 Axes>"
      ]
     },
     "metadata": {
      "needs_background": "light"
     },
     "output_type": "display_data"
    }
   ],
   "source": [
    "# verificamos la grafica\n",
    "df.set_index('ds')[\"y\"].plot()"
   ]
  },
  {
   "cell_type": "code",
   "execution_count": 12,
   "metadata": {},
   "outputs": [
    {
     "name": "stderr",
     "output_type": "stream",
     "text": [
      "INFO:numexpr.utils:NumExpr defaulting to 8 threads.\n",
      "INFO:fbprophet:Disabling weekly seasonality. Run prophet with weekly_seasonality=True to override this.\n",
      "INFO:fbprophet:Disabling daily seasonality. Run prophet with daily_seasonality=True to override this.\n"
     ]
    }
   ],
   "source": [
    "# Creamos el modelo que contiene fbprophet\n",
    "model = Prophet()\n",
    "# Entrenamos el modelo\n",
    "model.fit(df);"
   ]
  },
  {
   "cell_type": "code",
   "execution_count": 13,
   "metadata": {},
   "outputs": [
    {
     "data": {
      "text/html": [
       "<div>\n",
       "<style scoped>\n",
       "    .dataframe tbody tr th:only-of-type {\n",
       "        vertical-align: middle;\n",
       "    }\n",
       "\n",
       "    .dataframe tbody tr th {\n",
       "        vertical-align: top;\n",
       "    }\n",
       "\n",
       "    .dataframe thead th {\n",
       "        text-align: right;\n",
       "    }\n",
       "</style>\n",
       "<table border=\"1\" class=\"dataframe\">\n",
       "  <thead>\n",
       "    <tr style=\"text-align: right;\">\n",
       "      <th></th>\n",
       "      <th>ds</th>\n",
       "    </tr>\n",
       "  </thead>\n",
       "  <tbody>\n",
       "    <tr>\n",
       "      <th>91</th>\n",
       "      <td>2017-04-30</td>\n",
       "    </tr>\n",
       "    <tr>\n",
       "      <th>92</th>\n",
       "      <td>2017-05-31</td>\n",
       "    </tr>\n",
       "    <tr>\n",
       "      <th>93</th>\n",
       "      <td>2017-06-30</td>\n",
       "    </tr>\n",
       "    <tr>\n",
       "      <th>94</th>\n",
       "      <td>2017-07-31</td>\n",
       "    </tr>\n",
       "    <tr>\n",
       "      <th>95</th>\n",
       "      <td>2017-08-31</td>\n",
       "    </tr>\n",
       "  </tbody>\n",
       "</table>\n",
       "</div>"
      ],
      "text/plain": [
       "           ds\n",
       "91 2017-04-30\n",
       "92 2017-05-31\n",
       "93 2017-06-30\n",
       "94 2017-07-31\n",
       "95 2017-08-31"
      ]
     },
     "execution_count": 13,
     "metadata": {},
     "output_type": "execute_result"
    }
   ],
   "source": [
    "#Vamos a proceder a predecir dos a;os en el futuro para  eso creamos un dataframe de 24 meses\n",
    "future = model.make_future_dataframe(periods=24, freq = 'm')\n",
    "future.tail()"
   ]
  },
  {
   "cell_type": "code",
   "execution_count": 14,
   "metadata": {},
   "outputs": [],
   "source": [
    "# predecimos\n",
    "forecast = model.predict(future)"
   ]
  },
  {
   "cell_type": "code",
   "execution_count": 15,
   "metadata": {},
   "outputs": [
    {
     "data": {
      "text/html": [
       "<div>\n",
       "<style scoped>\n",
       "    .dataframe tbody tr th:only-of-type {\n",
       "        vertical-align: middle;\n",
       "    }\n",
       "\n",
       "    .dataframe tbody tr th {\n",
       "        vertical-align: top;\n",
       "    }\n",
       "\n",
       "    .dataframe thead th {\n",
       "        text-align: right;\n",
       "    }\n",
       "</style>\n",
       "<table border=\"1\" class=\"dataframe\">\n",
       "  <thead>\n",
       "    <tr style=\"text-align: right;\">\n",
       "      <th></th>\n",
       "      <th>ds</th>\n",
       "      <th>trend</th>\n",
       "      <th>yhat_lower</th>\n",
       "      <th>yhat_upper</th>\n",
       "      <th>trend_lower</th>\n",
       "      <th>trend_upper</th>\n",
       "      <th>additive_terms</th>\n",
       "      <th>additive_terms_lower</th>\n",
       "      <th>additive_terms_upper</th>\n",
       "      <th>yearly</th>\n",
       "      <th>yearly_lower</th>\n",
       "      <th>yearly_upper</th>\n",
       "      <th>multiplicative_terms</th>\n",
       "      <th>multiplicative_terms_lower</th>\n",
       "      <th>multiplicative_terms_upper</th>\n",
       "      <th>yhat</th>\n",
       "    </tr>\n",
       "  </thead>\n",
       "  <tbody>\n",
       "    <tr>\n",
       "      <th>91</th>\n",
       "      <td>2017-04-30</td>\n",
       "      <td>13.041237</td>\n",
       "      <td>12.852551</td>\n",
       "      <td>13.257042</td>\n",
       "      <td>12.837193</td>\n",
       "      <td>13.237367</td>\n",
       "      <td>0.018364</td>\n",
       "      <td>0.018364</td>\n",
       "      <td>0.018364</td>\n",
       "      <td>0.018364</td>\n",
       "      <td>0.018364</td>\n",
       "      <td>0.018364</td>\n",
       "      <td>0.0</td>\n",
       "      <td>0.0</td>\n",
       "      <td>0.0</td>\n",
       "      <td>13.059601</td>\n",
       "    </tr>\n",
       "    <tr>\n",
       "      <th>92</th>\n",
       "      <td>2017-05-31</td>\n",
       "      <td>13.042942</td>\n",
       "      <td>12.831924</td>\n",
       "      <td>13.266471</td>\n",
       "      <td>12.820317</td>\n",
       "      <td>13.249957</td>\n",
       "      <td>0.012932</td>\n",
       "      <td>0.012932</td>\n",
       "      <td>0.012932</td>\n",
       "      <td>0.012932</td>\n",
       "      <td>0.012932</td>\n",
       "      <td>0.012932</td>\n",
       "      <td>0.0</td>\n",
       "      <td>0.0</td>\n",
       "      <td>0.0</td>\n",
       "      <td>13.055874</td>\n",
       "    </tr>\n",
       "    <tr>\n",
       "      <th>93</th>\n",
       "      <td>2017-06-30</td>\n",
       "      <td>13.044592</td>\n",
       "      <td>12.837831</td>\n",
       "      <td>13.298121</td>\n",
       "      <td>12.804075</td>\n",
       "      <td>13.266596</td>\n",
       "      <td>0.031733</td>\n",
       "      <td>0.031733</td>\n",
       "      <td>0.031733</td>\n",
       "      <td>0.031733</td>\n",
       "      <td>0.031733</td>\n",
       "      <td>0.031733</td>\n",
       "      <td>0.0</td>\n",
       "      <td>0.0</td>\n",
       "      <td>0.0</td>\n",
       "      <td>13.076325</td>\n",
       "    </tr>\n",
       "    <tr>\n",
       "      <th>94</th>\n",
       "      <td>2017-07-31</td>\n",
       "      <td>13.046298</td>\n",
       "      <td>12.798666</td>\n",
       "      <td>13.293805</td>\n",
       "      <td>12.786659</td>\n",
       "      <td>13.284785</td>\n",
       "      <td>0.009755</td>\n",
       "      <td>0.009755</td>\n",
       "      <td>0.009755</td>\n",
       "      <td>0.009755</td>\n",
       "      <td>0.009755</td>\n",
       "      <td>0.009755</td>\n",
       "      <td>0.0</td>\n",
       "      <td>0.0</td>\n",
       "      <td>0.0</td>\n",
       "      <td>13.056053</td>\n",
       "    </tr>\n",
       "    <tr>\n",
       "      <th>95</th>\n",
       "      <td>2017-08-31</td>\n",
       "      <td>13.048003</td>\n",
       "      <td>12.746165</td>\n",
       "      <td>13.283850</td>\n",
       "      <td>12.769482</td>\n",
       "      <td>13.305138</td>\n",
       "      <td>-0.020633</td>\n",
       "      <td>-0.020633</td>\n",
       "      <td>-0.020633</td>\n",
       "      <td>-0.020633</td>\n",
       "      <td>-0.020633</td>\n",
       "      <td>-0.020633</td>\n",
       "      <td>0.0</td>\n",
       "      <td>0.0</td>\n",
       "      <td>0.0</td>\n",
       "      <td>13.027370</td>\n",
       "    </tr>\n",
       "  </tbody>\n",
       "</table>\n",
       "</div>"
      ],
      "text/plain": [
       "           ds      trend  yhat_lower  yhat_upper  trend_lower  trend_upper  \\\n",
       "91 2017-04-30  13.041237   12.852551   13.257042    12.837193    13.237367   \n",
       "92 2017-05-31  13.042942   12.831924   13.266471    12.820317    13.249957   \n",
       "93 2017-06-30  13.044592   12.837831   13.298121    12.804075    13.266596   \n",
       "94 2017-07-31  13.046298   12.798666   13.293805    12.786659    13.284785   \n",
       "95 2017-08-31  13.048003   12.746165   13.283850    12.769482    13.305138   \n",
       "\n",
       "    additive_terms  additive_terms_lower  additive_terms_upper    yearly  \\\n",
       "91        0.018364              0.018364              0.018364  0.018364   \n",
       "92        0.012932              0.012932              0.012932  0.012932   \n",
       "93        0.031733              0.031733              0.031733  0.031733   \n",
       "94        0.009755              0.009755              0.009755  0.009755   \n",
       "95       -0.020633             -0.020633             -0.020633 -0.020633   \n",
       "\n",
       "    yearly_lower  yearly_upper  multiplicative_terms  \\\n",
       "91      0.018364      0.018364                   0.0   \n",
       "92      0.012932      0.012932                   0.0   \n",
       "93      0.031733      0.031733                   0.0   \n",
       "94      0.009755      0.009755                   0.0   \n",
       "95     -0.020633     -0.020633                   0.0   \n",
       "\n",
       "    multiplicative_terms_lower  multiplicative_terms_upper       yhat  \n",
       "91                         0.0                         0.0  13.059601  \n",
       "92                         0.0                         0.0  13.055874  \n",
       "93                         0.0                         0.0  13.076325  \n",
       "94                         0.0                         0.0  13.056053  \n",
       "95                         0.0                         0.0  13.027370  "
      ]
     },
     "execution_count": 15,
     "metadata": {},
     "output_type": "execute_result"
    }
   ],
   "source": [
    "#observamos la data\n",
    "forecast.tail()"
   ]
  },
  {
   "cell_type": "code",
   "execution_count": 16,
   "metadata": {},
   "outputs": [
    {
     "data": {
      "text/html": [
       "<div>\n",
       "<style scoped>\n",
       "    .dataframe tbody tr th:only-of-type {\n",
       "        vertical-align: middle;\n",
       "    }\n",
       "\n",
       "    .dataframe tbody tr th {\n",
       "        vertical-align: top;\n",
       "    }\n",
       "\n",
       "    .dataframe thead th {\n",
       "        text-align: right;\n",
       "    }\n",
       "</style>\n",
       "<table border=\"1\" class=\"dataframe\">\n",
       "  <thead>\n",
       "    <tr style=\"text-align: right;\">\n",
       "      <th></th>\n",
       "      <th>ds</th>\n",
       "      <th>yhat</th>\n",
       "      <th>yhat_lower</th>\n",
       "      <th>yhat_upper</th>\n",
       "    </tr>\n",
       "  </thead>\n",
       "  <tbody>\n",
       "    <tr>\n",
       "      <th>91</th>\n",
       "      <td>2017-04-30</td>\n",
       "      <td>13.059601</td>\n",
       "      <td>12.852551</td>\n",
       "      <td>13.257042</td>\n",
       "    </tr>\n",
       "    <tr>\n",
       "      <th>92</th>\n",
       "      <td>2017-05-31</td>\n",
       "      <td>13.055874</td>\n",
       "      <td>12.831924</td>\n",
       "      <td>13.266471</td>\n",
       "    </tr>\n",
       "    <tr>\n",
       "      <th>93</th>\n",
       "      <td>2017-06-30</td>\n",
       "      <td>13.076325</td>\n",
       "      <td>12.837831</td>\n",
       "      <td>13.298121</td>\n",
       "    </tr>\n",
       "    <tr>\n",
       "      <th>94</th>\n",
       "      <td>2017-07-31</td>\n",
       "      <td>13.056053</td>\n",
       "      <td>12.798666</td>\n",
       "      <td>13.293805</td>\n",
       "    </tr>\n",
       "    <tr>\n",
       "      <th>95</th>\n",
       "      <td>2017-08-31</td>\n",
       "      <td>13.027370</td>\n",
       "      <td>12.746165</td>\n",
       "      <td>13.283850</td>\n",
       "    </tr>\n",
       "  </tbody>\n",
       "</table>\n",
       "</div>"
      ],
      "text/plain": [
       "           ds       yhat  yhat_lower  yhat_upper\n",
       "91 2017-04-30  13.059601   12.852551   13.257042\n",
       "92 2017-05-31  13.055874   12.831924   13.266471\n",
       "93 2017-06-30  13.076325   12.837831   13.298121\n",
       "94 2017-07-31  13.056053   12.798666   13.293805\n",
       "95 2017-08-31  13.027370   12.746165   13.283850"
      ]
     },
     "execution_count": 16,
     "metadata": {},
     "output_type": "execute_result"
    }
   ],
   "source": [
    "#solo vamos a usar ds que son las fechas\n",
    "# yhat que son las predicciones\n",
    "# yhat_lower nivel de confianza al 95% menor\n",
    "# yhat_upper nivel de confianza al 95% mayor\n",
    "forecast[['ds', 'yhat', 'yhat_lower', 'yhat_upper']].tail()"
   ]
  },
  {
   "cell_type": "code",
   "execution_count": 17,
   "metadata": {},
   "outputs": [
    {
     "data": {
      "image/png": "[encoded data removed]",
      "text/plain": [
       "<Figure size 720x432 with 1 Axes>"
      ]
     },
     "metadata": {},
     "output_type": "display_data"
    }
   ],
   "source": [
    "# Graficamos los parametros\n",
    "model.plot(forecast);"
   ]
  },
  {
   "cell_type": "code",
   "execution_count": 18,
   "metadata": {},
   "outputs": [],
   "source": [
    "#Preparamos los datos para unir el dataset con la prediccion\n",
    "df.set_index('ds', inplace=True)\n",
    "forecast.set_index('ds', inplace=True)"
   ]
  },
  {
   "cell_type": "code",
   "execution_count": 19,
   "metadata": {},
   "outputs": [
    {
     "data": {
      "text/html": [
       "<div>\n",
       "<style scoped>\n",
       "    .dataframe tbody tr th:only-of-type {\n",
       "        vertical-align: middle;\n",
       "    }\n",
       "\n",
       "    .dataframe tbody tr th {\n",
       "        vertical-align: top;\n",
       "    }\n",
       "\n",
       "    .dataframe thead th {\n",
       "        text-align: right;\n",
       "    }\n",
       "</style>\n",
       "<table border=\"1\" class=\"dataframe\">\n",
       "  <thead>\n",
       "    <tr style=\"text-align: right;\">\n",
       "      <th></th>\n",
       "      <th>y</th>\n",
       "    </tr>\n",
       "    <tr>\n",
       "      <th>ds</th>\n",
       "      <th></th>\n",
       "    </tr>\n",
       "  </thead>\n",
       "  <tbody>\n",
       "    <tr>\n",
       "      <th>2015-05-01</th>\n",
       "      <td>13.044650</td>\n",
       "    </tr>\n",
       "    <tr>\n",
       "      <th>2015-06-01</th>\n",
       "      <td>13.013060</td>\n",
       "    </tr>\n",
       "    <tr>\n",
       "      <th>2015-07-01</th>\n",
       "      <td>13.033991</td>\n",
       "    </tr>\n",
       "    <tr>\n",
       "      <th>2015-08-01</th>\n",
       "      <td>13.030993</td>\n",
       "    </tr>\n",
       "    <tr>\n",
       "      <th>2015-09-01</th>\n",
       "      <td>12.973671</td>\n",
       "    </tr>\n",
       "  </tbody>\n",
       "</table>\n",
       "</div>"
      ],
      "text/plain": [
       "                    y\n",
       "ds                   \n",
       "2015-05-01  13.044650\n",
       "2015-06-01  13.013060\n",
       "2015-07-01  13.033991\n",
       "2015-08-01  13.030993\n",
       "2015-09-01  12.973671"
      ]
     },
     "execution_count": 19,
     "metadata": {},
     "output_type": "execute_result"
    }
   ],
   "source": [
    "df.tail()"
   ]
  },
  {
   "cell_type": "code",
   "execution_count": 20,
   "metadata": {},
   "outputs": [
    {
     "data": {
      "text/html": [
       "<div>\n",
       "<style scoped>\n",
       "    .dataframe tbody tr th:only-of-type {\n",
       "        vertical-align: middle;\n",
       "    }\n",
       "\n",
       "    .dataframe tbody tr th {\n",
       "        vertical-align: top;\n",
       "    }\n",
       "\n",
       "    .dataframe thead th {\n",
       "        text-align: right;\n",
       "    }\n",
       "</style>\n",
       "<table border=\"1\" class=\"dataframe\">\n",
       "  <thead>\n",
       "    <tr style=\"text-align: right;\">\n",
       "      <th></th>\n",
       "      <th>trend</th>\n",
       "      <th>yhat_lower</th>\n",
       "      <th>yhat_upper</th>\n",
       "      <th>trend_lower</th>\n",
       "      <th>trend_upper</th>\n",
       "      <th>additive_terms</th>\n",
       "      <th>additive_terms_lower</th>\n",
       "      <th>additive_terms_upper</th>\n",
       "      <th>yearly</th>\n",
       "      <th>yearly_lower</th>\n",
       "      <th>yearly_upper</th>\n",
       "      <th>multiplicative_terms</th>\n",
       "      <th>multiplicative_terms_lower</th>\n",
       "      <th>multiplicative_terms_upper</th>\n",
       "      <th>yhat</th>\n",
       "    </tr>\n",
       "    <tr>\n",
       "      <th>ds</th>\n",
       "      <th></th>\n",
       "      <th></th>\n",
       "      <th></th>\n",
       "      <th></th>\n",
       "      <th></th>\n",
       "      <th></th>\n",
       "      <th></th>\n",
       "      <th></th>\n",
       "      <th></th>\n",
       "      <th></th>\n",
       "      <th></th>\n",
       "      <th></th>\n",
       "      <th></th>\n",
       "      <th></th>\n",
       "      <th></th>\n",
       "    </tr>\n",
       "  </thead>\n",
       "  <tbody>\n",
       "    <tr>\n",
       "      <th>2017-04-30</th>\n",
       "      <td>13.041237</td>\n",
       "      <td>12.852551</td>\n",
       "      <td>13.257042</td>\n",
       "      <td>12.837193</td>\n",
       "      <td>13.237367</td>\n",
       "      <td>0.018364</td>\n",
       "      <td>0.018364</td>\n",
       "      <td>0.018364</td>\n",
       "      <td>0.018364</td>\n",
       "      <td>0.018364</td>\n",
       "      <td>0.018364</td>\n",
       "      <td>0.0</td>\n",
       "      <td>0.0</td>\n",
       "      <td>0.0</td>\n",
       "      <td>13.059601</td>\n",
       "    </tr>\n",
       "    <tr>\n",
       "      <th>2017-05-31</th>\n",
       "      <td>13.042942</td>\n",
       "      <td>12.831924</td>\n",
       "      <td>13.266471</td>\n",
       "      <td>12.820317</td>\n",
       "      <td>13.249957</td>\n",
       "      <td>0.012932</td>\n",
       "      <td>0.012932</td>\n",
       "      <td>0.012932</td>\n",
       "      <td>0.012932</td>\n",
       "      <td>0.012932</td>\n",
       "      <td>0.012932</td>\n",
       "      <td>0.0</td>\n",
       "      <td>0.0</td>\n",
       "      <td>0.0</td>\n",
       "      <td>13.055874</td>\n",
       "    </tr>\n",
       "    <tr>\n",
       "      <th>2017-06-30</th>\n",
       "      <td>13.044592</td>\n",
       "      <td>12.837831</td>\n",
       "      <td>13.298121</td>\n",
       "      <td>12.804075</td>\n",
       "      <td>13.266596</td>\n",
       "      <td>0.031733</td>\n",
       "      <td>0.031733</td>\n",
       "      <td>0.031733</td>\n",
       "      <td>0.031733</td>\n",
       "      <td>0.031733</td>\n",
       "      <td>0.031733</td>\n",
       "      <td>0.0</td>\n",
       "      <td>0.0</td>\n",
       "      <td>0.0</td>\n",
       "      <td>13.076325</td>\n",
       "    </tr>\n",
       "    <tr>\n",
       "      <th>2017-07-31</th>\n",
       "      <td>13.046298</td>\n",
       "      <td>12.798666</td>\n",
       "      <td>13.293805</td>\n",
       "      <td>12.786659</td>\n",
       "      <td>13.284785</td>\n",
       "      <td>0.009755</td>\n",
       "      <td>0.009755</td>\n",
       "      <td>0.009755</td>\n",
       "      <td>0.009755</td>\n",
       "      <td>0.009755</td>\n",
       "      <td>0.009755</td>\n",
       "      <td>0.0</td>\n",
       "      <td>0.0</td>\n",
       "      <td>0.0</td>\n",
       "      <td>13.056053</td>\n",
       "    </tr>\n",
       "    <tr>\n",
       "      <th>2017-08-31</th>\n",
       "      <td>13.048003</td>\n",
       "      <td>12.746165</td>\n",
       "      <td>13.283850</td>\n",
       "      <td>12.769482</td>\n",
       "      <td>13.305138</td>\n",
       "      <td>-0.020633</td>\n",
       "      <td>-0.020633</td>\n",
       "      <td>-0.020633</td>\n",
       "      <td>-0.020633</td>\n",
       "      <td>-0.020633</td>\n",
       "      <td>-0.020633</td>\n",
       "      <td>0.0</td>\n",
       "      <td>0.0</td>\n",
       "      <td>0.0</td>\n",
       "      <td>13.027370</td>\n",
       "    </tr>\n",
       "  </tbody>\n",
       "</table>\n",
       "</div>"
      ],
      "text/plain": [
       "                trend  yhat_lower  yhat_upper  trend_lower  trend_upper  \\\n",
       "ds                                                                        \n",
       "2017-04-30  13.041237   12.852551   13.257042    12.837193    13.237367   \n",
       "2017-05-31  13.042942   12.831924   13.266471    12.820317    13.249957   \n",
       "2017-06-30  13.044592   12.837831   13.298121    12.804075    13.266596   \n",
       "2017-07-31  13.046298   12.798666   13.293805    12.786659    13.284785   \n",
       "2017-08-31  13.048003   12.746165   13.283850    12.769482    13.305138   \n",
       "\n",
       "            additive_terms  additive_terms_lower  additive_terms_upper  \\\n",
       "ds                                                                       \n",
       "2017-04-30        0.018364              0.018364              0.018364   \n",
       "2017-05-31        0.012932              0.012932              0.012932   \n",
       "2017-06-30        0.031733              0.031733              0.031733   \n",
       "2017-07-31        0.009755              0.009755              0.009755   \n",
       "2017-08-31       -0.020633             -0.020633             -0.020633   \n",
       "\n",
       "              yearly  yearly_lower  yearly_upper  multiplicative_terms  \\\n",
       "ds                                                                       \n",
       "2017-04-30  0.018364      0.018364      0.018364                   0.0   \n",
       "2017-05-31  0.012932      0.012932      0.012932                   0.0   \n",
       "2017-06-30  0.031733      0.031733      0.031733                   0.0   \n",
       "2017-07-31  0.009755      0.009755      0.009755                   0.0   \n",
       "2017-08-31 -0.020633     -0.020633     -0.020633                   0.0   \n",
       "\n",
       "            multiplicative_terms_lower  multiplicative_terms_upper       yhat  \n",
       "ds                                                                             \n",
       "2017-04-30                         0.0                         0.0  13.059601  \n",
       "2017-05-31                         0.0                         0.0  13.055874  \n",
       "2017-06-30                         0.0                         0.0  13.076325  \n",
       "2017-07-31                         0.0                         0.0  13.056053  \n",
       "2017-08-31                         0.0                         0.0  13.027370  "
      ]
     },
     "execution_count": 20,
     "metadata": {},
     "output_type": "execute_result"
    }
   ],
   "source": [
    "forecast.tail()"
   ]
  },
  {
   "cell_type": "code",
   "execution_count": 21,
   "metadata": {},
   "outputs": [],
   "source": [
    "#unimos el dataset original con la prediccion\n",
    "union_df = sales_df.join(forecast[['yhat', 'yhat_lower','yhat_upper']], how = 'outer')"
   ]
  },
  {
   "cell_type": "code",
   "execution_count": 22,
   "metadata": {},
   "outputs": [
    {
     "data": {
      "text/html": [
       "<div>\n",
       "<style scoped>\n",
       "    .dataframe tbody tr th:only-of-type {\n",
       "        vertical-align: middle;\n",
       "    }\n",
       "\n",
       "    .dataframe tbody tr th {\n",
       "        vertical-align: top;\n",
       "    }\n",
       "\n",
       "    .dataframe thead th {\n",
       "        text-align: right;\n",
       "    }\n",
       "</style>\n",
       "<table border=\"1\" class=\"dataframe\">\n",
       "  <thead>\n",
       "    <tr style=\"text-align: right;\">\n",
       "      <th></th>\n",
       "      <th>sales</th>\n",
       "      <th>yhat</th>\n",
       "      <th>yhat_lower</th>\n",
       "      <th>yhat_upper</th>\n",
       "    </tr>\n",
       "  </thead>\n",
       "  <tbody>\n",
       "    <tr>\n",
       "      <th>2009-10-01</th>\n",
       "      <td>338630.0</td>\n",
       "      <td>12.728916</td>\n",
       "      <td>12.718812</td>\n",
       "      <td>12.738561</td>\n",
       "    </tr>\n",
       "    <tr>\n",
       "      <th>2009-11-01</th>\n",
       "      <td>339386.0</td>\n",
       "      <td>12.749435</td>\n",
       "      <td>12.739040</td>\n",
       "      <td>12.759768</td>\n",
       "    </tr>\n",
       "    <tr>\n",
       "      <th>2009-12-01</th>\n",
       "      <td>400264.0</td>\n",
       "      <td>12.887444</td>\n",
       "      <td>12.877375</td>\n",
       "      <td>12.897285</td>\n",
       "    </tr>\n",
       "    <tr>\n",
       "      <th>2010-01-01</th>\n",
       "      <td>314640.0</td>\n",
       "      <td>12.662469</td>\n",
       "      <td>12.652586</td>\n",
       "      <td>12.672699</td>\n",
       "    </tr>\n",
       "    <tr>\n",
       "      <th>2010-02-01</th>\n",
       "      <td>311022.0</td>\n",
       "      <td>12.655825</td>\n",
       "      <td>12.645891</td>\n",
       "      <td>12.665439</td>\n",
       "    </tr>\n",
       "  </tbody>\n",
       "</table>\n",
       "</div>"
      ],
      "text/plain": [
       "               sales       yhat  yhat_lower  yhat_upper\n",
       "2009-10-01  338630.0  12.728916   12.718812   12.738561\n",
       "2009-11-01  339386.0  12.749435   12.739040   12.759768\n",
       "2009-12-01  400264.0  12.887444   12.877375   12.897285\n",
       "2010-01-01  314640.0  12.662469   12.652586   12.672699\n",
       "2010-02-01  311022.0  12.655825   12.645891   12.665439"
      ]
     },
     "execution_count": 22,
     "metadata": {},
     "output_type": "execute_result"
    }
   ],
   "source": [
    "union_df.head()"
   ]
  },
  {
   "cell_type": "code",
   "execution_count": 23,
   "metadata": {},
   "outputs": [
    {
     "data": {
      "text/html": [
       "<div>\n",
       "<style scoped>\n",
       "    .dataframe tbody tr th:only-of-type {\n",
       "        vertical-align: middle;\n",
       "    }\n",
       "\n",
       "    .dataframe tbody tr th {\n",
       "        vertical-align: top;\n",
       "    }\n",
       "\n",
       "    .dataframe thead th {\n",
       "        text-align: right;\n",
       "    }\n",
       "</style>\n",
       "<table border=\"1\" class=\"dataframe\">\n",
       "  <thead>\n",
       "    <tr style=\"text-align: right;\">\n",
       "      <th></th>\n",
       "      <th>sales</th>\n",
       "      <th>yhat</th>\n",
       "      <th>yhat_lower</th>\n",
       "      <th>yhat_upper</th>\n",
       "    </tr>\n",
       "  </thead>\n",
       "  <tbody>\n",
       "    <tr>\n",
       "      <th>2017-04-30</th>\n",
       "      <td>NaN</td>\n",
       "      <td>13.059601</td>\n",
       "      <td>12.852551</td>\n",
       "      <td>13.257042</td>\n",
       "    </tr>\n",
       "    <tr>\n",
       "      <th>2017-05-31</th>\n",
       "      <td>NaN</td>\n",
       "      <td>13.055874</td>\n",
       "      <td>12.831924</td>\n",
       "      <td>13.266471</td>\n",
       "    </tr>\n",
       "    <tr>\n",
       "      <th>2017-06-30</th>\n",
       "      <td>NaN</td>\n",
       "      <td>13.076325</td>\n",
       "      <td>12.837831</td>\n",
       "      <td>13.298121</td>\n",
       "    </tr>\n",
       "    <tr>\n",
       "      <th>2017-07-31</th>\n",
       "      <td>NaN</td>\n",
       "      <td>13.056053</td>\n",
       "      <td>12.798666</td>\n",
       "      <td>13.293805</td>\n",
       "    </tr>\n",
       "    <tr>\n",
       "      <th>2017-08-31</th>\n",
       "      <td>NaN</td>\n",
       "      <td>13.027370</td>\n",
       "      <td>12.746165</td>\n",
       "      <td>13.283850</td>\n",
       "    </tr>\n",
       "  </tbody>\n",
       "</table>\n",
       "</div>"
      ],
      "text/plain": [
       "            sales       yhat  yhat_lower  yhat_upper\n",
       "2017-04-30    NaN  13.059601   12.852551   13.257042\n",
       "2017-05-31    NaN  13.055874   12.831924   13.266471\n",
       "2017-06-30    NaN  13.076325   12.837831   13.298121\n",
       "2017-07-31    NaN  13.056053   12.798666   13.293805\n",
       "2017-08-31    NaN  13.027370   12.746165   13.283850"
      ]
     },
     "execution_count": 23,
     "metadata": {},
     "output_type": "execute_result"
    }
   ],
   "source": [
    "union_df.tail()"
   ]
  },
  {
   "cell_type": "code",
   "execution_count": 24,
   "metadata": {},
   "outputs": [],
   "source": [
    "# escalamos a los valores originales los anteriormente escalados\n",
    "union_df['yhat_rescaled'] = np.exp(union_df['yhat'])"
   ]
  },
  {
   "cell_type": "code",
   "execution_count": 25,
   "metadata": {},
   "outputs": [
    {
     "data": {
      "text/html": [
       "<div>\n",
       "<style scoped>\n",
       "    .dataframe tbody tr th:only-of-type {\n",
       "        vertical-align: middle;\n",
       "    }\n",
       "\n",
       "    .dataframe tbody tr th {\n",
       "        vertical-align: top;\n",
       "    }\n",
       "\n",
       "    .dataframe thead th {\n",
       "        text-align: right;\n",
       "    }\n",
       "</style>\n",
       "<table border=\"1\" class=\"dataframe\">\n",
       "  <thead>\n",
       "    <tr style=\"text-align: right;\">\n",
       "      <th></th>\n",
       "      <th>sales</th>\n",
       "      <th>yhat</th>\n",
       "      <th>yhat_lower</th>\n",
       "      <th>yhat_upper</th>\n",
       "      <th>yhat_rescaled</th>\n",
       "    </tr>\n",
       "  </thead>\n",
       "  <tbody>\n",
       "    <tr>\n",
       "      <th>2009-10-01</th>\n",
       "      <td>338630.0</td>\n",
       "      <td>12.728916</td>\n",
       "      <td>12.718812</td>\n",
       "      <td>12.738561</td>\n",
       "      <td>337363.512361</td>\n",
       "    </tr>\n",
       "    <tr>\n",
       "      <th>2009-11-01</th>\n",
       "      <td>339386.0</td>\n",
       "      <td>12.749435</td>\n",
       "      <td>12.739040</td>\n",
       "      <td>12.759768</td>\n",
       "      <td>344357.309601</td>\n",
       "    </tr>\n",
       "    <tr>\n",
       "      <th>2009-12-01</th>\n",
       "      <td>400264.0</td>\n",
       "      <td>12.887444</td>\n",
       "      <td>12.877375</td>\n",
       "      <td>12.897285</td>\n",
       "      <td>395317.159234</td>\n",
       "    </tr>\n",
       "    <tr>\n",
       "      <th>2010-01-01</th>\n",
       "      <td>314640.0</td>\n",
       "      <td>12.662469</td>\n",
       "      <td>12.652586</td>\n",
       "      <td>12.672699</td>\n",
       "      <td>315675.290364</td>\n",
       "    </tr>\n",
       "    <tr>\n",
       "      <th>2010-02-01</th>\n",
       "      <td>311022.0</td>\n",
       "      <td>12.655825</td>\n",
       "      <td>12.645891</td>\n",
       "      <td>12.665439</td>\n",
       "      <td>313584.857535</td>\n",
       "    </tr>\n",
       "  </tbody>\n",
       "</table>\n",
       "</div>"
      ],
      "text/plain": [
       "               sales       yhat  yhat_lower  yhat_upper  yhat_rescaled\n",
       "2009-10-01  338630.0  12.728916   12.718812   12.738561  337363.512361\n",
       "2009-11-01  339386.0  12.749435   12.739040   12.759768  344357.309601\n",
       "2009-12-01  400264.0  12.887444   12.877375   12.897285  395317.159234\n",
       "2010-01-01  314640.0  12.662469   12.652586   12.672699  315675.290364\n",
       "2010-02-01  311022.0  12.655825   12.645891   12.665439  313584.857535"
      ]
     },
     "execution_count": 25,
     "metadata": {},
     "output_type": "execute_result"
    }
   ],
   "source": [
    "union_df.head()"
   ]
  },
  {
   "cell_type": "code",
   "execution_count": 26,
   "metadata": {},
   "outputs": [
    {
     "data": {
      "text/html": [
       "<div>\n",
       "<style scoped>\n",
       "    .dataframe tbody tr th:only-of-type {\n",
       "        vertical-align: middle;\n",
       "    }\n",
       "\n",
       "    .dataframe tbody tr th {\n",
       "        vertical-align: top;\n",
       "    }\n",
       "\n",
       "    .dataframe thead th {\n",
       "        text-align: right;\n",
       "    }\n",
       "</style>\n",
       "<table border=\"1\" class=\"dataframe\">\n",
       "  <thead>\n",
       "    <tr style=\"text-align: right;\">\n",
       "      <th></th>\n",
       "      <th>sales</th>\n",
       "      <th>yhat</th>\n",
       "      <th>yhat_lower</th>\n",
       "      <th>yhat_upper</th>\n",
       "      <th>yhat_rescaled</th>\n",
       "    </tr>\n",
       "  </thead>\n",
       "  <tbody>\n",
       "    <tr>\n",
       "      <th>2017-04-30</th>\n",
       "      <td>NaN</td>\n",
       "      <td>13.059601</td>\n",
       "      <td>12.852551</td>\n",
       "      <td>13.257042</td>\n",
       "      <td>469583.265754</td>\n",
       "    </tr>\n",
       "    <tr>\n",
       "      <th>2017-05-31</th>\n",
       "      <td>NaN</td>\n",
       "      <td>13.055874</td>\n",
       "      <td>12.831924</td>\n",
       "      <td>13.266471</td>\n",
       "      <td>467836.523832</td>\n",
       "    </tr>\n",
       "    <tr>\n",
       "      <th>2017-06-30</th>\n",
       "      <td>NaN</td>\n",
       "      <td>13.076325</td>\n",
       "      <td>12.837831</td>\n",
       "      <td>13.298121</td>\n",
       "      <td>477502.742432</td>\n",
       "    </tr>\n",
       "    <tr>\n",
       "      <th>2017-07-31</th>\n",
       "      <td>NaN</td>\n",
       "      <td>13.056053</td>\n",
       "      <td>12.798666</td>\n",
       "      <td>13.293805</td>\n",
       "      <td>467920.138025</td>\n",
       "    </tr>\n",
       "    <tr>\n",
       "      <th>2017-08-31</th>\n",
       "      <td>NaN</td>\n",
       "      <td>13.027370</td>\n",
       "      <td>12.746165</td>\n",
       "      <td>13.283850</td>\n",
       "      <td>454689.619378</td>\n",
       "    </tr>\n",
       "  </tbody>\n",
       "</table>\n",
       "</div>"
      ],
      "text/plain": [
       "            sales       yhat  yhat_lower  yhat_upper  yhat_rescaled\n",
       "2017-04-30    NaN  13.059601   12.852551   13.257042  469583.265754\n",
       "2017-05-31    NaN  13.055874   12.831924   13.266471  467836.523832\n",
       "2017-06-30    NaN  13.076325   12.837831   13.298121  477502.742432\n",
       "2017-07-31    NaN  13.056053   12.798666   13.293805  467920.138025\n",
       "2017-08-31    NaN  13.027370   12.746165   13.283850  454689.619378"
      ]
     },
     "execution_count": 26,
     "metadata": {},
     "output_type": "execute_result"
    }
   ],
   "source": [
    "union_df.tail()"
   ]
  },
  {
   "cell_type": "code",
   "execution_count": 27,
   "metadata": {},
   "outputs": [
    {
     "data": {
      "text/plain": [
       "<matplotlib.axes._subplots.AxesSubplot at 0x7f975cbe4790>"
      ]
     },
     "execution_count": 27,
     "metadata": {},
     "output_type": "execute_result"
    },
    {
     "data": {
      "image/png": "[encoded data removed]",
      "text/plain": [
       "<Figure size 432x288 with 1 Axes>"
      ]
     },
     "metadata": {
      "needs_background": "light"
     },
     "output_type": "display_data"
    }
   ],
   "source": [
    "union_df[['sales', 'yhat_rescaled']].plot()"
   ]
  },
  {
   "cell_type": "code",
   "execution_count": null,
   "metadata": {},
   "outputs": [],
   "source": []
  }
 ],
 "metadata": {
  "kernelspec": {
   "display_name": "Python 3",
   "language": "python",
   "name": "python3"
  },
  "language_info": {
   "codemirror_mode": {
    "name": "ipython",
    "version": 3
   },
   "file_extension": ".py",
   "mimetype": "text/x-python",
   "name": "python",
   "nbconvert_exporter": "python",
   "pygments_lexer": "ipython3",
   "version": "3.8.5"
  }
 },
 "nbformat": 4,
 "nbformat_minor": 2
}
